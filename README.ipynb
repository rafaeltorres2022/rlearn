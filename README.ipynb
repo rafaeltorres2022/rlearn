{
 "cells": [
  {
   "cell_type": "markdown",
   "metadata": {},
   "source": [
    "# rlearn\n",
    "Learning machine learning algorithms."
   ]
  },
  {
   "cell_type": "markdown",
   "metadata": {},
   "source": [
    "# Table of Contents\n",
    "- [Linear Models](#Linear-Models)  \n",
    "    - [Binary Classification](#binary-classification)  \n",
    "        - [Standard Perceptron](#standard-perceptron)  \n",
    "        - [Logistic Regression](#perceptron-with-sigmoid-activation)\n",
    "    - [Regression](#regression)  \n",
    "        - [Ordinary Least Squares](#ordinary-least-squares)\n",
    "        - [Linear Regression](#perceptron-with-linear-activation)\n",
    "        - [Elastic Net](#elastic-net)\n",
    "- [Neural Networks](#neural-networks)  \n",
    "    - [Regression](#regression-with-neural-network)  \n",
    "        - [Multilayer Perceptron](#multilayer-perceptron)\n",
    "    - [Multiclass Classification](#multiclass-classification)  \n",
    "        - [Multilayer Perceptron](#multilayer-perceptron-classification)\n",
    "        - [Convolutional Neural Network](#convolutional-neural-network)  \n",
    "- [Trees](#trees)\n",
    "    - [Regression](#regression-with-trees)  \n",
    "        - [Decision Tree](#decision-tree-regressor)  \n",
    "        - [Random Forest](#random-forest-regressor)  \n",
    "        - [Gradient Boosting Regressor](#gradient-boosting-regressor)\n",
    "    - [Classification](#classification-with-trees)  \n",
    "        - [Decision Tree](#decision-tree-classifier)\n",
    "        - [Random Forest](#random-forest-classifier)\n",
    "        - [Gradient Boosting Classifier](#gradient-boosting-classifier)\n",
    "- [Clusters](#clusters)\n",
    "    - [K-Means](#k-means)\n",
    "    - [DBSCAN](#dbscan)\n",
    "- [Neighbors](#neighbours)  \n",
    "    - [Classification](#classification-with-knn)  \n",
    "        - [K-Nearest Neighbors](#k-nearest-neighbours-classifier)\n",
    "    - [Regression](#regression-with-knn)\n",
    "        - [K-Nearest Neighbors Regressor](#k-nearest-neighbours-regressor)"
   ]
  },
  {
   "cell_type": "markdown",
   "metadata": {},
   "source": [
    "## [Linear Models](rlearn\\linear_model.py)"
   ]
  },
  {
   "cell_type": "code",
   "execution_count": 5,
   "metadata": {},
   "outputs": [],
   "source": [
    "import matplotlib.pyplot as plt\n",
    "import numpy as np\n",
    "from rlearn.solvers import *\n",
    "from sklearn.model_selection import train_test_split\n",
    "from sklearn.metrics import f1_score, mean_squared_error, classification_report\n",
    "\n",
    "np.set_printoptions(precision=2, suppress=1)"
   ]
  },
  {
   "cell_type": "markdown",
   "metadata": {},
   "source": [
    "### Binary Classification"
   ]
  },
  {
   "cell_type": "markdown",
   "metadata": {},
   "source": [
    "Dataset used for binary classification examples:"
   ]
  },
  {
   "cell_type": "code",
   "execution_count": 2,
   "metadata": {},
   "outputs": [],
   "source": [
    "from sklearn.datasets import load_breast_cancer\n",
    "\n",
    "X, y = load_breast_cancer(return_X_y=True)\n",
    "X_train, X_test, y_train, y_test = train_test_split(\n",
    "    X, y, test_size=0.20, random_state=42\n",
    ")"
   ]
  },
  {
   "cell_type": "markdown",
   "metadata": {},
   "source": [
    "#### Standard Perceptron"
   ]
  },
  {
   "cell_type": "code",
   "execution_count": 3,
   "metadata": {},
   "outputs": [
    {
     "name": "stdout",
     "output_type": "stream",
     "text": [
      "              precision    recall  f1-score   support\n",
      "\n",
      "           0       0.88      1.00      0.93        43\n",
      "           1       1.00      0.92      0.96        71\n",
      "\n",
      "    accuracy                           0.95       114\n",
      "   macro avg       0.94      0.96      0.95       114\n",
      "weighted avg       0.95      0.95      0.95       114\n",
      "\n"
     ]
    }
   ],
   "source": [
    "from rlearn.linear_model import Perceptron\n",
    "\n",
    "standard_perceptron = Perceptron(\n",
    "    solver=\"perceptron\", activation=\"step\", loss_function=\"perceptron\"\n",
    ")\n",
    "standard_perceptron.fit(X_train, y_train)\n",
    "\n",
    "print(classification_report(y_test, standard_perceptron.predict(X_test)))"
   ]
  },
  {
   "cell_type": "markdown",
   "metadata": {},
   "source": [
    "#### Perceptron with  Sigmoid Activation\n",
    "Which is equivalent to a Logistic Regression"
   ]
  },
  {
   "cell_type": "code",
   "execution_count": 13,
   "metadata": {},
   "outputs": [
    {
     "name": "stdout",
     "output_type": "stream",
     "text": [
      "              precision    recall  f1-score   support\n",
      "\n",
      "           0       1.00      0.81      0.90        43\n",
      "           1       0.90      1.00      0.95        71\n",
      "\n",
      "    accuracy                           0.93       114\n",
      "   macro avg       0.95      0.91      0.92       114\n",
      "weighted avg       0.94      0.93      0.93       114\n",
      "\n"
     ]
    }
   ],
   "source": [
    "logistic_model = Perceptron(activation=\"sigmoid\", loss_function=\"logloss\")\n",
    "logistic_model.fit(X_train, y_train)\n",
    "\n",
    "print(classification_report(y_test, logistic_model.predict(X_test)))"
   ]
  },
  {
   "cell_type": "markdown",
   "metadata": {},
   "source": [
    "### Regression"
   ]
  },
  {
   "cell_type": "markdown",
   "metadata": {},
   "source": [
    "Dataset used for regression examples"
   ]
  },
  {
   "cell_type": "code",
   "execution_count": 1,
   "metadata": {},
   "outputs": [
    {
     "ename": "NameError",
     "evalue": "name 'train_test_split' is not defined",
     "output_type": "error",
     "traceback": [
      "\u001b[1;31m---------------------------------------------------------------------------\u001b[0m",
      "\u001b[1;31mNameError\u001b[0m                                 Traceback (most recent call last)",
      "Cell \u001b[1;32mIn[1], line 4\u001b[0m\n\u001b[0;32m      1\u001b[0m \u001b[38;5;28;01mfrom\u001b[39;00m \u001b[38;5;21;01msklearn\u001b[39;00m\u001b[38;5;21;01m.\u001b[39;00m\u001b[38;5;21;01mdatasets\u001b[39;00m \u001b[38;5;28;01mimport\u001b[39;00m load_diabetes\n\u001b[0;32m      3\u001b[0m X, y \u001b[38;5;241m=\u001b[39m load_diabetes(return_X_y\u001b[38;5;241m=\u001b[39m\u001b[38;5;28;01mTrue\u001b[39;00m)\n\u001b[1;32m----> 4\u001b[0m X_train, X_test, y_train, y_test \u001b[38;5;241m=\u001b[39m \u001b[43mtrain_test_split\u001b[49m(\n\u001b[0;32m      5\u001b[0m     X, y, test_size\u001b[38;5;241m=\u001b[39m\u001b[38;5;241m0.20\u001b[39m, random_state\u001b[38;5;241m=\u001b[39m\u001b[38;5;241m42\u001b[39m\n\u001b[0;32m      6\u001b[0m )\n",
      "\u001b[1;31mNameError\u001b[0m: name 'train_test_split' is not defined"
     ]
    }
   ],
   "source": [
    "from sklearn.datasets import load_diabetes\n",
    "\n",
    "X, y = load_diabetes(return_X_y=True)\n",
    "X_train, X_test, y_train, y_test = train_test_split(\n",
    "    X, y, test_size=0.20, random_state=42\n",
    ")"
   ]
  },
  {
   "cell_type": "markdown",
   "metadata": {},
   "source": [
    "#### Ordinary Least Squares"
   ]
  },
  {
   "cell_type": "code",
   "execution_count": 24,
   "metadata": {},
   "outputs": [
    {
     "name": "stdout",
     "output_type": "stream",
     "text": [
      "Mean Squared Error: 2900.1936284934795\n"
     ]
    }
   ],
   "source": [
    "from rlearn.linear_model import OLS\n",
    "\n",
    "ols = OLS()\n",
    "ols.fit(X_train, y_train)\n",
    "print(\"Mean Squared Error:\", mean_squared_error(y_test, ols.predict(X_test)))"
   ]
  },
  {
   "cell_type": "markdown",
   "metadata": {},
   "source": [
    "#### Perceptron with Linear Activation\n",
    "Which is equivalent to a simple Linear Regression"
   ]
  },
  {
   "cell_type": "code",
   "execution_count": 29,
   "metadata": {},
   "outputs": [
    {
     "name": "stdout",
     "output_type": "stream",
     "text": [
      "Mean Squared Error: 2886.3682400969315\n"
     ]
    }
   ],
   "source": [
    "linear_regression = Perceptron(\n",
    "    activation=\"linear\",\n",
    "    solver=StochasticGradientDescent(learning_rate=0.1, momentum=0.9),\n",
    ")\n",
    "linear_regression.fit(X_train, y_train, epochs=100000)\n",
    "print(\n",
    "    \"Mean Squared Error:\", mean_squared_error(y_test, linear_regression.predict(X_test))\n",
    ")"
   ]
  },
  {
   "cell_type": "markdown",
   "metadata": {},
   "source": [
    "#### Elastic Net"
   ]
  },
  {
   "cell_type": "code",
   "execution_count": 69,
   "metadata": {},
   "outputs": [
    {
     "name": "stdout",
     "output_type": "stream",
     "text": [
      "Mean Squared Error: 2945.079897872204\n"
     ]
    }
   ],
   "source": [
    "from rlearn.linear_model import ElasticNet\n",
    "\n",
    "elastic_net = ElasticNet(alpha=1, l1_ratio=1, learning_rate=0.01, solver=\"sgd\")\n",
    "elastic_net.fit(X_train, y_train, verbose=0, epochs=100000)\n",
    "print(\"Mean Squared Error:\", mean_squared_error(y_test, elastic_net.predict(X_test)))"
   ]
  },
  {
   "cell_type": "markdown",
   "metadata": {},
   "source": [
    "## [Neural Networks](rlearn/nn.py)  \n",
    "<sub>[Back to top.](#table-of-contents)</sub>\n"
   ]
  },
  {
   "cell_type": "markdown",
   "metadata": {},
   "source": [
    "### Regression with Neural Network"
   ]
  },
  {
   "cell_type": "markdown",
   "metadata": {},
   "source": [
    "#### Multilayer Perceptron"
   ]
  },
  {
   "cell_type": "code",
   "execution_count": 72,
   "metadata": {},
   "outputs": [
    {
     "name": "stdout",
     "output_type": "stream",
     "text": [
      "Epoch 1: Training Loss 27955.21\tTest Loss 26366.34\n",
      "Epoch 10000: Training Loss 2931.24\tTest Loss 2783.92\n",
      "Epoch 20000: Training Loss 2790.74\tTest Loss 2667.35\n",
      "Epoch 30000: Training Loss 2749.40\tTest Loss 2628.80\n",
      "Epoch 40000: Training Loss 2710.99\tTest Loss 2624.76\n",
      "Epoch 50000: Training Loss 2686.43\tTest Loss 2617.87\n",
      "Mean Squared Error: 2617.8651642833656\n"
     ]
    }
   ],
   "source": [
    "from rlearn.nn import NNModel, FC\n",
    "from rlearn.activation_functions import *\n",
    "from rlearn.regularization import Regularization\n",
    "\n",
    "mlp_regularization = NNModel(\n",
    "    loss=\"mse\",\n",
    "    input_dim=X_train.shape[1:],\n",
    "    layers=[\n",
    "        FC(16, regularization=Regularization(alpha=1, l1_ratio=1)),\n",
    "        FC(1, activation=Relu()),\n",
    "    ],\n",
    ")\n",
    "\n",
    "mlp_regularization.fit(X_train, y_train, X_test, y_test, epochs=50000, verbose=10000)\n",
    "print(\n",
    "    \"Mean Squared Error:\",\n",
    "    mean_squared_error(y_test, mlp_regularization.predict(X_test, 1)),\n",
    ")"
   ]
  },
  {
   "cell_type": "markdown",
   "metadata": {},
   "source": [
    "### Multiclass Classification"
   ]
  },
  {
   "cell_type": "markdown",
   "metadata": {},
   "source": [
    "Dataset used for multiclass classification"
   ]
  },
  {
   "cell_type": "code",
   "execution_count": null,
   "metadata": {},
   "outputs": [],
   "source": [
    "from tensorflow.keras.datasets import fashion_mnist\n",
    "\n",
    "(X_train, y_train), (X_test, y_test) = fashion_mnist.load_data()\n",
    "X_train = X_train.reshape(*X_train.shape, 1)\n",
    "X_test = X_test.reshape(*X_test.shape, 1)\n",
    "X_train = X_train / 255\n",
    "X_test = X_test / 255"
   ]
  },
  {
   "cell_type": "markdown",
   "metadata": {},
   "source": [
    "#### Multilayer Perceptron Classification"
   ]
  },
  {
   "cell_type": "code",
   "execution_count": 96,
   "metadata": {},
   "outputs": [
    {
     "name": "stdout",
     "output_type": "stream",
     "text": [
      "Epoch 1: Training Loss 0.10\tTraining Accuracy 0.66\tTest Loss 0.09\tTest Accuracy 0.69\n",
      "Epoch 2: Training Loss 0.08\tTraining Accuracy 0.72\tTest Loss 0.07\tTest Accuracy 0.75\n",
      "Epoch 4: Training Loss 0.06\tTraining Accuracy 0.79\tTest Loss 0.06\tTest Accuracy 0.79\n",
      "Epoch 6: Training Loss 0.05\tTraining Accuracy 0.83\tTest Loss 0.05\tTest Accuracy 0.81\n",
      "Epoch 8: Training Loss 0.05\tTraining Accuracy 0.84\tTest Loss 0.05\tTest Accuracy 0.82\n",
      "Epoch 10: Training Loss 0.05\tTraining Accuracy 0.82\tTest Loss 0.05\tTest Accuracy 0.82\n",
      "              precision    recall  f1-score   support\n",
      "\n",
      "           0       0.66      0.90      0.76      1000\n",
      "           1       0.99      0.93      0.95      1000\n",
      "           2       0.71      0.71      0.71      1000\n",
      "           3       0.86      0.83      0.84      1000\n",
      "           4       0.68      0.80      0.73      1000\n",
      "           5       0.95      0.89      0.92      1000\n",
      "           6       0.70      0.36      0.47      1000\n",
      "           7       0.92      0.88      0.90      1000\n",
      "           8       0.91      0.95      0.93      1000\n",
      "           9       0.87      0.97      0.92      1000\n",
      "\n",
      "    accuracy                           0.82     10000\n",
      "   macro avg       0.82      0.82      0.81     10000\n",
      "weighted avg       0.82      0.82      0.81     10000\n",
      "\n"
     ]
    }
   ],
   "source": [
    "from rlearn.nn import Squeezing\n",
    "\n",
    "mlp_regularization = NNModel(\n",
    "    input_dim=X_train.shape[1:],\n",
    "    layers=[\n",
    "        Squeezing(),\n",
    "        FC(30, regularization=Regularization(alpha=1, l1_ratio=0)),\n",
    "        FC(10, activation=Softmax()),\n",
    "    ],\n",
    ")\n",
    "\n",
    "mlp_regularization.fit(X_train, y_train, X_test, y_test, epochs=10, verbose=2)\n",
    "print(classification_report(y_test, mlp_regularization.predict(X_test)))"
   ]
  },
  {
   "cell_type": "markdown",
   "metadata": {},
   "source": [
    "#### Convolutional Neural Network"
   ]
  },
  {
   "cell_type": "code",
   "execution_count": 98,
   "metadata": {},
   "outputs": [
    {
     "name": "stdout",
     "output_type": "stream",
     "text": [
      "Epoch 1: Training Loss 0.06\tTraining Accuracy 0.79\tTest Loss 0.07\tTest Accuracy 0.77\n",
      "Epoch 2: Training Loss 0.04\tTraining Accuracy 0.82\tTest Loss 0.06\tTest Accuracy 0.82\n",
      "Epoch 4: Training Loss 0.03\tTraining Accuracy 0.87\tTest Loss 0.05\tTest Accuracy 0.84\n",
      "Epoch 6: Training Loss 0.03\tTraining Accuracy 0.88\tTest Loss 0.04\tTest Accuracy 0.86\n",
      "Epoch 8: Training Loss 0.03\tTraining Accuracy 0.89\tTest Loss 0.04\tTest Accuracy 0.87\n",
      "Epoch 10: Training Loss 0.03\tTraining Accuracy 0.88\tTest Loss 0.04\tTest Accuracy 0.87\n",
      "              precision    recall  f1-score   support\n",
      "\n",
      "           0       0.83      0.79      0.81      1000\n",
      "           1       0.98      0.96      0.97      1000\n",
      "           2       0.80      0.76      0.78      1000\n",
      "           3       0.86      0.90      0.88      1000\n",
      "           4       0.76      0.82      0.79      1000\n",
      "           5       0.97      0.96      0.96      1000\n",
      "           6       0.64      0.64      0.64      1000\n",
      "           7       0.95      0.92      0.94      1000\n",
      "           8       0.97      0.95      0.96      1000\n",
      "           9       0.93      0.97      0.95      1000\n",
      "\n",
      "    accuracy                           0.87     10000\n",
      "   macro avg       0.87      0.87      0.87     10000\n",
      "weighted avg       0.87      0.87      0.87     10000\n",
      "\n"
     ]
    }
   ],
   "source": [
    "from rlearn.nn import Conv3C, MaxPooling\n",
    "\n",
    "convnn_regularization = NNModel(\n",
    "    input_dim=X_train.shape[1:],\n",
    "    layers=[\n",
    "        Conv3C(\n",
    "            kernel_size=3,\n",
    "            n_chanels_kernel=X_train.shape[-1],\n",
    "            out_channels=8,\n",
    "            regularization=Regularization(1, 0),\n",
    "        ),\n",
    "        MaxPooling(),\n",
    "        Squeezing(),\n",
    "        FC(10, activation=Softmax()),\n",
    "    ],\n",
    ")\n",
    "\n",
    "convnn_regularization.fit(X_train, y_train, X_test, y_test, epochs=10, verbose=2)\n",
    "print(classification_report(y_test, convnn_regularization.predict(X_test)))"
   ]
  },
  {
   "cell_type": "markdown",
   "metadata": {},
   "source": [
    "## [Trees](rlearn/tree.py)  \n",
    "<sub>[Back to top.](#table-of-contents)</sub>"
   ]
  },
  {
   "cell_type": "markdown",
   "metadata": {},
   "source": [
    "### Regression with Trees"
   ]
  },
  {
   "cell_type": "markdown",
   "metadata": {},
   "source": [
    "Dataset used for Regression. My implementation of Decision Trees requires DataFrame as input."
   ]
  },
  {
   "cell_type": "code",
   "execution_count": 6,
   "metadata": {},
   "outputs": [],
   "source": [
    "from rlearn.tree_utils import plot_tree\n",
    "\n",
    "X, y = load_diabetes(return_X_y=True)\n",
    "split_delimiter = int(len(X) * 0.7)\n",
    "X_train = X[:split_delimiter]\n",
    "y_train = y[:split_delimiter]\n",
    "X_test = X[split_delimiter:]\n",
    "y_test = y[split_delimiter:]"
   ]
  },
  {
   "cell_type": "markdown",
   "metadata": {},
   "source": [
    "#### Decision Tree Regressor"
   ]
  },
  {
   "cell_type": "code",
   "execution_count": 7,
   "metadata": {},
   "outputs": [
    {
     "name": "stdout",
     "output_type": "stream",
     "text": [
      "Mean Squared Error: 4193.494500508087\n"
     ]
    }
   ],
   "source": [
    "from rlearn.tree import DecisionTreeRegressor\n",
    "\n",
    "dtr = DecisionTreeRegressor(max_depth=4, min_samples_split=20)\n",
    "dtr.fit(X_train, y_train)\n",
    "\n",
    "print(\"Mean Squared Error:\", mean_squared_error(y_test, dtr.predict(X_test)))"
   ]
  },
  {
   "cell_type": "code",
   "execution_count": 8,
   "metadata": {},
   "outputs": [
    {
     "data": {
      "image/svg+xml": [
       "<?xml version=\"1.0\" encoding=\"UTF-8\" standalone=\"no\"?>\n",
       "<!DOCTYPE svg PUBLIC \"-//W3C//DTD SVG 1.1//EN\"\n",
       " \"http://www.w3.org/Graphics/SVG/1.1/DTD/svg11.dtd\">\n",
       "<!-- Generated by graphviz version 10.0.1 (20240210.2158)\n",
       " -->\n",
       "<!-- Title: tree Pages: 1 -->\n",
       "<svg width=\"720pt\" height=\"196pt\"\n",
       " viewBox=\"0.00 0.00 720.00 195.75\" xmlns=\"http://www.w3.org/2000/svg\" xmlns:xlink=\"http://www.w3.org/1999/xlink\">\n",
       "<g id=\"graph0\" class=\"graph\" transform=\"scale(0.398478 0.398478) rotate(0) translate(4 487.25)\">\n",
       "<title>tree</title>\n",
       "<polygon fill=\"white\" stroke=\"none\" points=\"-4,4 -4,-487.25 1802.88,-487.25 1802.88,4 -4,4\"/>\n",
       "<!-- method&#45;wrapper &#39;__hash__&#39; of Node object at 0x000001D483852DD0 -->\n",
       "<g id=\"node1\" class=\"node\">\n",
       "<title>method&#45;wrapper &#39;__hash__&#39; of Node object at 0x000001D483852DD0</title>\n",
       "<polygon fill=\"none\" stroke=\"black\" points=\"1052.88,-483.25 932.62,-483.25 932.62,-428 1052.88,-428 1052.88,-483.25\"/>\n",
       "<text text-anchor=\"middle\" x=\"992.75\" y=\"-465.95\" font-family=\"Times New Roman,serif\" font-size=\"14.00\">8&lt;=0.016</text>\n",
       "<text text-anchor=\"middle\" x=\"992.75\" y=\"-450.2\" font-family=\"Times New Roman,serif\" font-size=\"14.00\">SSR: 1864033.113</text>\n",
       "<text text-anchor=\"middle\" x=\"992.75\" y=\"-434.45\" font-family=\"Times New Roman,serif\" font-size=\"14.00\">Leaf: False</text>\n",
       "</g>\n",
       "<!-- method&#45;wrapper &#39;__hash__&#39; of Node object at 0x000001D4838A8410 -->\n",
       "<g id=\"node2\" class=\"node\">\n",
       "<title>method&#45;wrapper &#39;__hash__&#39; of Node object at 0x000001D4838A8410</title>\n",
       "<polygon fill=\"none\" stroke=\"black\" points=\"876.5,-392 763,-392 763,-336.75 876.5,-336.75 876.5,-392\"/>\n",
       "<text text-anchor=\"middle\" x=\"819.75\" y=\"-374.7\" font-family=\"Times New Roman,serif\" font-size=\"14.00\">2&lt;=0.006</text>\n",
       "<text text-anchor=\"middle\" x=\"819.75\" y=\"-358.95\" font-family=\"Times New Roman,serif\" font-size=\"14.00\">SSR: 749926.289</text>\n",
       "<text text-anchor=\"middle\" x=\"819.75\" y=\"-343.2\" font-family=\"Times New Roman,serif\" font-size=\"14.00\">Leaf: False</text>\n",
       "</g>\n",
       "<!-- method&#45;wrapper &#39;__hash__&#39; of Node object at 0x000001D483852DD0&#45;&gt;method&#45;wrapper &#39;__hash__&#39; of Node object at 0x000001D4838A8410 -->\n",
       "<g id=\"edge1\" class=\"edge\">\n",
       "<title>method&#45;wrapper &#39;__hash__&#39; of Node object at 0x000001D483852DD0&#45;&gt;method&#45;wrapper &#39;__hash__&#39; of Node object at 0x000001D4838A8410</title>\n",
       "<path fill=\"none\" stroke=\"black\" d=\"M940.37,-427.6C922.08,-418.17 901.36,-407.48 882.32,-397.66\"/>\n",
       "<polygon fill=\"black\" stroke=\"black\" points=\"884.08,-394.63 873.59,-393.15 880.87,-400.85 884.08,-394.63\"/>\n",
       "</g>\n",
       "<!-- method&#45;wrapper &#39;__hash__&#39; of Node object at 0x000001D4C264BCD0 -->\n",
       "<g id=\"node3\" class=\"node\">\n",
       "<title>method&#45;wrapper &#39;__hash__&#39; of Node object at 0x000001D4C264BCD0</title>\n",
       "<polygon fill=\"none\" stroke=\"black\" points=\"1306.5,-392 1193,-392 1193,-336.75 1306.5,-336.75 1306.5,-392\"/>\n",
       "<text text-anchor=\"middle\" x=\"1249.75\" y=\"-374.7\" font-family=\"Times New Roman,serif\" font-size=\"14.00\">3&lt;=0.060</text>\n",
       "<text text-anchor=\"middle\" x=\"1249.75\" y=\"-358.95\" font-family=\"Times New Roman,serif\" font-size=\"14.00\">SSR: 505500.762</text>\n",
       "<text text-anchor=\"middle\" x=\"1249.75\" y=\"-343.2\" font-family=\"Times New Roman,serif\" font-size=\"14.00\">Leaf: False</text>\n",
       "</g>\n",
       "<!-- method&#45;wrapper &#39;__hash__&#39; of Node object at 0x000001D483852DD0&#45;&gt;method&#45;wrapper &#39;__hash__&#39; of Node object at 0x000001D4C264BCD0 -->\n",
       "<g id=\"edge2\" class=\"edge\">\n",
       "<title>method&#45;wrapper &#39;__hash__&#39; of Node object at 0x000001D483852DD0&#45;&gt;method&#45;wrapper &#39;__hash__&#39; of Node object at 0x000001D4C264BCD0</title>\n",
       "<path fill=\"none\" stroke=\"black\" d=\"M1053.33,-433.59C1091.94,-420.18 1142.02,-402.79 1181.95,-388.92\"/>\n",
       "<polygon fill=\"black\" stroke=\"black\" points=\"1182.93,-392.28 1191.23,-385.7 1180.64,-385.67 1182.93,-392.28\"/>\n",
       "</g>\n",
       "<!-- method&#45;wrapper &#39;__hash__&#39; of Node object at 0x000001D4C36FC2D0 -->\n",
       "<g id=\"node4\" class=\"node\">\n",
       "<title>method&#45;wrapper &#39;__hash__&#39; of Node object at 0x000001D4C36FC2D0</title>\n",
       "<polygon fill=\"none\" stroke=\"black\" points=\"501.5,-300.75 388,-300.75 388,-245.5 501.5,-245.5 501.5,-300.75\"/>\n",
       "<text text-anchor=\"middle\" x=\"444.75\" y=\"-283.45\" font-family=\"Times New Roman,serif\" font-size=\"14.00\">8&lt;=&#45;0.009</text>\n",
       "<text text-anchor=\"middle\" x=\"444.75\" y=\"-267.7\" font-family=\"Times New Roman,serif\" font-size=\"14.00\">SSR: 369896.224</text>\n",
       "<text text-anchor=\"middle\" x=\"444.75\" y=\"-251.95\" font-family=\"Times New Roman,serif\" font-size=\"14.00\">Leaf: False</text>\n",
       "</g>\n",
       "<!-- method&#45;wrapper &#39;__hash__&#39; of Node object at 0x000001D4838A8410&#45;&gt;method&#45;wrapper &#39;__hash__&#39; of Node object at 0x000001D4C36FC2D0 -->\n",
       "<g id=\"edge3\" class=\"edge\">\n",
       "<title>method&#45;wrapper &#39;__hash__&#39; of Node object at 0x000001D4838A8410&#45;&gt;method&#45;wrapper &#39;__hash__&#39; of Node object at 0x000001D4C36FC2D0</title>\n",
       "<path fill=\"none\" stroke=\"black\" d=\"M762.8,-349.82C695.79,-333.87 584.64,-307.42 513.07,-290.38\"/>\n",
       "<polygon fill=\"black\" stroke=\"black\" points=\"513.94,-287 503.4,-288.08 512.32,-293.81 513.94,-287\"/>\n",
       "</g>\n",
       "<!-- method&#45;wrapper &#39;__hash__&#39; of Node object at 0x000001D4C36FC210 -->\n",
       "<g id=\"node5\" class=\"node\">\n",
       "<title>method&#45;wrapper &#39;__hash__&#39; of Node object at 0x000001D4C36FC210</title>\n",
       "<polygon fill=\"none\" stroke=\"black\" points=\"876.5,-300.75 763,-300.75 763,-245.5 876.5,-245.5 876.5,-300.75\"/>\n",
       "<text text-anchor=\"middle\" x=\"819.75\" y=\"-283.45\" font-family=\"Times New Roman,serif\" font-size=\"14.00\">2&lt;=0.081</text>\n",
       "<text text-anchor=\"middle\" x=\"819.75\" y=\"-267.7\" font-family=\"Times New Roman,serif\" font-size=\"14.00\">SSR: 211484.000</text>\n",
       "<text text-anchor=\"middle\" x=\"819.75\" y=\"-251.95\" font-family=\"Times New Roman,serif\" font-size=\"14.00\">Leaf: False</text>\n",
       "</g>\n",
       "<!-- method&#45;wrapper &#39;__hash__&#39; of Node object at 0x000001D4838A8410&#45;&gt;method&#45;wrapper &#39;__hash__&#39; of Node object at 0x000001D4C36FC210 -->\n",
       "<g id=\"edge4\" class=\"edge\">\n",
       "<title>method&#45;wrapper &#39;__hash__&#39; of Node object at 0x000001D4838A8410&#45;&gt;method&#45;wrapper &#39;__hash__&#39; of Node object at 0x000001D4C36FC210</title>\n",
       "<path fill=\"none\" stroke=\"black\" d=\"M819.75,-336.6C819.75,-329.08 819.75,-320.75 819.75,-312.68\"/>\n",
       "<polygon fill=\"black\" stroke=\"black\" points=\"823.25,-312.71 819.75,-302.71 816.25,-312.71 823.25,-312.71\"/>\n",
       "</g>\n",
       "<!-- method&#45;wrapper &#39;__hash__&#39; of Node object at 0x000001D4C35072D0 -->\n",
       "<g id=\"node6\" class=\"node\">\n",
       "<title>method&#45;wrapper &#39;__hash__&#39; of Node object at 0x000001D4C35072D0</title>\n",
       "<polygon fill=\"none\" stroke=\"black\" points=\"1306.5,-300.75 1193,-300.75 1193,-245.5 1306.5,-245.5 1306.5,-300.75\"/>\n",
       "<text text-anchor=\"middle\" x=\"1249.75\" y=\"-283.45\" font-family=\"Times New Roman,serif\" font-size=\"14.00\">9&lt;=0.028</text>\n",
       "<text text-anchor=\"middle\" x=\"1249.75\" y=\"-267.7\" font-family=\"Times New Roman,serif\" font-size=\"14.00\">SSR: 366725.688</text>\n",
       "<text text-anchor=\"middle\" x=\"1249.75\" y=\"-251.95\" font-family=\"Times New Roman,serif\" font-size=\"14.00\">Leaf: False</text>\n",
       "</g>\n",
       "<!-- method&#45;wrapper &#39;__hash__&#39; of Node object at 0x000001D4C264BCD0&#45;&gt;method&#45;wrapper &#39;__hash__&#39; of Node object at 0x000001D4C35072D0 -->\n",
       "<g id=\"edge5\" class=\"edge\">\n",
       "<title>method&#45;wrapper &#39;__hash__&#39; of Node object at 0x000001D4C264BCD0&#45;&gt;method&#45;wrapper &#39;__hash__&#39; of Node object at 0x000001D4C35072D0</title>\n",
       "<path fill=\"none\" stroke=\"black\" d=\"M1249.75,-336.6C1249.75,-329.08 1249.75,-320.75 1249.75,-312.68\"/>\n",
       "<polygon fill=\"black\" stroke=\"black\" points=\"1253.25,-312.71 1249.75,-302.71 1246.25,-312.71 1253.25,-312.71\"/>\n",
       "</g>\n",
       "<!-- method&#45;wrapper &#39;__hash__&#39; of Node object at 0x000001D4C36E7FD0 -->\n",
       "<g id=\"node7\" class=\"node\">\n",
       "<title>method&#45;wrapper &#39;__hash__&#39; of Node object at 0x000001D4C36E7FD0</title>\n",
       "<polygon fill=\"none\" stroke=\"black\" points=\"1604.12,-300.75 1497.38,-300.75 1497.38,-245.5 1604.12,-245.5 1604.12,-300.75\"/>\n",
       "<text text-anchor=\"middle\" x=\"1550.75\" y=\"-283.45\" font-family=\"Times New Roman,serif\" font-size=\"14.00\">5&lt;=0.100</text>\n",
       "<text text-anchor=\"middle\" x=\"1550.75\" y=\"-267.7\" font-family=\"Times New Roman,serif\" font-size=\"14.00\">SSR: 32096.000</text>\n",
       "<text text-anchor=\"middle\" x=\"1550.75\" y=\"-251.95\" font-family=\"Times New Roman,serif\" font-size=\"14.00\">Leaf: False</text>\n",
       "</g>\n",
       "<!-- method&#45;wrapper &#39;__hash__&#39; of Node object at 0x000001D4C264BCD0&#45;&gt;method&#45;wrapper &#39;__hash__&#39; of Node object at 0x000001D4C36E7FD0 -->\n",
       "<g id=\"edge6\" class=\"edge\">\n",
       "<title>method&#45;wrapper &#39;__hash__&#39; of Node object at 0x000001D4C264BCD0&#45;&gt;method&#45;wrapper &#39;__hash__&#39; of Node object at 0x000001D4C36E7FD0</title>\n",
       "<path fill=\"none\" stroke=\"black\" d=\"M1306.72,-346.48C1357.8,-331.34 1432.69,-309.13 1486.01,-293.32\"/>\n",
       "<polygon fill=\"black\" stroke=\"black\" points=\"1487,-296.68 1495.6,-290.48 1485.01,-289.97 1487,-296.68\"/>\n",
       "</g>\n",
       "<!-- method&#45;wrapper &#39;__hash__&#39; of Node object at 0x000001D4C36FC090 -->\n",
       "<g id=\"node8\" class=\"node\">\n",
       "<title>method&#45;wrapper &#39;__hash__&#39; of Node object at 0x000001D4C36FC090</title>\n",
       "<polygon fill=\"none\" stroke=\"black\" points=\"295.5,-193.75 182,-193.75 182,-138.5 295.5,-138.5 295.5,-193.75\"/>\n",
       "<text text-anchor=\"middle\" x=\"238.75\" y=\"-176.45\" font-family=\"Times New Roman,serif\" font-size=\"14.00\">5&lt;=0.113</text>\n",
       "<text text-anchor=\"middle\" x=\"238.75\" y=\"-160.7\" font-family=\"Times New Roman,serif\" font-size=\"14.00\">SSR: 210325.791</text>\n",
       "<text text-anchor=\"middle\" x=\"238.75\" y=\"-144.95\" font-family=\"Times New Roman,serif\" font-size=\"14.00\">Leaf: False</text>\n",
       "</g>\n",
       "<!-- method&#45;wrapper &#39;__hash__&#39; of Node object at 0x000001D4C36FC2D0&#45;&gt;method&#45;wrapper &#39;__hash__&#39; of Node object at 0x000001D4C36FC090 -->\n",
       "<g id=\"edge7\" class=\"edge\">\n",
       "<title>method&#45;wrapper &#39;__hash__&#39; of Node object at 0x000001D4C36FC2D0&#45;&gt;method&#45;wrapper &#39;__hash__&#39; of Node object at 0x000001D4C36FC090</title>\n",
       "<path fill=\"none\" stroke=\"black\" d=\"M391.7,-245.08C364.19,-231.06 330.4,-213.84 301.59,-199.15\"/>\n",
       "<polygon fill=\"black\" stroke=\"black\" points=\"303.47,-196.18 292.97,-194.76 300.29,-202.42 303.47,-196.18\"/>\n",
       "</g>\n",
       "<!-- method&#45;wrapper &#39;__hash__&#39; of Node object at 0x000001D4C36FC1D0 -->\n",
       "<g id=\"node9\" class=\"node\">\n",
       "<title>method&#45;wrapper &#39;__hash__&#39; of Node object at 0x000001D4C36FC1D0</title>\n",
       "<polygon fill=\"none\" stroke=\"black\" points=\"501.5,-193.75 388,-193.75 388,-138.5 501.5,-138.5 501.5,-193.75\"/>\n",
       "<text text-anchor=\"middle\" x=\"444.75\" y=\"-176.45\" font-family=\"Times New Roman,serif\" font-size=\"14.00\">4&lt;=&#45;0.029</text>\n",
       "<text text-anchor=\"middle\" x=\"444.75\" y=\"-160.7\" font-family=\"Times New Roman,serif\" font-size=\"14.00\">SSR: 119698.244</text>\n",
       "<text text-anchor=\"middle\" x=\"444.75\" y=\"-144.95\" font-family=\"Times New Roman,serif\" font-size=\"14.00\">Leaf: False</text>\n",
       "</g>\n",
       "<!-- method&#45;wrapper &#39;__hash__&#39; of Node object at 0x000001D4C36FC2D0&#45;&gt;method&#45;wrapper &#39;__hash__&#39; of Node object at 0x000001D4C36FC1D0 -->\n",
       "<g id=\"edge8\" class=\"edge\">\n",
       "<title>method&#45;wrapper &#39;__hash__&#39; of Node object at 0x000001D4C36FC2D0&#45;&gt;method&#45;wrapper &#39;__hash__&#39; of Node object at 0x000001D4C36FC1D0</title>\n",
       "<path fill=\"none\" stroke=\"black\" d=\"M444.75,-245.08C444.75,-232.96 444.75,-218.44 444.75,-205.24\"/>\n",
       "<polygon fill=\"black\" stroke=\"black\" points=\"448.25,-205.59 444.75,-195.59 441.25,-205.59 448.25,-205.59\"/>\n",
       "</g>\n",
       "<!-- method&#45;wrapper &#39;__hash__&#39; of Node object at 0x000001D4C2FB8E50 -->\n",
       "<g id=\"node10\" class=\"node\">\n",
       "<title>method&#45;wrapper &#39;__hash__&#39; of Node object at 0x000001D4C2FB8E50</title>\n",
       "<polygon fill=\"none\" stroke=\"black\" points=\"812.5,-193.75 699,-193.75 699,-138.5 812.5,-138.5 812.5,-193.75\"/>\n",
       "<text text-anchor=\"middle\" x=\"755.75\" y=\"-176.45\" font-family=\"Times New Roman,serif\" font-size=\"14.00\">0&lt;=&#45;0.080</text>\n",
       "<text text-anchor=\"middle\" x=\"755.75\" y=\"-160.7\" font-family=\"Times New Roman,serif\" font-size=\"14.00\">SSR: 157486.432</text>\n",
       "<text text-anchor=\"middle\" x=\"755.75\" y=\"-144.95\" font-family=\"Times New Roman,serif\" font-size=\"14.00\">Leaf: False</text>\n",
       "</g>\n",
       "<!-- method&#45;wrapper &#39;__hash__&#39; of Node object at 0x000001D4C36FC210&#45;&gt;method&#45;wrapper &#39;__hash__&#39; of Node object at 0x000001D4C2FB8E50 -->\n",
       "<g id=\"edge9\" class=\"edge\">\n",
       "<title>method&#45;wrapper &#39;__hash__&#39; of Node object at 0x000001D4C36FC210&#45;&gt;method&#45;wrapper &#39;__hash__&#39; of Node object at 0x000001D4C2FB8E50</title>\n",
       "<path fill=\"none\" stroke=\"black\" d=\"M803.27,-245.08C795.58,-232.47 786.31,-217.27 778.01,-203.65\"/>\n",
       "<polygon fill=\"black\" stroke=\"black\" points=\"781.16,-202.08 772.96,-195.37 775.18,-205.73 781.16,-202.08\"/>\n",
       "</g>\n",
       "<!-- method&#45;wrapper &#39;__hash__&#39; of Node object at 0x000001D4C26BBB10 -->\n",
       "<g id=\"node11\" class=\"node\">\n",
       "<title>method&#45;wrapper &#39;__hash__&#39; of Node object at 0x000001D4C26BBB10</title>\n",
       "<polygon fill=\"none\" stroke=\"black\" points=\"937.12,-209.5 830.38,-209.5 830.38,-122.75 937.12,-122.75 937.12,-209.5\"/>\n",
       "<text text-anchor=\"middle\" x=\"883.75\" y=\"-192.2\" font-family=\"Times New Roman,serif\" font-size=\"14.00\">0&lt;=0.004</text>\n",
       "<text text-anchor=\"middle\" x=\"883.75\" y=\"-176.45\" font-family=\"Times New Roman,serif\" font-size=\"14.00\">SSR: 10142.750</text>\n",
       "<text text-anchor=\"middle\" x=\"883.75\" y=\"-160.7\" font-family=\"Times New Roman,serif\" font-size=\"14.00\">Leaf: True</text>\n",
       "<text text-anchor=\"middle\" x=\"883.75\" y=\"-144.95\" font-family=\"Times New Roman,serif\" font-size=\"14.00\">N. Samples: 4</text>\n",
       "<text text-anchor=\"middle\" x=\"883.75\" y=\"-129.2\" font-family=\"Times New Roman,serif\" font-size=\"14.00\">Output: 269.75</text>\n",
       "</g>\n",
       "<!-- method&#45;wrapper &#39;__hash__&#39; of Node object at 0x000001D4C36FC210&#45;&gt;method&#45;wrapper &#39;__hash__&#39; of Node object at 0x000001D4C26BBB10 -->\n",
       "<g id=\"edge10\" class=\"edge\">\n",
       "<title>method&#45;wrapper &#39;__hash__&#39; of Node object at 0x000001D4C36FC210&#45;&gt;method&#45;wrapper &#39;__hash__&#39; of Node object at 0x000001D4C26BBB10</title>\n",
       "<path fill=\"none\" stroke=\"black\" d=\"M836.23,-245.08C841.02,-237.23 846.42,-228.37 851.81,-219.52\"/>\n",
       "<polygon fill=\"black\" stroke=\"black\" points=\"854.63,-221.62 856.85,-211.26 848.66,-217.97 854.63,-221.62\"/>\n",
       "</g>\n",
       "<!-- method&#45;wrapper &#39;__hash__&#39; of Node object at 0x000001D4C3507150 -->\n",
       "<g id=\"node12\" class=\"node\">\n",
       "<title>method&#45;wrapper &#39;__hash__&#39; of Node object at 0x000001D4C3507150</title>\n",
       "<polygon fill=\"none\" stroke=\"black\" points=\"1242.5,-193.75 1129,-193.75 1129,-138.5 1242.5,-138.5 1242.5,-193.75\"/>\n",
       "<text text-anchor=\"middle\" x=\"1185.75\" y=\"-176.45\" font-family=\"Times New Roman,serif\" font-size=\"14.00\">2&lt;=0.062</text>\n",
       "<text text-anchor=\"middle\" x=\"1185.75\" y=\"-160.7\" font-family=\"Times New Roman,serif\" font-size=\"14.00\">SSR: 234836.679</text>\n",
       "<text text-anchor=\"middle\" x=\"1185.75\" y=\"-144.95\" font-family=\"Times New Roman,serif\" font-size=\"14.00\">Leaf: False</text>\n",
       "</g>\n",
       "<!-- method&#45;wrapper &#39;__hash__&#39; of Node object at 0x000001D4C35072D0&#45;&gt;method&#45;wrapper &#39;__hash__&#39; of Node object at 0x000001D4C3507150 -->\n",
       "<g id=\"edge11\" class=\"edge\">\n",
       "<title>method&#45;wrapper &#39;__hash__&#39; of Node object at 0x000001D4C35072D0&#45;&gt;method&#45;wrapper &#39;__hash__&#39; of Node object at 0x000001D4C3507150</title>\n",
       "<path fill=\"none\" stroke=\"black\" d=\"M1233.27,-245.08C1225.58,-232.47 1216.31,-217.27 1208.01,-203.65\"/>\n",
       "<polygon fill=\"black\" stroke=\"black\" points=\"1211.16,-202.08 1202.96,-195.37 1205.18,-205.73 1211.16,-202.08\"/>\n",
       "</g>\n",
       "<!-- method&#45;wrapper &#39;__hash__&#39; of Node object at 0x000001D4C36E7ED0 -->\n",
       "<g id=\"node13\" class=\"node\">\n",
       "<title>method&#45;wrapper &#39;__hash__&#39; of Node object at 0x000001D4C36E7ED0</title>\n",
       "<polygon fill=\"none\" stroke=\"black\" points=\"1367.12,-193.75 1260.38,-193.75 1260.38,-138.5 1367.12,-138.5 1367.12,-193.75\"/>\n",
       "<text text-anchor=\"middle\" x=\"1313.75\" y=\"-176.45\" font-family=\"Times New Roman,serif\" font-size=\"14.00\">0&lt;=&#45;0.056</text>\n",
       "<text text-anchor=\"middle\" x=\"1313.75\" y=\"-160.7\" font-family=\"Times New Roman,serif\" font-size=\"14.00\">SSR: 68025.407</text>\n",
       "<text text-anchor=\"middle\" x=\"1313.75\" y=\"-144.95\" font-family=\"Times New Roman,serif\" font-size=\"14.00\">Leaf: False</text>\n",
       "</g>\n",
       "<!-- method&#45;wrapper &#39;__hash__&#39; of Node object at 0x000001D4C35072D0&#45;&gt;method&#45;wrapper &#39;__hash__&#39; of Node object at 0x000001D4C36E7ED0 -->\n",
       "<g id=\"edge12\" class=\"edge\">\n",
       "<title>method&#45;wrapper &#39;__hash__&#39; of Node object at 0x000001D4C35072D0&#45;&gt;method&#45;wrapper &#39;__hash__&#39; of Node object at 0x000001D4C36E7ED0</title>\n",
       "<path fill=\"none\" stroke=\"black\" d=\"M1266.23,-245.08C1273.92,-232.47 1283.19,-217.27 1291.49,-203.65\"/>\n",
       "<polygon fill=\"black\" stroke=\"black\" points=\"1294.32,-205.73 1296.54,-195.37 1288.34,-202.08 1294.32,-205.73\"/>\n",
       "</g>\n",
       "<!-- method&#45;wrapper &#39;__hash__&#39; of Node object at 0x000001D4C36E7F10 -->\n",
       "<g id=\"node14\" class=\"node\">\n",
       "<title>method&#45;wrapper &#39;__hash__&#39; of Node object at 0x000001D4C36E7F10</title>\n",
       "<polygon fill=\"none\" stroke=\"black\" points=\"1604.12,-193.75 1497.38,-193.75 1497.38,-138.5 1604.12,-138.5 1604.12,-193.75\"/>\n",
       "<text text-anchor=\"middle\" x=\"1550.75\" y=\"-176.45\" font-family=\"Times New Roman,serif\" font-size=\"14.00\">9&lt;=&#45;0.016</text>\n",
       "<text text-anchor=\"middle\" x=\"1550.75\" y=\"-160.7\" font-family=\"Times New Roman,serif\" font-size=\"14.00\">SSR: 19004.609</text>\n",
       "<text text-anchor=\"middle\" x=\"1550.75\" y=\"-144.95\" font-family=\"Times New Roman,serif\" font-size=\"14.00\">Leaf: False</text>\n",
       "</g>\n",
       "<!-- method&#45;wrapper &#39;__hash__&#39; of Node object at 0x000001D4C36E7FD0&#45;&gt;method&#45;wrapper &#39;__hash__&#39; of Node object at 0x000001D4C36E7F10 -->\n",
       "<g id=\"edge13\" class=\"edge\">\n",
       "<title>method&#45;wrapper &#39;__hash__&#39; of Node object at 0x000001D4C36E7FD0&#45;&gt;method&#45;wrapper &#39;__hash__&#39; of Node object at 0x000001D4C36E7F10</title>\n",
       "<path fill=\"none\" stroke=\"black\" d=\"M1550.75,-245.08C1550.75,-232.96 1550.75,-218.44 1550.75,-205.24\"/>\n",
       "<polygon fill=\"black\" stroke=\"black\" points=\"1554.25,-205.59 1550.75,-195.59 1547.25,-205.59 1554.25,-205.59\"/>\n",
       "</g>\n",
       "<!-- method&#45;wrapper &#39;__hash__&#39; of Node object at 0x000001D4C4E0E350 -->\n",
       "<g id=\"node15\" class=\"node\">\n",
       "<title>method&#45;wrapper &#39;__hash__&#39; of Node object at 0x000001D4C4E0E350</title>\n",
       "<polygon fill=\"none\" stroke=\"black\" points=\"1721.75,-209.5 1621.75,-209.5 1621.75,-122.75 1721.75,-122.75 1721.75,-209.5\"/>\n",
       "<text text-anchor=\"middle\" x=\"1671.75\" y=\"-192.2\" font-family=\"Times New Roman,serif\" font-size=\"14.00\">0&lt;=&#45;0.049</text>\n",
       "<text text-anchor=\"middle\" x=\"1671.75\" y=\"-176.45\" font-family=\"Times New Roman,serif\" font-size=\"14.00\">SSR: 1058.000</text>\n",
       "<text text-anchor=\"middle\" x=\"1671.75\" y=\"-160.7\" font-family=\"Times New Roman,serif\" font-size=\"14.00\">Leaf: True</text>\n",
       "<text text-anchor=\"middle\" x=\"1671.75\" y=\"-144.95\" font-family=\"Times New Roman,serif\" font-size=\"14.00\">N. Samples: 2</text>\n",
       "<text text-anchor=\"middle\" x=\"1671.75\" y=\"-129.2\" font-family=\"Times New Roman,serif\" font-size=\"14.00\">Output: 194.0</text>\n",
       "</g>\n",
       "<!-- method&#45;wrapper &#39;__hash__&#39; of Node object at 0x000001D4C36E7FD0&#45;&gt;method&#45;wrapper &#39;__hash__&#39; of Node object at 0x000001D4C4E0E350 -->\n",
       "<g id=\"edge14\" class=\"edge\">\n",
       "<title>method&#45;wrapper &#39;__hash__&#39; of Node object at 0x000001D4C36E7FD0&#45;&gt;method&#45;wrapper &#39;__hash__&#39; of Node object at 0x000001D4C4E0E350</title>\n",
       "<path fill=\"none\" stroke=\"black\" d=\"M1581.91,-245.08C1591.73,-236.56 1602.91,-226.86 1613.97,-217.26\"/>\n",
       "<polygon fill=\"black\" stroke=\"black\" points=\"1615.98,-220.15 1621.24,-210.96 1611.39,-214.87 1615.98,-220.15\"/>\n",
       "</g>\n",
       "<!-- method&#45;wrapper &#39;__hash__&#39; of Node object at 0x000001D4C36FC290 -->\n",
       "<g id=\"node16\" class=\"node\">\n",
       "<title>method&#45;wrapper &#39;__hash__&#39; of Node object at 0x000001D4C36FC290</title>\n",
       "<polygon fill=\"none\" stroke=\"black\" points=\"173.5,-86.75 0,-86.75 0,0 173.5,0 173.5,-86.75\"/>\n",
       "<text text-anchor=\"middle\" x=\"86.75\" y=\"-69.45\" font-family=\"Times New Roman,serif\" font-size=\"14.00\">6&lt;=0.021</text>\n",
       "<text text-anchor=\"middle\" x=\"86.75\" y=\"-53.7\" font-family=\"Times New Roman,serif\" font-size=\"14.00\">SSR: 184239.518</text>\n",
       "<text text-anchor=\"middle\" x=\"86.75\" y=\"-37.95\" font-family=\"Times New Roman,serif\" font-size=\"14.00\">Leaf: True</text>\n",
       "<text text-anchor=\"middle\" x=\"86.75\" y=\"-22.2\" font-family=\"Times New Roman,serif\" font-size=\"14.00\">N. Samples: 114</text>\n",
       "<text text-anchor=\"middle\" x=\"86.75\" y=\"-6.45\" font-family=\"Times New Roman,serif\" font-size=\"14.00\">Output: 90.78070175438596</text>\n",
       "</g>\n",
       "<!-- method&#45;wrapper &#39;__hash__&#39; of Node object at 0x000001D4C36FC090&#45;&gt;method&#45;wrapper &#39;__hash__&#39; of Node object at 0x000001D4C36FC290 -->\n",
       "<g id=\"edge15\" class=\"edge\">\n",
       "<title>method&#45;wrapper &#39;__hash__&#39; of Node object at 0x000001D4C36FC090&#45;&gt;method&#45;wrapper &#39;__hash__&#39; of Node object at 0x000001D4C36FC290</title>\n",
       "<path fill=\"none\" stroke=\"black\" d=\"M204.64,-138.03C188.32,-125.06 168.25,-109.12 149.32,-94.08\"/>\n",
       "<polygon fill=\"black\" stroke=\"black\" points=\"151.63,-91.45 141.62,-87.97 147.28,-96.93 151.63,-91.45\"/>\n",
       "</g>\n",
       "<!-- method&#45;wrapper &#39;__hash__&#39; of Node object at 0x000001D4C36FC310 -->\n",
       "<g id=\"node17\" class=\"node\">\n",
       "<title>method&#45;wrapper &#39;__hash__&#39; of Node object at 0x000001D4C36FC310</title>\n",
       "<polygon fill=\"none\" stroke=\"black\" points=\"285.75,-86.75 191.75,-86.75 191.75,0 285.75,0 285.75,-86.75\"/>\n",
       "<text text-anchor=\"middle\" x=\"238.75\" y=\"-69.45\" font-family=\"Times New Roman,serif\" font-size=\"14.00\">0&lt;=0.021</text>\n",
       "<text text-anchor=\"middle\" x=\"238.75\" y=\"-53.7\" font-family=\"Times New Roman,serif\" font-size=\"14.00\">SSR: 0.000</text>\n",
       "<text text-anchor=\"middle\" x=\"238.75\" y=\"-37.95\" font-family=\"Times New Roman,serif\" font-size=\"14.00\">Leaf: True</text>\n",
       "<text text-anchor=\"middle\" x=\"238.75\" y=\"-22.2\" font-family=\"Times New Roman,serif\" font-size=\"14.00\">N. Samples: 1</text>\n",
       "<text text-anchor=\"middle\" x=\"238.75\" y=\"-6.45\" font-family=\"Times New Roman,serif\" font-size=\"14.00\">Output: 253.0</text>\n",
       "</g>\n",
       "<!-- method&#45;wrapper &#39;__hash__&#39; of Node object at 0x000001D4C36FC090&#45;&gt;method&#45;wrapper &#39;__hash__&#39; of Node object at 0x000001D4C36FC310 -->\n",
       "<g id=\"edge16\" class=\"edge\">\n",
       "<title>method&#45;wrapper &#39;__hash__&#39; of Node object at 0x000001D4C36FC090&#45;&gt;method&#45;wrapper &#39;__hash__&#39; of Node object at 0x000001D4C36FC310</title>\n",
       "<path fill=\"none\" stroke=\"black\" d=\"M238.75,-138.03C238.75,-126.29 238.75,-112.12 238.75,-98.39\"/>\n",
       "<polygon fill=\"black\" stroke=\"black\" points=\"242.25,-98.54 238.75,-88.54 235.25,-98.54 242.25,-98.54\"/>\n",
       "</g>\n",
       "<!-- method&#45;wrapper &#39;__hash__&#39; of Node object at 0x000001D4C36FC050 -->\n",
       "<g id=\"node18\" class=\"node\">\n",
       "<title>method&#45;wrapper &#39;__hash__&#39; of Node object at 0x000001D4C36FC050</title>\n",
       "<polygon fill=\"none\" stroke=\"black\" points=\"410.12,-86.75 303.38,-86.75 303.38,0 410.12,0 410.12,-86.75\"/>\n",
       "<text text-anchor=\"middle\" x=\"356.75\" y=\"-69.45\" font-family=\"Times New Roman,serif\" font-size=\"14.00\">9&lt;=0.022</text>\n",
       "<text text-anchor=\"middle\" x=\"356.75\" y=\"-53.7\" font-family=\"Times New Roman,serif\" font-size=\"14.00\">SSR: 25890.900</text>\n",
       "<text text-anchor=\"middle\" x=\"356.75\" y=\"-37.95\" font-family=\"Times New Roman,serif\" font-size=\"14.00\">Leaf: True</text>\n",
       "<text text-anchor=\"middle\" x=\"356.75\" y=\"-22.2\" font-family=\"Times New Roman,serif\" font-size=\"14.00\">N. Samples: 10</text>\n",
       "<text text-anchor=\"middle\" x=\"356.75\" y=\"-6.45\" font-family=\"Times New Roman,serif\" font-size=\"14.00\">Output: 172.1</text>\n",
       "</g>\n",
       "<!-- method&#45;wrapper &#39;__hash__&#39; of Node object at 0x000001D4C36FC1D0&#45;&gt;method&#45;wrapper &#39;__hash__&#39; of Node object at 0x000001D4C36FC050 -->\n",
       "<g id=\"edge17\" class=\"edge\">\n",
       "<title>method&#45;wrapper &#39;__hash__&#39; of Node object at 0x000001D4C36FC1D0&#45;&gt;method&#45;wrapper &#39;__hash__&#39; of Node object at 0x000001D4C36FC050</title>\n",
       "<path fill=\"none\" stroke=\"black\" d=\"M425,-138.03C415.94,-125.59 404.88,-110.41 394.32,-95.93\"/>\n",
       "<polygon fill=\"black\" stroke=\"black\" points=\"397.44,-94.27 388.72,-88.25 391.79,-98.39 397.44,-94.27\"/>\n",
       "</g>\n",
       "<!-- method&#45;wrapper &#39;__hash__&#39; of Node object at 0x000001D4C36FC250 -->\n",
       "<g id=\"node19\" class=\"node\">\n",
       "<title>method&#45;wrapper &#39;__hash__&#39; of Node object at 0x000001D4C36FC250</title>\n",
       "<polygon fill=\"none\" stroke=\"black\" points=\"608.88,-86.75 428.62,-86.75 428.62,0 608.88,0 608.88,-86.75\"/>\n",
       "<text text-anchor=\"middle\" x=\"518.75\" y=\"-69.45\" font-family=\"Times New Roman,serif\" font-size=\"14.00\">0&lt;=0.067</text>\n",
       "<text text-anchor=\"middle\" x=\"518.75\" y=\"-53.7\" font-family=\"Times New Roman,serif\" font-size=\"14.00\">SSR: 68679.677</text>\n",
       "<text text-anchor=\"middle\" x=\"518.75\" y=\"-37.95\" font-family=\"Times New Roman,serif\" font-size=\"14.00\">Leaf: True</text>\n",
       "<text text-anchor=\"middle\" x=\"518.75\" y=\"-22.2\" font-family=\"Times New Roman,serif\" font-size=\"14.00\">N. Samples: 31</text>\n",
       "<text text-anchor=\"middle\" x=\"518.75\" y=\"-6.45\" font-family=\"Times New Roman,serif\" font-size=\"14.00\">Output: 114.45161290322581</text>\n",
       "</g>\n",
       "<!-- method&#45;wrapper &#39;__hash__&#39; of Node object at 0x000001D4C36FC1D0&#45;&gt;method&#45;wrapper &#39;__hash__&#39; of Node object at 0x000001D4C36FC250 -->\n",
       "<g id=\"edge18\" class=\"edge\">\n",
       "<title>method&#45;wrapper &#39;__hash__&#39; of Node object at 0x000001D4C36FC1D0&#45;&gt;method&#45;wrapper &#39;__hash__&#39; of Node object at 0x000001D4C36FC250</title>\n",
       "<path fill=\"none\" stroke=\"black\" d=\"M461.36,-138.03C468.84,-125.82 477.93,-110.98 486.66,-96.75\"/>\n",
       "<polygon fill=\"black\" stroke=\"black\" points=\"489.58,-98.67 491.82,-88.32 483.61,-95.01 489.58,-98.67\"/>\n",
       "</g>\n",
       "<!-- method&#45;wrapper &#39;__hash__&#39; of Node object at 0x000001D4C36FC190 -->\n",
       "<g id=\"node20\" class=\"node\">\n",
       "<title>method&#45;wrapper &#39;__hash__&#39; of Node object at 0x000001D4C36FC190</title>\n",
       "<polygon fill=\"none\" stroke=\"black\" points=\"726.75,-86.75 626.75,-86.75 626.75,0 726.75,0 726.75,-86.75\"/>\n",
       "<text text-anchor=\"middle\" x=\"676.75\" y=\"-69.45\" font-family=\"Times New Roman,serif\" font-size=\"14.00\">0&lt;=&#45;0.089</text>\n",
       "<text text-anchor=\"middle\" x=\"676.75\" y=\"-53.7\" font-family=\"Times New Roman,serif\" font-size=\"14.00\">SSR: 1568.000</text>\n",
       "<text text-anchor=\"middle\" x=\"676.75\" y=\"-37.95\" font-family=\"Times New Roman,serif\" font-size=\"14.00\">Leaf: True</text>\n",
       "<text text-anchor=\"middle\" x=\"676.75\" y=\"-22.2\" font-family=\"Times New Roman,serif\" font-size=\"14.00\">N. Samples: 2</text>\n",
       "<text text-anchor=\"middle\" x=\"676.75\" y=\"-6.45\" font-family=\"Times New Roman,serif\" font-size=\"14.00\">Output: 274.0</text>\n",
       "</g>\n",
       "<!-- method&#45;wrapper &#39;__hash__&#39; of Node object at 0x000001D4C2FB8E50&#45;&gt;method&#45;wrapper &#39;__hash__&#39; of Node object at 0x000001D4C36FC190 -->\n",
       "<g id=\"edge19\" class=\"edge\">\n",
       "<title>method&#45;wrapper &#39;__hash__&#39; of Node object at 0x000001D4C2FB8E50&#45;&gt;method&#45;wrapper &#39;__hash__&#39; of Node object at 0x000001D4C36FC190</title>\n",
       "<path fill=\"none\" stroke=\"black\" d=\"M738.02,-138.03C729.96,-125.71 720.14,-110.7 710.74,-96.34\"/>\n",
       "<polygon fill=\"black\" stroke=\"black\" points=\"713.89,-94.75 705.48,-88.29 708.03,-98.58 713.89,-94.75\"/>\n",
       "</g>\n",
       "<!-- method&#45;wrapper &#39;__hash__&#39; of Node object at 0x000001D4C36FC110 -->\n",
       "<g id=\"node21\" class=\"node\">\n",
       "<title>method&#45;wrapper &#39;__hash__&#39; of Node object at 0x000001D4C36FC110</title>\n",
       "<polygon fill=\"none\" stroke=\"black\" points=\"924.88,-86.75 744.62,-86.75 744.62,0 924.88,0 924.88,-86.75\"/>\n",
       "<text text-anchor=\"middle\" x=\"834.75\" y=\"-69.45\" font-family=\"Times New Roman,serif\" font-size=\"14.00\">3&lt;=0.024</text>\n",
       "<text text-anchor=\"middle\" x=\"834.75\" y=\"-53.7\" font-family=\"Times New Roman,serif\" font-size=\"14.00\">SSR: 128872.976</text>\n",
       "<text text-anchor=\"middle\" x=\"834.75\" y=\"-37.95\" font-family=\"Times New Roman,serif\" font-size=\"14.00\">Leaf: True</text>\n",
       "<text text-anchor=\"middle\" x=\"834.75\" y=\"-22.2\" font-family=\"Times New Roman,serif\" font-size=\"14.00\">N. Samples: 42</text>\n",
       "<text text-anchor=\"middle\" x=\"834.75\" y=\"-6.45\" font-family=\"Times New Roman,serif\" font-size=\"14.00\">Output: 154.97619047619048</text>\n",
       "</g>\n",
       "<!-- method&#45;wrapper &#39;__hash__&#39; of Node object at 0x000001D4C2FB8E50&#45;&gt;method&#45;wrapper &#39;__hash__&#39; of Node object at 0x000001D4C36FC110 -->\n",
       "<g id=\"edge20\" class=\"edge\">\n",
       "<title>method&#45;wrapper &#39;__hash__&#39; of Node object at 0x000001D4C2FB8E50&#45;&gt;method&#45;wrapper &#39;__hash__&#39; of Node object at 0x000001D4C36FC110</title>\n",
       "<path fill=\"none\" stroke=\"black\" d=\"M773.48,-138.03C781.54,-125.71 791.36,-110.7 800.76,-96.34\"/>\n",
       "<polygon fill=\"black\" stroke=\"black\" points=\"803.47,-98.58 806.02,-88.29 797.61,-94.75 803.47,-98.58\"/>\n",
       "</g>\n",
       "<!-- method&#45;wrapper &#39;__hash__&#39; of Node object at 0x000001D4C36E7F50 -->\n",
       "<g id=\"node22\" class=\"node\">\n",
       "<title>method&#45;wrapper &#39;__hash__&#39; of Node object at 0x000001D4C36E7F50</title>\n",
       "<polygon fill=\"none\" stroke=\"black\" points=\"1122.88,-86.75 942.62,-86.75 942.62,0 1122.88,0 1122.88,-86.75\"/>\n",
       "<text text-anchor=\"middle\" x=\"1032.75\" y=\"-69.45\" font-family=\"Times New Roman,serif\" font-size=\"14.00\">3&lt;=&#45;0.040</text>\n",
       "<text text-anchor=\"middle\" x=\"1032.75\" y=\"-53.7\" font-family=\"Times New Roman,serif\" font-size=\"14.00\">SSR: 196409.333</text>\n",
       "<text text-anchor=\"middle\" x=\"1032.75\" y=\"-37.95\" font-family=\"Times New Roman,serif\" font-size=\"14.00\">Leaf: True</text>\n",
       "<text text-anchor=\"middle\" x=\"1032.75\" y=\"-22.2\" font-family=\"Times New Roman,serif\" font-size=\"14.00\">N. Samples: 51</text>\n",
       "<text text-anchor=\"middle\" x=\"1032.75\" y=\"-6.45\" font-family=\"Times New Roman,serif\" font-size=\"14.00\">Output: 168.33333333333334</text>\n",
       "</g>\n",
       "<!-- method&#45;wrapper &#39;__hash__&#39; of Node object at 0x000001D4C3507150&#45;&gt;method&#45;wrapper &#39;__hash__&#39; of Node object at 0x000001D4C36E7F50 -->\n",
       "<g id=\"edge21\" class=\"edge\">\n",
       "<title>method&#45;wrapper &#39;__hash__&#39; of Node object at 0x000001D4C3507150&#45;&gt;method&#45;wrapper &#39;__hash__&#39; of Node object at 0x000001D4C36E7F50</title>\n",
       "<path fill=\"none\" stroke=\"black\" d=\"M1151.41,-138.03C1134.99,-125.06 1114.78,-109.12 1095.74,-94.08\"/>\n",
       "<polygon fill=\"black\" stroke=\"black\" points=\"1098,-91.41 1087.98,-87.96 1093.66,-96.91 1098,-91.41\"/>\n",
       "</g>\n",
       "<!-- method&#45;wrapper &#39;__hash__&#39; of Node object at 0x000001D4C36E7F90 -->\n",
       "<g id=\"node23\" class=\"node\">\n",
       "<title>method&#45;wrapper &#39;__hash__&#39; of Node object at 0x000001D4C36E7F90</title>\n",
       "<polygon fill=\"none\" stroke=\"black\" points=\"1240.75,-86.75 1140.75,-86.75 1140.75,0 1240.75,0 1240.75,-86.75\"/>\n",
       "<text text-anchor=\"middle\" x=\"1190.75\" y=\"-69.45\" font-family=\"Times New Roman,serif\" font-size=\"14.00\">0&lt;=&#45;0.002</text>\n",
       "<text text-anchor=\"middle\" x=\"1190.75\" y=\"-53.7\" font-family=\"Times New Roman,serif\" font-size=\"14.00\">SSR: 3784.500</text>\n",
       "<text text-anchor=\"middle\" x=\"1190.75\" y=\"-37.95\" font-family=\"Times New Roman,serif\" font-size=\"14.00\">Leaf: True</text>\n",
       "<text text-anchor=\"middle\" x=\"1190.75\" y=\"-22.2\" font-family=\"Times New Roman,serif\" font-size=\"14.00\">N. Samples: 2</text>\n",
       "<text text-anchor=\"middle\" x=\"1190.75\" y=\"-6.45\" font-family=\"Times New Roman,serif\" font-size=\"14.00\">Output: 302.5</text>\n",
       "</g>\n",
       "<!-- method&#45;wrapper &#39;__hash__&#39; of Node object at 0x000001D4C3507150&#45;&gt;method&#45;wrapper &#39;__hash__&#39; of Node object at 0x000001D4C36E7F90 -->\n",
       "<g id=\"edge22\" class=\"edge\">\n",
       "<title>method&#45;wrapper &#39;__hash__&#39; of Node object at 0x000001D4C3507150&#45;&gt;method&#45;wrapper &#39;__hash__&#39; of Node object at 0x000001D4C36E7F90</title>\n",
       "<path fill=\"none\" stroke=\"black\" d=\"M1186.87,-138.03C1187.36,-126.29 1187.94,-112.12 1188.51,-98.39\"/>\n",
       "<polygon fill=\"black\" stroke=\"black\" points=\"1192,-98.68 1188.92,-88.54 1185.01,-98.39 1192,-98.68\"/>\n",
       "</g>\n",
       "<!-- method&#45;wrapper &#39;__hash__&#39; of Node object at 0x000001D4C2919010 -->\n",
       "<g id=\"node24\" class=\"node\">\n",
       "<title>method&#45;wrapper &#39;__hash__&#39; of Node object at 0x000001D4C2919010</title>\n",
       "<polygon fill=\"none\" stroke=\"black\" points=\"1358.75,-86.75 1258.75,-86.75 1258.75,0 1358.75,0 1358.75,-86.75\"/>\n",
       "<text text-anchor=\"middle\" x=\"1308.75\" y=\"-69.45\" font-family=\"Times New Roman,serif\" font-size=\"14.00\">1&lt;=0.003</text>\n",
       "<text text-anchor=\"middle\" x=\"1308.75\" y=\"-53.7\" font-family=\"Times New Roman,serif\" font-size=\"14.00\">SSR: 1300.500</text>\n",
       "<text text-anchor=\"middle\" x=\"1308.75\" y=\"-37.95\" font-family=\"Times New Roman,serif\" font-size=\"14.00\">Leaf: True</text>\n",
       "<text text-anchor=\"middle\" x=\"1308.75\" y=\"-22.2\" font-family=\"Times New Roman,serif\" font-size=\"14.00\">N. Samples: 2</text>\n",
       "<text text-anchor=\"middle\" x=\"1308.75\" y=\"-6.45\" font-family=\"Times New Roman,serif\" font-size=\"14.00\">Output: 153.5</text>\n",
       "</g>\n",
       "<!-- method&#45;wrapper &#39;__hash__&#39; of Node object at 0x000001D4C36E7ED0&#45;&gt;method&#45;wrapper &#39;__hash__&#39; of Node object at 0x000001D4C2919010 -->\n",
       "<g id=\"edge23\" class=\"edge\">\n",
       "<title>method&#45;wrapper &#39;__hash__&#39; of Node object at 0x000001D4C36E7ED0&#45;&gt;method&#45;wrapper &#39;__hash__&#39; of Node object at 0x000001D4C2919010</title>\n",
       "<path fill=\"none\" stroke=\"black\" d=\"M1312.63,-138.03C1312.14,-126.29 1311.56,-112.12 1310.99,-98.39\"/>\n",
       "<polygon fill=\"black\" stroke=\"black\" points=\"1314.49,-98.39 1310.58,-88.54 1307.5,-98.68 1314.49,-98.39\"/>\n",
       "</g>\n",
       "<!-- method&#45;wrapper &#39;__hash__&#39; of Node object at 0x000001D4C26C8790 -->\n",
       "<g id=\"node25\" class=\"node\">\n",
       "<title>method&#45;wrapper &#39;__hash__&#39; of Node object at 0x000001D4C26C8790</title>\n",
       "<polygon fill=\"none\" stroke=\"black\" points=\"1483.12,-86.75 1376.38,-86.75 1376.38,0 1483.12,0 1483.12,-86.75\"/>\n",
       "<text text-anchor=\"middle\" x=\"1429.75\" y=\"-69.45\" font-family=\"Times New Roman,serif\" font-size=\"14.00\">0&lt;=0.045</text>\n",
       "<text text-anchor=\"middle\" x=\"1429.75\" y=\"-53.7\" font-family=\"Times New Roman,serif\" font-size=\"14.00\">SSR: 53022.240</text>\n",
       "<text text-anchor=\"middle\" x=\"1429.75\" y=\"-37.95\" font-family=\"Times New Roman,serif\" font-size=\"14.00\">Leaf: True</text>\n",
       "<text text-anchor=\"middle\" x=\"1429.75\" y=\"-22.2\" font-family=\"Times New Roman,serif\" font-size=\"14.00\">N. Samples: 25</text>\n",
       "<text text-anchor=\"middle\" x=\"1429.75\" y=\"-6.45\" font-family=\"Times New Roman,serif\" font-size=\"14.00\">Output: 239.52</text>\n",
       "</g>\n",
       "<!-- method&#45;wrapper &#39;__hash__&#39; of Node object at 0x000001D4C36E7ED0&#45;&gt;method&#45;wrapper &#39;__hash__&#39; of Node object at 0x000001D4C26C8790 -->\n",
       "<g id=\"edge24\" class=\"edge\">\n",
       "<title>method&#45;wrapper &#39;__hash__&#39; of Node object at 0x000001D4C36E7ED0&#45;&gt;method&#45;wrapper &#39;__hash__&#39; of Node object at 0x000001D4C26C8790</title>\n",
       "<path fill=\"none\" stroke=\"black\" d=\"M1339.78,-138.03C1351.96,-125.35 1366.86,-109.84 1381.01,-95.11\"/>\n",
       "<polygon fill=\"black\" stroke=\"black\" points=\"1383.32,-97.75 1387.73,-88.12 1378.28,-92.9 1383.32,-97.75\"/>\n",
       "</g>\n",
       "<!-- method&#45;wrapper &#39;__hash__&#39; of Node object at 0x000001D4C30DC390 -->\n",
       "<g id=\"node26\" class=\"node\">\n",
       "<title>method&#45;wrapper &#39;__hash__&#39; of Node object at 0x000001D4C30DC390</title>\n",
       "<polygon fill=\"none\" stroke=\"black\" points=\"1600.75,-86.75 1500.75,-86.75 1500.75,0 1600.75,0 1600.75,-86.75\"/>\n",
       "<text text-anchor=\"middle\" x=\"1550.75\" y=\"-69.45\" font-family=\"Times New Roman,serif\" font-size=\"14.00\">0&lt;=0.004</text>\n",
       "<text text-anchor=\"middle\" x=\"1550.75\" y=\"-53.7\" font-family=\"Times New Roman,serif\" font-size=\"14.00\">SSR: 3953.000</text>\n",
       "<text text-anchor=\"middle\" x=\"1550.75\" y=\"-37.95\" font-family=\"Times New Roman,serif\" font-size=\"14.00\">Leaf: True</text>\n",
       "<text text-anchor=\"middle\" x=\"1550.75\" y=\"-22.2\" font-family=\"Times New Roman,serif\" font-size=\"14.00\">N. Samples: 4</text>\n",
       "<text text-anchor=\"middle\" x=\"1550.75\" y=\"-6.45\" font-family=\"Times New Roman,serif\" font-size=\"14.00\">Output: 240.5</text>\n",
       "</g>\n",
       "<!-- method&#45;wrapper &#39;__hash__&#39; of Node object at 0x000001D4C36E7F10&#45;&gt;method&#45;wrapper &#39;__hash__&#39; of Node object at 0x000001D4C30DC390 -->\n",
       "<g id=\"edge25\" class=\"edge\">\n",
       "<title>method&#45;wrapper &#39;__hash__&#39; of Node object at 0x000001D4C36E7F10&#45;&gt;method&#45;wrapper &#39;__hash__&#39; of Node object at 0x000001D4C30DC390</title>\n",
       "<path fill=\"none\" stroke=\"black\" d=\"M1550.75,-138.03C1550.75,-126.29 1550.75,-112.12 1550.75,-98.39\"/>\n",
       "<polygon fill=\"black\" stroke=\"black\" points=\"1554.25,-98.54 1550.75,-88.54 1547.25,-98.54 1554.25,-98.54\"/>\n",
       "</g>\n",
       "<!-- method&#45;wrapper &#39;__hash__&#39; of Node object at 0x000001D4C30DD610 -->\n",
       "<g id=\"node27\" class=\"node\">\n",
       "<title>method&#45;wrapper &#39;__hash__&#39; of Node object at 0x000001D4C30DD610</title>\n",
       "<polygon fill=\"none\" stroke=\"black\" points=\"1798.88,-86.75 1618.62,-86.75 1618.62,0 1798.88,0 1798.88,-86.75\"/>\n",
       "<text text-anchor=\"middle\" x=\"1708.75\" y=\"-69.45\" font-family=\"Times New Roman,serif\" font-size=\"14.00\">2&lt;=0.111</text>\n",
       "<text text-anchor=\"middle\" x=\"1708.75\" y=\"-53.7\" font-family=\"Times New Roman,serif\" font-size=\"14.00\">SSR: 9331.789</text>\n",
       "<text text-anchor=\"middle\" x=\"1708.75\" y=\"-37.95\" font-family=\"Times New Roman,serif\" font-size=\"14.00\">Leaf: True</text>\n",
       "<text text-anchor=\"middle\" x=\"1708.75\" y=\"-22.2\" font-family=\"Times New Roman,serif\" font-size=\"14.00\">N. Samples: 19</text>\n",
       "<text text-anchor=\"middle\" x=\"1708.75\" y=\"-6.45\" font-family=\"Times New Roman,serif\" font-size=\"14.00\">Output: 282.10526315789474</text>\n",
       "</g>\n",
       "<!-- method&#45;wrapper &#39;__hash__&#39; of Node object at 0x000001D4C36E7F10&#45;&gt;method&#45;wrapper &#39;__hash__&#39; of Node object at 0x000001D4C30DD610 -->\n",
       "<g id=\"edge26\" class=\"edge\">\n",
       "<title>method&#45;wrapper &#39;__hash__&#39; of Node object at 0x000001D4C36E7F10&#45;&gt;method&#45;wrapper &#39;__hash__&#39; of Node object at 0x000001D4C30DD610</title>\n",
       "<path fill=\"none\" stroke=\"black\" d=\"M1586.21,-138.03C1603.25,-125 1624.22,-108.97 1643.97,-93.88\"/>\n",
       "<polygon fill=\"black\" stroke=\"black\" points=\"1645.92,-96.8 1651.74,-87.95 1641.67,-91.24 1645.92,-96.8\"/>\n",
       "</g>\n",
       "</g>\n",
       "</svg>\n"
      ],
      "text/plain": [
       "<graphviz.graphs.Digraph at 0x1d4c4733f90>"
      ]
     },
     "execution_count": 8,
     "metadata": {},
     "output_type": "execute_result"
    }
   ],
   "source": [
    "plot_tree(dtr)"
   ]
  },
  {
   "cell_type": "markdown",
   "metadata": {},
   "source": [
    "#### Random Forest Regressor"
   ]
  },
  {
   "cell_type": "code",
   "execution_count": 9,
   "metadata": {},
   "outputs": [
    {
     "name": "stdout",
     "output_type": "stream",
     "text": [
      "Train Loss: 7163.627022653722\tTest Loss: 7121.930868838763\n",
      "Train Loss: 3277.2322540546843\tTest Loss: 3225.0738614298407\n",
      "Train Loss: 3099.713972083876\tTest Loss: 3079.8220866028346\n",
      "Train Loss: 3100.1690246285284\tTest Loss: 3108.6922582631214\n",
      "Train Loss: 3118.85620519073\tTest Loss: 3096.153638684108\n",
      "Train Loss: 3083.5432368863712\tTest Loss: 3072.5420749824557\n",
      "Mean Squared Error: 3072.5420749824557\n"
     ]
    }
   ],
   "source": [
    "from rlearn.tree import RandomForestRegressor\n",
    "\n",
    "forest = RandomForestRegressor(\n",
    "    max_depth=5, n_estimators=100, bootstrap_size=int(np.sqrt(len(X_train)))\n",
    ")\n",
    "forest.fit(X_train, y_train, X_test, y_test, verbose=20)\n",
    "\n",
    "print(\"Mean Squared Error:\", mean_squared_error(y_test, forest.predict(X_test)))"
   ]
  },
  {
   "cell_type": "markdown",
   "metadata": {},
   "source": [
    "#### Gradient Boosting Regressor"
   ]
  },
  {
   "cell_type": "code",
   "execution_count": 4,
   "metadata": {},
   "outputs": [
    {
     "name": "stdout",
     "output_type": "stream",
     "text": [
      "Estimators: 0\tTrain Loss: 5597.333015255618\tValidation Loss: 5361.534188078531\n",
      "Estimators: 10\tTrain Loss: 3232.3129922014514\tValidation Loss: 3594.923680029551\n",
      "Estimators: 20\tTrain Loss: 2263.3096834774647\tValidation Loss: 3111.1424773070717\n",
      "Estimators: 29\tTrain Loss: 1921.760692829892\tValidation Loss: 3079.7276552377384\n",
      "Mean Squared Error: 3060.172169586149\n"
     ]
    }
   ],
   "source": [
    "from rlearn.tree import GradientBoostRegressor\n",
    "\n",
    "gbr = GradientBoostRegressor(\n",
    "    max_depth=3,\n",
    "    frac_of_samples=0.7,\n",
    "    min_samples_split=20,\n",
    "    max_features=4,\n",
    "    n_estimators=30,\n",
    ")\n",
    "gbr.fit(X_train, y_train, X_test, y_test, verbose=10)\n",
    "\n",
    "print(\"Mean Squared Error:\", mean_squared_error(y_test, gbr.predict(X_test)))"
   ]
  },
  {
   "cell_type": "markdown",
   "metadata": {},
   "source": [
    "### Classification with Trees"
   ]
  },
  {
   "cell_type": "markdown",
   "metadata": {},
   "source": [
    "Dataset used for classification with Trees."
   ]
  },
  {
   "cell_type": "code",
   "execution_count": 26,
   "metadata": {},
   "outputs": [],
   "source": [
    "from sklearn.datasets import load_wine\n",
    "from sklearn.model_selection import train_test_split\n",
    "\n",
    "X, y = load_wine(return_X_y=True)\n",
    "X_train, X_test, y_train, y_test = train_test_split(\n",
    "    X, y, test_size=0.3, random_state=42, shuffle=True\n",
    ")"
   ]
  },
  {
   "cell_type": "markdown",
   "metadata": {},
   "source": [
    "#### Decision Tree Classifier"
   ]
  },
  {
   "cell_type": "code",
   "execution_count": 27,
   "metadata": {},
   "outputs": [
    {
     "name": "stdout",
     "output_type": "stream",
     "text": [
      "              precision    recall  f1-score   support\n",
      "\n",
      "           0       1.00      0.89      0.94        19\n",
      "           1       0.88      1.00      0.93        21\n",
      "           2       1.00      0.93      0.96        14\n",
      "\n",
      "    accuracy                           0.94        54\n",
      "   macro avg       0.96      0.94      0.95        54\n",
      "weighted avg       0.95      0.94      0.94        54\n",
      "\n"
     ]
    }
   ],
   "source": [
    "from rlearn.tree import DecisionTreeClassifier\n",
    "\n",
    "dtc = DecisionTreeClassifier(max_depth=4, min_samples_split=20)\n",
    "dtc.fit(X_train, y_train)\n",
    "\n",
    "print(classification_report(y_test, dtc.predict(X_test)))"
   ]
  },
  {
   "cell_type": "code",
   "execution_count": 28,
   "metadata": {},
   "outputs": [
    {
     "data": {
      "image/svg+xml": [
       "<?xml version=\"1.0\" encoding=\"UTF-8\" standalone=\"no\"?>\n",
       "<!DOCTYPE svg PUBLIC \"-//W3C//DTD SVG 1.1//EN\"\n",
       " \"http://www.w3.org/Graphics/SVG/1.1/DTD/svg11.dtd\">\n",
       "<!-- Generated by graphviz version 10.0.1 (20240210.2158)\n",
       " -->\n",
       "<!-- Title: tree Pages: 1 -->\n",
       "<svg width=\"720pt\" height=\"569pt\"\n",
       " viewBox=\"0.00 0.00 720.00 569.45\" xmlns=\"http://www.w3.org/2000/svg\" xmlns:xlink=\"http://www.w3.org/1999/xlink\">\n",
       "<g id=\"graph0\" class=\"graph\" transform=\"scale(1.42363 1.42363) rotate(0) translate(4 396)\">\n",
       "<title>tree</title>\n",
       "<polygon fill=\"white\" stroke=\"none\" points=\"-4,4 -4,-396 501.75,-396 501.75,4 -4,4\"/>\n",
       "<!-- method&#45;wrapper &#39;__hash__&#39; of Node object at 0x000001D4C522C9D0 -->\n",
       "<g id=\"node1\" class=\"node\">\n",
       "<title>method&#45;wrapper &#39;__hash__&#39; of Node object at 0x000001D4C522C9D0</title>\n",
       "<polygon fill=\"none\" stroke=\"black\" points=\"253.75,-392 177,-392 177,-336.75 253.75,-336.75 253.75,-392\"/>\n",
       "<text text-anchor=\"middle\" x=\"215.38\" y=\"-374.7\" font-family=\"Times New Roman,serif\" font-size=\"14.00\">9&lt;=3.800</text>\n",
       "<text text-anchor=\"middle\" x=\"215.38\" y=\"-358.95\" font-family=\"Times New Roman,serif\" font-size=\"14.00\">Gini: 0.658</text>\n",
       "<text text-anchor=\"middle\" x=\"215.38\" y=\"-343.2\" font-family=\"Times New Roman,serif\" font-size=\"14.00\">Leaf: False</text>\n",
       "</g>\n",
       "<!-- method&#45;wrapper &#39;__hash__&#39; of Node object at 0x000001D4C46F4F10 -->\n",
       "<g id=\"node2\" class=\"node\">\n",
       "<title>method&#45;wrapper &#39;__hash__&#39; of Node object at 0x000001D4C46F4F10</title>\n",
       "<polygon fill=\"none\" stroke=\"black\" points=\"196.75,-300.75 120,-300.75 120,-245.5 196.75,-245.5 196.75,-300.75\"/>\n",
       "<text text-anchor=\"middle\" x=\"158.38\" y=\"-283.45\" font-family=\"Times New Roman,serif\" font-size=\"14.00\">2&lt;=3.070</text>\n",
       "<text text-anchor=\"middle\" x=\"158.38\" y=\"-267.7\" font-family=\"Times New Roman,serif\" font-size=\"14.00\">Gini: 0.083</text>\n",
       "<text text-anchor=\"middle\" x=\"158.38\" y=\"-251.95\" font-family=\"Times New Roman,serif\" font-size=\"14.00\">Leaf: False</text>\n",
       "</g>\n",
       "<!-- method&#45;wrapper &#39;__hash__&#39; of Node object at 0x000001D4C522C9D0&#45;&gt;method&#45;wrapper &#39;__hash__&#39; of Node object at 0x000001D4C46F4F10 -->\n",
       "<g id=\"edge1\" class=\"edge\">\n",
       "<title>method&#45;wrapper &#39;__hash__&#39; of Node object at 0x000001D4C522C9D0&#45;&gt;method&#45;wrapper &#39;__hash__&#39; of Node object at 0x000001D4C46F4F10</title>\n",
       "<path fill=\"none\" stroke=\"black\" d=\"M198.27,-336.6C193.08,-328.46 187.28,-319.38 181.75,-310.72\"/>\n",
       "<polygon fill=\"black\" stroke=\"black\" points=\"184.81,-309.01 176.48,-302.47 178.91,-312.78 184.81,-309.01\"/>\n",
       "</g>\n",
       "<!-- method&#45;wrapper &#39;__hash__&#39; of Node object at 0x000001D4C54D8C50 -->\n",
       "<g id=\"node3\" class=\"node\">\n",
       "<title>method&#45;wrapper &#39;__hash__&#39; of Node object at 0x000001D4C54D8C50</title>\n",
       "<polygon fill=\"none\" stroke=\"black\" points=\"311.75,-300.75 235,-300.75 235,-245.5 311.75,-245.5 311.75,-300.75\"/>\n",
       "<text text-anchor=\"middle\" x=\"273.38\" y=\"-283.45\" font-family=\"Times New Roman,serif\" font-size=\"14.00\">6&lt;=1.400</text>\n",
       "<text text-anchor=\"middle\" x=\"273.38\" y=\"-267.7\" font-family=\"Times New Roman,serif\" font-size=\"14.00\">Gini: 0.567</text>\n",
       "<text text-anchor=\"middle\" x=\"273.38\" y=\"-251.95\" font-family=\"Times New Roman,serif\" font-size=\"14.00\">Leaf: False</text>\n",
       "</g>\n",
       "<!-- method&#45;wrapper &#39;__hash__&#39; of Node object at 0x000001D4C522C9D0&#45;&gt;method&#45;wrapper &#39;__hash__&#39; of Node object at 0x000001D4C54D8C50 -->\n",
       "<g id=\"edge2\" class=\"edge\">\n",
       "<title>method&#45;wrapper &#39;__hash__&#39; of Node object at 0x000001D4C522C9D0&#45;&gt;method&#45;wrapper &#39;__hash__&#39; of Node object at 0x000001D4C54D8C50</title>\n",
       "<path fill=\"none\" stroke=\"black\" d=\"M232.78,-336.6C238.06,-328.46 243.96,-319.38 249.59,-310.72\"/>\n",
       "<polygon fill=\"black\" stroke=\"black\" points=\"252.45,-312.75 254.96,-302.46 246.58,-308.94 252.45,-312.75\"/>\n",
       "</g>\n",
       "<!-- method&#45;wrapper &#39;__hash__&#39; of Node object at 0x000001D4C4F77F50 -->\n",
       "<g id=\"node4\" class=\"node\">\n",
       "<title>method&#45;wrapper &#39;__hash__&#39; of Node object at 0x000001D4C4F77F50</title>\n",
       "<polygon fill=\"none\" stroke=\"black\" points=\"93.75,-193.75 17,-193.75 17,-138.5 93.75,-138.5 93.75,-193.75\"/>\n",
       "<text text-anchor=\"middle\" x=\"55.38\" y=\"-176.45\" font-family=\"Times New Roman,serif\" font-size=\"14.00\">11&lt;=3.820</text>\n",
       "<text text-anchor=\"middle\" x=\"55.38\" y=\"-160.7\" font-family=\"Times New Roman,serif\" font-size=\"14.00\">Gini: 0.043</text>\n",
       "<text text-anchor=\"middle\" x=\"55.38\" y=\"-144.95\" font-family=\"Times New Roman,serif\" font-size=\"14.00\">Leaf: False</text>\n",
       "</g>\n",
       "<!-- method&#45;wrapper &#39;__hash__&#39; of Node object at 0x000001D4C46F4F10&#45;&gt;method&#45;wrapper &#39;__hash__&#39; of Node object at 0x000001D4C4F77F50 -->\n",
       "<g id=\"edge3\" class=\"edge\">\n",
       "<title>method&#45;wrapper &#39;__hash__&#39; of Node object at 0x000001D4C46F4F10&#45;&gt;method&#45;wrapper &#39;__hash__&#39; of Node object at 0x000001D4C4F77F50</title>\n",
       "<path fill=\"none\" stroke=\"black\" d=\"M131.85,-245.08C118.99,-231.98 103.4,-216.08 89.65,-202.07\"/>\n",
       "<polygon fill=\"black\" stroke=\"black\" points=\"92.37,-199.84 82.87,-195.15 87.37,-204.74 92.37,-199.84\"/>\n",
       "</g>\n",
       "<!-- method&#45;wrapper &#39;__hash__&#39; of Node object at 0x000001D4C54DA750 -->\n",
       "<g id=\"node5\" class=\"node\">\n",
       "<title>method&#45;wrapper &#39;__hash__&#39; of Node object at 0x000001D4C54DA750</title>\n",
       "<polygon fill=\"none\" stroke=\"black\" points=\"205.38,-209.5 111.38,-209.5 111.38,-122.75 205.38,-122.75 205.38,-209.5\"/>\n",
       "<text text-anchor=\"middle\" x=\"158.38\" y=\"-192.2\" font-family=\"Times New Roman,serif\" font-size=\"14.00\">0&lt;=6.525</text>\n",
       "<text text-anchor=\"middle\" x=\"158.38\" y=\"-176.45\" font-family=\"Times New Roman,serif\" font-size=\"14.00\">Gini: 0.000</text>\n",
       "<text text-anchor=\"middle\" x=\"158.38\" y=\"-160.7\" font-family=\"Times New Roman,serif\" font-size=\"14.00\">Leaf: True</text>\n",
       "<text text-anchor=\"middle\" x=\"158.38\" y=\"-144.95\" font-family=\"Times New Roman,serif\" font-size=\"14.00\">N. Samples: 1</text>\n",
       "<text text-anchor=\"middle\" x=\"158.38\" y=\"-129.2\" font-family=\"Times New Roman,serif\" font-size=\"14.00\">Output: 0</text>\n",
       "</g>\n",
       "<!-- method&#45;wrapper &#39;__hash__&#39; of Node object at 0x000001D4C46F4F10&#45;&gt;method&#45;wrapper &#39;__hash__&#39; of Node object at 0x000001D4C54DA750 -->\n",
       "<g id=\"edge4\" class=\"edge\">\n",
       "<title>method&#45;wrapper &#39;__hash__&#39; of Node object at 0x000001D4C46F4F10&#45;&gt;method&#45;wrapper &#39;__hash__&#39; of Node object at 0x000001D4C54DA750</title>\n",
       "<path fill=\"none\" stroke=\"black\" d=\"M158.38,-245.08C158.38,-237.73 158.38,-229.5 158.38,-221.22\"/>\n",
       "<polygon fill=\"black\" stroke=\"black\" points=\"161.88,-221.48 158.38,-211.48 154.88,-221.48 161.88,-221.48\"/>\n",
       "</g>\n",
       "<!-- method&#45;wrapper &#39;__hash__&#39; of Node object at 0x000001D4C54D9910 -->\n",
       "<g id=\"node6\" class=\"node\">\n",
       "<title>method&#45;wrapper &#39;__hash__&#39; of Node object at 0x000001D4C54D9910</title>\n",
       "<polygon fill=\"none\" stroke=\"black\" points=\"323.75,-209.5 223,-209.5 223,-122.75 323.75,-122.75 323.75,-209.5\"/>\n",
       "<text text-anchor=\"middle\" x=\"273.38\" y=\"-192.2\" font-family=\"Times New Roman,serif\" font-size=\"14.00\">0&lt;=12.225</text>\n",
       "<text text-anchor=\"middle\" x=\"273.38\" y=\"-176.45\" font-family=\"Times New Roman,serif\" font-size=\"14.00\">Gini: 0.000</text>\n",
       "<text text-anchor=\"middle\" x=\"273.38\" y=\"-160.7\" font-family=\"Times New Roman,serif\" font-size=\"14.00\">Leaf: True</text>\n",
       "<text text-anchor=\"middle\" x=\"273.38\" y=\"-144.95\" font-family=\"Times New Roman,serif\" font-size=\"14.00\">N. Samples: 34</text>\n",
       "<text text-anchor=\"middle\" x=\"273.38\" y=\"-129.2\" font-family=\"Times New Roman,serif\" font-size=\"14.00\">Output: 2</text>\n",
       "</g>\n",
       "<!-- method&#45;wrapper &#39;__hash__&#39; of Node object at 0x000001D4C54D8C50&#45;&gt;method&#45;wrapper &#39;__hash__&#39; of Node object at 0x000001D4C54D9910 -->\n",
       "<g id=\"edge5\" class=\"edge\">\n",
       "<title>method&#45;wrapper &#39;__hash__&#39; of Node object at 0x000001D4C54D8C50&#45;&gt;method&#45;wrapper &#39;__hash__&#39; of Node object at 0x000001D4C54D9910</title>\n",
       "<path fill=\"none\" stroke=\"black\" d=\"M273.38,-245.08C273.38,-237.73 273.38,-229.5 273.38,-221.22\"/>\n",
       "<polygon fill=\"black\" stroke=\"black\" points=\"276.88,-221.48 273.38,-211.48 269.88,-221.48 276.88,-221.48\"/>\n",
       "</g>\n",
       "<!-- method&#45;wrapper &#39;__hash__&#39; of Node object at 0x000001D4C54D9E10 -->\n",
       "<g id=\"node7\" class=\"node\">\n",
       "<title>method&#45;wrapper &#39;__hash__&#39; of Node object at 0x000001D4C54D9E10</title>\n",
       "<polygon fill=\"none\" stroke=\"black\" points=\"432.5,-193.75 342.25,-193.75 342.25,-138.5 432.5,-138.5 432.5,-193.75\"/>\n",
       "<text text-anchor=\"middle\" x=\"387.38\" y=\"-176.45\" font-family=\"Times New Roman,serif\" font-size=\"14.00\">12&lt;=724.500</text>\n",
       "<text text-anchor=\"middle\" x=\"387.38\" y=\"-160.7\" font-family=\"Times New Roman,serif\" font-size=\"14.00\">Gini: 0.236</text>\n",
       "<text text-anchor=\"middle\" x=\"387.38\" y=\"-144.95\" font-family=\"Times New Roman,serif\" font-size=\"14.00\">Leaf: False</text>\n",
       "</g>\n",
       "<!-- method&#45;wrapper &#39;__hash__&#39; of Node object at 0x000001D4C54D8C50&#45;&gt;method&#45;wrapper &#39;__hash__&#39; of Node object at 0x000001D4C54D9E10 -->\n",
       "<g id=\"edge6\" class=\"edge\">\n",
       "<title>method&#45;wrapper &#39;__hash__&#39; of Node object at 0x000001D4C54D8C50&#45;&gt;method&#45;wrapper &#39;__hash__&#39; of Node object at 0x000001D4C54D9E10</title>\n",
       "<path fill=\"none\" stroke=\"black\" d=\"M302.73,-245.08C317.09,-231.86 334.54,-215.79 349.86,-201.68\"/>\n",
       "<polygon fill=\"black\" stroke=\"black\" points=\"352.02,-204.45 357,-195.1 347.28,-199.3 352.02,-204.45\"/>\n",
       "</g>\n",
       "<!-- method&#45;wrapper &#39;__hash__&#39; of Node object at 0x000001D4C4B6FDD0 -->\n",
       "<g id=\"node8\" class=\"node\">\n",
       "<title>method&#45;wrapper &#39;__hash__&#39; of Node object at 0x000001D4C4B6FDD0</title>\n",
       "<polygon fill=\"none\" stroke=\"black\" points=\"100.75,-86.75 0,-86.75 0,0 100.75,0 100.75,-86.75\"/>\n",
       "<text text-anchor=\"middle\" x=\"50.38\" y=\"-69.45\" font-family=\"Times New Roman,serif\" font-size=\"14.00\">0&lt;=11.240</text>\n",
       "<text text-anchor=\"middle\" x=\"50.38\" y=\"-53.7\" font-family=\"Times New Roman,serif\" font-size=\"14.00\">Gini: 0.000</text>\n",
       "<text text-anchor=\"middle\" x=\"50.38\" y=\"-37.95\" font-family=\"Times New Roman,serif\" font-size=\"14.00\">Leaf: True</text>\n",
       "<text text-anchor=\"middle\" x=\"50.38\" y=\"-22.2\" font-family=\"Times New Roman,serif\" font-size=\"14.00\">N. Samples: 44</text>\n",
       "<text text-anchor=\"middle\" x=\"50.38\" y=\"-6.45\" font-family=\"Times New Roman,serif\" font-size=\"14.00\">Output: 1</text>\n",
       "</g>\n",
       "<!-- method&#45;wrapper &#39;__hash__&#39; of Node object at 0x000001D4C4F77F50&#45;&gt;method&#45;wrapper &#39;__hash__&#39; of Node object at 0x000001D4C4B6FDD0 -->\n",
       "<g id=\"edge7\" class=\"edge\">\n",
       "<title>method&#45;wrapper &#39;__hash__&#39; of Node object at 0x000001D4C4F77F50&#45;&gt;method&#45;wrapper &#39;__hash__&#39; of Node object at 0x000001D4C4B6FDD0</title>\n",
       "<path fill=\"none\" stroke=\"black\" d=\"M54.25,-138.03C53.77,-126.29 53.18,-112.12 52.61,-98.39\"/>\n",
       "<polygon fill=\"black\" stroke=\"black\" points=\"56.11,-98.39 52.2,-88.54 49.12,-98.68 56.11,-98.39\"/>\n",
       "</g>\n",
       "<!-- method&#45;wrapper &#39;__hash__&#39; of Node object at 0x000001D4C54D9A10 -->\n",
       "<g id=\"node9\" class=\"node\">\n",
       "<title>method&#45;wrapper &#39;__hash__&#39; of Node object at 0x000001D4C54D9A10</title>\n",
       "<polygon fill=\"none\" stroke=\"black\" points=\"212.38,-86.75 118.38,-86.75 118.38,0 212.38,0 212.38,-86.75\"/>\n",
       "<text text-anchor=\"middle\" x=\"165.38\" y=\"-69.45\" font-family=\"Times New Roman,serif\" font-size=\"14.00\">0&lt;=6.855</text>\n",
       "<text text-anchor=\"middle\" x=\"165.38\" y=\"-53.7\" font-family=\"Times New Roman,serif\" font-size=\"14.00\">Gini: 0.000</text>\n",
       "<text text-anchor=\"middle\" x=\"165.38\" y=\"-37.95\" font-family=\"Times New Roman,serif\" font-size=\"14.00\">Leaf: True</text>\n",
       "<text text-anchor=\"middle\" x=\"165.38\" y=\"-22.2\" font-family=\"Times New Roman,serif\" font-size=\"14.00\">N. Samples: 1</text>\n",
       "<text text-anchor=\"middle\" x=\"165.38\" y=\"-6.45\" font-family=\"Times New Roman,serif\" font-size=\"14.00\">Output: 0</text>\n",
       "</g>\n",
       "<!-- method&#45;wrapper &#39;__hash__&#39; of Node object at 0x000001D4C4F77F50&#45;&gt;method&#45;wrapper &#39;__hash__&#39; of Node object at 0x000001D4C54D9A10 -->\n",
       "<g id=\"edge8\" class=\"edge\">\n",
       "<title>method&#45;wrapper &#39;__hash__&#39; of Node object at 0x000001D4C4F77F50&#45;&gt;method&#45;wrapper &#39;__hash__&#39; of Node object at 0x000001D4C54D9A10</title>\n",
       "<path fill=\"none\" stroke=\"black\" d=\"M80.06,-138.03C91.5,-125.47 105.48,-110.12 118.79,-95.52\"/>\n",
       "<polygon fill=\"black\" stroke=\"black\" points=\"121.35,-97.89 125.5,-88.15 116.18,-93.18 121.35,-97.89\"/>\n",
       "</g>\n",
       "<!-- method&#45;wrapper &#39;__hash__&#39; of Node object at 0x000001D4C54D9FD0 -->\n",
       "<g id=\"node10\" class=\"node\">\n",
       "<title>method&#45;wrapper &#39;__hash__&#39; of Node object at 0x000001D4C54D9FD0</title>\n",
       "<polygon fill=\"none\" stroke=\"black\" points=\"379.38,-86.75 285.38,-86.75 285.38,0 379.38,0 379.38,-86.75\"/>\n",
       "<text text-anchor=\"middle\" x=\"332.38\" y=\"-69.45\" font-family=\"Times New Roman,serif\" font-size=\"14.00\">0&lt;=13.145</text>\n",
       "<text text-anchor=\"middle\" x=\"332.38\" y=\"-53.7\" font-family=\"Times New Roman,serif\" font-size=\"14.00\">Gini: 0.245</text>\n",
       "<text text-anchor=\"middle\" x=\"332.38\" y=\"-37.95\" font-family=\"Times New Roman,serif\" font-size=\"14.00\">Leaf: True</text>\n",
       "<text text-anchor=\"middle\" x=\"332.38\" y=\"-22.2\" font-family=\"Times New Roman,serif\" font-size=\"14.00\">N. Samples: 7</text>\n",
       "<text text-anchor=\"middle\" x=\"332.38\" y=\"-6.45\" font-family=\"Times New Roman,serif\" font-size=\"14.00\">Output: 1</text>\n",
       "</g>\n",
       "<!-- method&#45;wrapper &#39;__hash__&#39; of Node object at 0x000001D4C54D9E10&#45;&gt;method&#45;wrapper &#39;__hash__&#39; of Node object at 0x000001D4C54D9FD0 -->\n",
       "<g id=\"edge9\" class=\"edge\">\n",
       "<title>method&#45;wrapper &#39;__hash__&#39; of Node object at 0x000001D4C54D9E10&#45;&gt;method&#45;wrapper &#39;__hash__&#39; of Node object at 0x000001D4C54D9FD0</title>\n",
       "<path fill=\"none\" stroke=\"black\" d=\"M375.03,-138.03C369.53,-125.94 362.84,-111.27 356.42,-97.16\"/>\n",
       "<polygon fill=\"black\" stroke=\"black\" points=\"359.76,-96.05 352.43,-88.4 353.39,-98.96 359.76,-96.05\"/>\n",
       "</g>\n",
       "<!-- method&#45;wrapper &#39;__hash__&#39; of Node object at 0x000001D4C54D8B10 -->\n",
       "<g id=\"node11\" class=\"node\">\n",
       "<title>method&#45;wrapper &#39;__hash__&#39; of Node object at 0x000001D4C54D8B10</title>\n",
       "<polygon fill=\"none\" stroke=\"black\" points=\"497.75,-86.75 397,-86.75 397,0 497.75,0 497.75,-86.75\"/>\n",
       "<text text-anchor=\"middle\" x=\"447.38\" y=\"-69.45\" font-family=\"Times New Roman,serif\" font-size=\"14.00\">0&lt;=12.890</text>\n",
       "<text text-anchor=\"middle\" x=\"447.38\" y=\"-53.7\" font-family=\"Times New Roman,serif\" font-size=\"14.00\">Gini: 0.000</text>\n",
       "<text text-anchor=\"middle\" x=\"447.38\" y=\"-37.95\" font-family=\"Times New Roman,serif\" font-size=\"14.00\">Leaf: True</text>\n",
       "<text text-anchor=\"middle\" x=\"447.38\" y=\"-22.2\" font-family=\"Times New Roman,serif\" font-size=\"14.00\">N. Samples: 37</text>\n",
       "<text text-anchor=\"middle\" x=\"447.38\" y=\"-6.45\" font-family=\"Times New Roman,serif\" font-size=\"14.00\">Output: 0</text>\n",
       "</g>\n",
       "<!-- method&#45;wrapper &#39;__hash__&#39; of Node object at 0x000001D4C54D9E10&#45;&gt;method&#45;wrapper &#39;__hash__&#39; of Node object at 0x000001D4C54D8B10 -->\n",
       "<g id=\"edge10\" class=\"edge\">\n",
       "<title>method&#45;wrapper &#39;__hash__&#39; of Node object at 0x000001D4C54D9E10&#45;&gt;method&#45;wrapper &#39;__hash__&#39; of Node object at 0x000001D4C54D8B10</title>\n",
       "<path fill=\"none\" stroke=\"black\" d=\"M400.84,-138.03C406.85,-125.94 414.14,-111.27 421.15,-97.16\"/>\n",
       "<polygon fill=\"black\" stroke=\"black\" points=\"424.19,-98.89 425.51,-88.38 417.92,-95.78 424.19,-98.89\"/>\n",
       "</g>\n",
       "</g>\n",
       "</svg>\n"
      ],
      "text/plain": [
       "<graphviz.graphs.Digraph at 0x1d4c5460dd0>"
      ]
     },
     "execution_count": 28,
     "metadata": {},
     "output_type": "execute_result"
    }
   ],
   "source": [
    "plot_tree(dtc)"
   ]
  },
  {
   "cell_type": "markdown",
   "metadata": {},
   "source": [
    "#### Random Forest Classifier"
   ]
  },
  {
   "cell_type": "code",
   "execution_count": 29,
   "metadata": {},
   "outputs": [
    {
     "name": "stdout",
     "output_type": "stream",
     "text": [
      "Accuracy: 0.9435483870967742\tAccuracy: 0.9444444444444444\n",
      "Accuracy: 1.0\tAccuracy: 0.9629629629629629\n",
      "Accuracy: 1.0\tAccuracy: 0.9814814814814815\n",
      "Accuracy: 1.0\tAccuracy: 0.9629629629629629\n",
      "Accuracy: 1.0\tAccuracy: 0.9814814814814815\n",
      "Accuracy: 1.0\tAccuracy: 0.9814814814814815\n",
      "              precision    recall  f1-score   support\n",
      "\n",
      "           0       1.00      1.00      1.00        19\n",
      "           1       0.95      1.00      0.98        21\n",
      "           2       1.00      0.93      0.96        14\n",
      "\n",
      "    accuracy                           0.98        54\n",
      "   macro avg       0.98      0.98      0.98        54\n",
      "weighted avg       0.98      0.98      0.98        54\n",
      "\n"
     ]
    }
   ],
   "source": [
    "from rlearn.tree import RandomForestClassifier\n",
    "\n",
    "forest = RandomForestClassifier(max_depth=10, n_estimators=100)\n",
    "forest.fit(X_train, y_train, X_test, y_test, verbose=20)\n",
    "\n",
    "print(classification_report(y_test, forest.predict(X_test)))"
   ]
  },
  {
   "cell_type": "markdown",
   "metadata": {},
   "source": [
    "#### Gradient Boosting Classifier"
   ]
  },
  {
   "cell_type": "code",
   "execution_count": 9,
   "metadata": {},
   "outputs": [
    {
     "name": "stdout",
     "output_type": "stream",
     "text": [
      "Estimators: 0\tTrain Loss: 0.3709677419354839\tValidation Loss: 0.46296296296296297\n",
      "Estimators: 40\tTrain Loss: 1.0\tValidation Loss: 1.0\n",
      "Estimators: 80\tTrain Loss: 1.0\tValidation Loss: 0.9629629629629629\n",
      "Estimators: 120\tTrain Loss: 1.0\tValidation Loss: 0.9629629629629629\n",
      "Estimators: 160\tTrain Loss: 1.0\tValidation Loss: 0.9814814814814815\n",
      "Estimators: 199\tTrain Loss: 1.0\tValidation Loss: 0.9814814814814815\n",
      "              precision    recall  f1-score   support\n",
      "\n",
      "           0       1.00      1.00      1.00        14\n",
      "           1       1.00      1.00      1.00        25\n",
      "           2       1.00      1.00      1.00        15\n",
      "\n",
      "    accuracy                           1.00        54\n",
      "   macro avg       1.00      1.00      1.00        54\n",
      "weighted avg       1.00      1.00      1.00        54\n",
      "\n"
     ]
    }
   ],
   "source": [
    "from rlearn.tree import GradientBoostClassifier\n",
    "\n",
    "gbc = GradientBoostClassifier(\n",
    "    n_estimators=200,\n",
    "    max_depth=5,\n",
    "    frac_of_samples=0.3,\n",
    "    max_features=int(np.sqrt(X_train.shape[1])),\n",
    ")\n",
    "gbc.fit(X_train, y_train, X_test, y_test, verbose=40)\n",
    "\n",
    "print(classification_report(y_test, gbc.predict(X_test)))"
   ]
  },
  {
   "cell_type": "markdown",
   "metadata": {},
   "source": [
    "## [Clusters](rlearn/cluster.py)  \n",
    "<sub>[Back to top.](#table-of-contents)</sub>"
   ]
  },
  {
   "cell_type": "markdown",
   "metadata": {},
   "source": [
    "Dataset used for clustering."
   ]
  },
  {
   "cell_type": "code",
   "execution_count": 1,
   "metadata": {},
   "outputs": [],
   "source": [
    "from sklearn.datasets import load_iris\n",
    "\n",
    "X, y = load_iris(return_X_y=True)"
   ]
  },
  {
   "cell_type": "markdown",
   "metadata": {},
   "source": [
    "#### K-Means"
   ]
  },
  {
   "cell_type": "code",
   "execution_count": 2,
   "metadata": {},
   "outputs": [],
   "source": [
    "from rlearn.cluster import KMeans\n",
    "\n",
    "kmeans = KMeans(k=3)\n",
    "kmeans.fit(X[:, [0, 1]])\n",
    "_ = kmeans.make_animation(X[:, [0, 1]], interval=1000)"
   ]
  },
  {
   "cell_type": "markdown",
   "metadata": {},
   "source": [
    "![K-Means training.](README_files/kmeans.gif)"
   ]
  },
  {
   "cell_type": "markdown",
   "metadata": {},
   "source": [
    "#### DBSCAN"
   ]
  },
  {
   "cell_type": "code",
   "execution_count": 2,
   "metadata": {},
   "outputs": [
    {
     "name": "stdout",
     "output_type": "stream",
     "text": [
      "it may take a while...\n",
      "Done!\n"
     ]
    }
   ],
   "source": [
    "from rlearn.cluster import DBSCAN\n",
    "\n",
    "d = DBSCAN(eps=0.3, algorithm=\"brute\")\n",
    "d.fit(X[:, [0, 1]])\n",
    "d.make_animation(X)"
   ]
  },
  {
   "cell_type": "markdown",
   "metadata": {},
   "source": [
    "![DBSCAN training.](README_files/dbscan.gif)"
   ]
  },
  {
   "cell_type": "markdown",
   "metadata": {},
   "source": [
    "## [Neighbors](rlearn/neighbour.py)\n",
    "<sub>[Back to top.](#table-of-contents)</sub>"
   ]
  },
  {
   "cell_type": "markdown",
   "metadata": {},
   "source": [
    "### Classification with KNN"
   ]
  },
  {
   "cell_type": "markdown",
   "metadata": {},
   "source": [
    "Dataset used for classification with neighbours algorithms."
   ]
  },
  {
   "cell_type": "code",
   "execution_count": 8,
   "metadata": {},
   "outputs": [],
   "source": [
    "from sklearn.datasets import load_wine\n",
    "\n",
    "X, y = load_wine(return_X_y=True)\n",
    "X_train, X_test, y_train, y_test = train_test_split(\n",
    "    X, y, test_size=0.20, random_state=42, shuffle=True\n",
    ")"
   ]
  },
  {
   "cell_type": "markdown",
   "metadata": {},
   "source": [
    "#### K-Nearest Neighbours Classifier"
   ]
  },
  {
   "cell_type": "code",
   "execution_count": 27,
   "metadata": {},
   "outputs": [
    {
     "name": "stdout",
     "output_type": "stream",
     "text": [
      "              precision    recall  f1-score   support\n",
      "\n",
      "           0       0.88      1.00      0.93        14\n",
      "           1       0.82      0.64      0.72        14\n",
      "           2       0.44      0.50      0.47         8\n",
      "\n",
      "    accuracy                           0.75        36\n",
      "   macro avg       0.71      0.71      0.71        36\n",
      "weighted avg       0.76      0.75      0.75        36\n",
      "\n"
     ]
    }
   ],
   "source": [
    "from rlearn.neighbour import KNearestNeighbors\n",
    "\n",
    "knn = KNearestNeighbors(14)\n",
    "knn.fit(X_train, y_train)\n",
    "print(classification_report(y_test, knn.predict(X_test)))"
   ]
  },
  {
   "cell_type": "markdown",
   "metadata": {},
   "source": [
    "### Regression with KNN"
   ]
  },
  {
   "cell_type": "markdown",
   "metadata": {},
   "source": [
    "Dataset used for regression."
   ]
  },
  {
   "cell_type": "code",
   "execution_count": 33,
   "metadata": {},
   "outputs": [],
   "source": [
    "from sklearn.datasets import fetch_california_housing\n",
    "\n",
    "housing = fetch_california_housing()\n",
    "X_train, X_test, y_train, y_test = train_test_split(\n",
    "    housing.data, housing.target, test_size=0.20, random_state=42, shuffle=True\n",
    ")"
   ]
  },
  {
   "cell_type": "markdown",
   "metadata": {},
   "source": [
    "#### K-Nearest Neighbours Regressor"
   ]
  },
  {
   "cell_type": "code",
   "execution_count": 31,
   "metadata": {},
   "outputs": [
    {
     "data": {
      "text/plain": [
       "0.25277777777777777"
      ]
     },
     "execution_count": 31,
     "metadata": {},
     "output_type": "execute_result"
    }
   ],
   "source": [
    "from rlearn.neighbour import KNearestNeighborsRegressor\n",
    "\n",
    "knnr = KNearestNeighborsRegressor(10)\n",
    "knnr.fit(X_train, y_train)\n",
    "mean_squared_error(y_test, knnr.predict(X_test))"
   ]
  },
  {
   "cell_type": "markdown",
   "metadata": {},
   "source": [
    "<sub>[Back to top.](#table-of-contents)</sub>"
   ]
  }
 ],
 "metadata": {
  "kernelspec": {
   "display_name": "Python 3",
   "language": "python",
   "name": "python3"
  },
  "language_info": {
   "codemirror_mode": {
    "name": "ipython",
    "version": 3
   },
   "file_extension": ".py",
   "mimetype": "text/x-python",
   "name": "python",
   "nbconvert_exporter": "python",
   "pygments_lexer": "ipython3",
   "version": "3.11.8"
  }
 },
 "nbformat": 4,
 "nbformat_minor": 2
}
