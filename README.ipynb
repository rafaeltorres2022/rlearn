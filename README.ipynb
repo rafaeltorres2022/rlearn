{
 "cells": [
  {
   "cell_type": "markdown",
   "metadata": {},
   "source": [
    "# rlearn\n",
    "Learning machine learning algorithms."
   ]
  },
  {
   "cell_type": "markdown",
   "metadata": {},
   "source": [
    "# Table of Contents\n",
    "- [Linear Models](#Linear-Models)  \n",
    "    - [Binary Classification](#binary-classification)  \n",
    "        - [Standard Perceptron](#standard-perceptron)  \n",
    "        - [Logistic Regression](#perceptron-with-sigmoid-activation)\n",
    "    - [Regression](#regression)  \n",
    "        - [Ordinary Least Squares](#ordinary-least-squares)\n",
    "        - [Linear Regression](#perceptron-with-linear-activation)\n",
    "        - [Elastic Net](#elastic-net)\n",
    "- [Neural Networks](#neural-networks)  \n",
    "    - [Regression](#regression-with-neural-network)  \n",
    "        - [Multilayer Perceptron](#multilayer-perceptron)\n",
    "    - [Multiclass Classification](#multiclass-classification)  \n",
    "        - [Multilayer Perceptron](#multilayer-perceptron-classification)\n",
    "        - [Convolutional Neural Network](#convolutional-neural-network)  \n",
    "- [Trees](#trees)\n",
    "    - [Regression](#regression-with-trees)  \n",
    "        - [Decision Tree](#decision-tree-regressor)  \n",
    "        - [Random Forest](#random-forest-regressor)  \n",
    "        - [Gradient Boosting Regressor](#gradient-boosting-regressor)\n",
    "    - [Classification](#classification-with-trees)  \n",
    "        - [Decision Tree](#decision-tree-classifier)\n",
    "        - [Random Forest](#random-forest-classifier)\n",
    "        - [Gradient Boosting Classifier](#gradient-boosting-classifier)\n",
    "- [Clusters](#clusters)\n",
    "    - [K-Means](#k-means)\n",
    "    - [DBSCAN](#dbscan)\n",
    "- [Neighbors](#neighbours)  \n",
    "    - [Classification](#classification-with-knn)  \n",
    "        - [K-Nearest Neighbors](#k-nearest-neighbours-classifier)\n",
    "    - [Regression](#regression-with-knn)\n",
    "        - [K-Nearest Neighbors Regressor](#k-nearest-neighbours-regressor)\n",
    "- [Bayes](#bayes)\n",
    "    - [Gaussian Naive Bayes](#gaussiannb)"
   ]
  },
  {
   "cell_type": "markdown",
   "metadata": {},
   "source": [
    "## [Linear Models](rlearn\\linear_model.py)"
   ]
  },
  {
   "cell_type": "code",
   "execution_count": 3,
   "metadata": {},
   "outputs": [],
   "source": [
    "import matplotlib.pyplot as plt\n",
    "import numpy as np\n",
    "from rlearn.solvers import *\n",
    "from sklearn.model_selection import train_test_split\n",
    "from sklearn.metrics import f1_score, mean_squared_error, classification_report\n",
    "\n",
    "np.set_printoptions(precision=2, suppress=1)"
   ]
  },
  {
   "cell_type": "markdown",
   "metadata": {},
   "source": [
    "### Binary Classification"
   ]
  },
  {
   "cell_type": "markdown",
   "metadata": {},
   "source": [
    "Dataset used for binary classification examples:"
   ]
  },
  {
   "cell_type": "code",
   "execution_count": 2,
   "metadata": {},
   "outputs": [],
   "source": [
    "from sklearn.datasets import load_breast_cancer\n",
    "\n",
    "X, y = load_breast_cancer(return_X_y=True)\n",
    "X_train, X_test, y_train, y_test = train_test_split(\n",
    "    X, y, test_size=0.20, random_state=42\n",
    ")"
   ]
  },
  {
   "cell_type": "markdown",
   "metadata": {},
   "source": [
    "#### Standard Perceptron"
   ]
  },
  {
   "cell_type": "code",
   "execution_count": 3,
   "metadata": {},
   "outputs": [
    {
     "name": "stdout",
     "output_type": "stream",
     "text": [
      "              precision    recall  f1-score   support\n",
      "\n",
      "           0       0.88      1.00      0.93        43\n",
      "           1       1.00      0.92      0.96        71\n",
      "\n",
      "    accuracy                           0.95       114\n",
      "   macro avg       0.94      0.96      0.95       114\n",
      "weighted avg       0.95      0.95      0.95       114\n",
      "\n"
     ]
    }
   ],
   "source": [
    "from rlearn.linear_model import Perceptron\n",
    "\n",
    "standard_perceptron = Perceptron(\n",
    "    solver=\"perceptron\", activation=\"step\", loss_function=\"perceptron\"\n",
    ")\n",
    "standard_perceptron.fit(X_train, y_train)\n",
    "\n",
    "print(classification_report(y_test, standard_perceptron.predict(X_test)))"
   ]
  },
  {
   "cell_type": "markdown",
   "metadata": {},
   "source": [
    "#### Perceptron with  Sigmoid Activation\n",
    "Which is equivalent to a Logistic Regression"
   ]
  },
  {
   "cell_type": "code",
   "execution_count": 4,
   "metadata": {},
   "outputs": [
    {
     "name": "stdout",
     "output_type": "stream",
     "text": [
      "              precision    recall  f1-score   support\n",
      "\n",
      "           0       0.84      0.95      0.89        43\n",
      "           1       0.97      0.89      0.93        71\n",
      "\n",
      "    accuracy                           0.91       114\n",
      "   macro avg       0.90      0.92      0.91       114\n",
      "weighted avg       0.92      0.91      0.91       114\n",
      "\n"
     ]
    }
   ],
   "source": [
    "logistic_model = Perceptron(activation=\"sigmoid\", loss_function=\"logloss\")\n",
    "logistic_model.fit(X_train, y_train)\n",
    "\n",
    "print(classification_report(y_test, logistic_model.predict(X_test)))"
   ]
  },
  {
   "cell_type": "markdown",
   "metadata": {},
   "source": [
    "### Regression"
   ]
  },
  {
   "cell_type": "markdown",
   "metadata": {},
   "source": [
    "Dataset used for regression examples"
   ]
  },
  {
   "cell_type": "code",
   "execution_count": 5,
   "metadata": {},
   "outputs": [],
   "source": [
    "from sklearn.datasets import load_diabetes\n",
    "\n",
    "X, y = load_diabetes(return_X_y=True)\n",
    "X_train, X_test, y_train, y_test = train_test_split(\n",
    "    X, y, test_size=0.20, random_state=42\n",
    ")"
   ]
  },
  {
   "cell_type": "markdown",
   "metadata": {},
   "source": [
    "#### Ordinary Least Squares"
   ]
  },
  {
   "cell_type": "code",
   "execution_count": 6,
   "metadata": {},
   "outputs": [
    {
     "name": "stdout",
     "output_type": "stream",
     "text": [
      "Mean Squared Error: 2900.1936284934795\n"
     ]
    }
   ],
   "source": [
    "from rlearn.linear_model import OLS\n",
    "\n",
    "ols = OLS()\n",
    "ols.fit(X_train, y_train)\n",
    "print(\"Mean Squared Error:\", mean_squared_error(y_test, ols.predict(X_test)))"
   ]
  },
  {
   "cell_type": "markdown",
   "metadata": {},
   "source": [
    "#### Perceptron with Linear Activation\n",
    "Which is equivalent to a simple Linear Regression"
   ]
  },
  {
   "cell_type": "code",
   "execution_count": 7,
   "metadata": {},
   "outputs": [
    {
     "name": "stdout",
     "output_type": "stream",
     "text": [
      "Mean Squared Error: 2892.293793887584\n"
     ]
    }
   ],
   "source": [
    "linear_regression = Perceptron(\n",
    "    activation=\"linear\",\n",
    "    solver=StochasticGradientDescent(learning_rate=0.1, momentum=0.9),\n",
    ")\n",
    "linear_regression.fit(X_train, y_train, epochs=100000)\n",
    "print(\n",
    "    \"Mean Squared Error:\", mean_squared_error(y_test, linear_regression.predict(X_test))\n",
    ")"
   ]
  },
  {
   "cell_type": "markdown",
   "metadata": {},
   "source": [
    "#### Elastic Net"
   ]
  },
  {
   "cell_type": "code",
   "execution_count": 8,
   "metadata": {},
   "outputs": [
    {
     "name": "stdout",
     "output_type": "stream",
     "text": [
      "Mean Squared Error: 2945.2120204910398\n"
     ]
    }
   ],
   "source": [
    "from rlearn.linear_model import ElasticNet\n",
    "\n",
    "elastic_net = ElasticNet(alpha=1, l1_ratio=1, learning_rate=0.01, solver=\"sgd\")\n",
    "elastic_net.fit(X_train, y_train, verbose=0, epochs=100000)\n",
    "print(\"Mean Squared Error:\", mean_squared_error(y_test, elastic_net.predict(X_test)))"
   ]
  },
  {
   "cell_type": "markdown",
   "metadata": {},
   "source": [
    "## [Neural Networks](rlearn/nn.py)  \n",
    "<sub>[Back to top.](#table-of-contents)</sub>\n"
   ]
  },
  {
   "cell_type": "markdown",
   "metadata": {},
   "source": [
    "### Regression with Neural Network"
   ]
  },
  {
   "cell_type": "markdown",
   "metadata": {},
   "source": [
    "#### Multilayer Perceptron"
   ]
  },
  {
   "cell_type": "code",
   "execution_count": 9,
   "metadata": {},
   "outputs": [
    {
     "name": "stdout",
     "output_type": "stream",
     "text": [
      "Epoch 1: Training Loss 27980.92\tTest Loss 26388.29\n",
      "Epoch 10000: Training Loss 2928.09\tTest Loss 2781.76\n",
      "Epoch 20000: Training Loss 2789.25\tTest Loss 2666.48\n",
      "Epoch 30000: Training Loss 2747.71\tTest Loss 2631.58\n",
      "Epoch 40000: Training Loss 2722.93\tTest Loss 2605.82\n",
      "Epoch 50000: Training Loss 2696.69\tTest Loss 2618.78\n",
      "Mean Squared Error: 2618.779078904181\n"
     ]
    }
   ],
   "source": [
    "from rlearn.nn import NNModel, FC\n",
    "from rlearn.activation_functions import *\n",
    "from rlearn.regularization import Regularization\n",
    "\n",
    "mlp_regularization = NNModel(\n",
    "    loss=\"mse\",\n",
    "    input_dim=X_train.shape[1:],\n",
    "    layers=[\n",
    "        FC(16, regularization=Regularization(alpha=1, l1_ratio=1)),\n",
    "        FC(1, activation=Relu()),\n",
    "    ],\n",
    ")\n",
    "\n",
    "mlp_regularization.fit(X_train, y_train, X_test, y_test, epochs=50000, verbose=10000)\n",
    "print(\n",
    "    \"Mean Squared Error:\",\n",
    "    mean_squared_error(y_test, mlp_regularization.predict(X_test, 1)),\n",
    ")"
   ]
  },
  {
   "cell_type": "markdown",
   "metadata": {},
   "source": [
    "### Multiclass Classification"
   ]
  },
  {
   "cell_type": "markdown",
   "metadata": {},
   "source": [
    "Dataset used for multiclass classification"
   ]
  },
  {
   "cell_type": "code",
   "execution_count": 10,
   "metadata": {},
   "outputs": [
    {
     "name": "stdout",
     "output_type": "stream",
     "text": [
      "WARNING:tensorflow:From c:\\Users\\Rafael\\Documents\\rlearn\\rlearn-env\\Lib\\site-packages\\keras\\src\\losses.py:2976: The name tf.losses.sparse_softmax_cross_entropy is deprecated. Please use tf.compat.v1.losses.sparse_softmax_cross_entropy instead.\n",
      "\n"
     ]
    }
   ],
   "source": [
    "from tensorflow.keras.datasets import fashion_mnist\n",
    "\n",
    "(X_train, y_train), (X_test, y_test) = fashion_mnist.load_data()\n",
    "X_train = X_train.reshape(*X_train.shape, 1)\n",
    "X_test = X_test.reshape(*X_test.shape, 1)\n",
    "X_train = X_train / 255\n",
    "X_test = X_test / 255"
   ]
  },
  {
   "cell_type": "markdown",
   "metadata": {},
   "source": [
    "#### Multilayer Perceptron Classification"
   ]
  },
  {
   "cell_type": "code",
   "execution_count": 11,
   "metadata": {},
   "outputs": [
    {
     "name": "stdout",
     "output_type": "stream",
     "text": [
      "Epoch 1: Training Loss 0.09\tTraining Accuracy 0.70\tTest Loss 0.10\tTest Accuracy 0.69\n",
      "Epoch 2: Training Loss 0.07\tTraining Accuracy 0.74\tTest Loss 0.08\tTest Accuracy 0.75\n",
      "Epoch 4: Training Loss 0.05\tTraining Accuracy 0.82\tTest Loss 0.06\tTest Accuracy 0.79\n",
      "Epoch 6: Training Loss 0.05\tTraining Accuracy 0.85\tTest Loss 0.06\tTest Accuracy 0.81\n",
      "Epoch 8: Training Loss 0.05\tTraining Accuracy 0.84\tTest Loss 0.05\tTest Accuracy 0.82\n",
      "Epoch 10: Training Loss 0.04\tTraining Accuracy 0.85\tTest Loss 0.05\tTest Accuracy 0.83\n",
      "              precision    recall  f1-score   support\n",
      "\n",
      "           0       0.70      0.88      0.78      1000\n",
      "           1       0.99      0.93      0.96      1000\n",
      "           2       0.72      0.71      0.72      1000\n",
      "           3       0.86      0.82      0.84      1000\n",
      "           4       0.71      0.77      0.74      1000\n",
      "           5       0.93      0.89      0.91      1000\n",
      "           6       0.67      0.45      0.54      1000\n",
      "           7       0.91      0.88      0.90      1000\n",
      "           8       0.89      0.96      0.92      1000\n",
      "           9       0.88      0.96      0.92      1000\n",
      "\n",
      "    accuracy                           0.83     10000\n",
      "   macro avg       0.83      0.83      0.82     10000\n",
      "weighted avg       0.83      0.83      0.82     10000\n",
      "\n"
     ]
    }
   ],
   "source": [
    "from rlearn.nn import Squeezing\n",
    "\n",
    "mlp_regularization = NNModel(\n",
    "    input_dim=X_train.shape[1:],\n",
    "    layers=[\n",
    "        Squeezing(),\n",
    "        FC(30, regularization=Regularization(alpha=1, l1_ratio=0)),\n",
    "        FC(10, activation=Softmax()),\n",
    "    ],\n",
    ")\n",
    "\n",
    "mlp_regularization.fit(X_train, y_train, X_test, y_test, epochs=10, verbose=2)\n",
    "print(classification_report(y_test, mlp_regularization.predict(X_test)))"
   ]
  },
  {
   "cell_type": "markdown",
   "metadata": {},
   "source": [
    "#### Convolutional Neural Network"
   ]
  },
  {
   "cell_type": "code",
   "execution_count": 12,
   "metadata": {},
   "outputs": [
    {
     "name": "stdout",
     "output_type": "stream",
     "text": [
      "Epoch 1: Training Loss 0.06\tTraining Accuracy 0.76\tTest Loss 0.07\tTest Accuracy 0.76\n",
      "Epoch 2: Training Loss 0.04\tTraining Accuracy 0.82\tTest Loss 0.06\tTest Accuracy 0.80\n",
      "Epoch 4: Training Loss 0.04\tTraining Accuracy 0.87\tTest Loss 0.05\tTest Accuracy 0.83\n",
      "Epoch 6: Training Loss 0.03\tTraining Accuracy 0.89\tTest Loss 0.05\tTest Accuracy 0.84\n",
      "Epoch 8: Training Loss 0.03\tTraining Accuracy 0.89\tTest Loss 0.04\tTest Accuracy 0.85\n",
      "Epoch 10: Training Loss 0.03\tTraining Accuracy 0.89\tTest Loss 0.04\tTest Accuracy 0.85\n",
      "              precision    recall  f1-score   support\n",
      "\n",
      "           0       0.81      0.81      0.81      1000\n",
      "           1       0.99      0.95      0.97      1000\n",
      "           2       0.77      0.74      0.75      1000\n",
      "           3       0.83      0.87      0.85      1000\n",
      "           4       0.71      0.80      0.75      1000\n",
      "           5       0.95      0.96      0.96      1000\n",
      "           6       0.63      0.56      0.59      1000\n",
      "           7       0.93      0.91      0.92      1000\n",
      "           8       0.97      0.95      0.96      1000\n",
      "           9       0.93      0.95      0.94      1000\n",
      "\n",
      "    accuracy                           0.85     10000\n",
      "   macro avg       0.85      0.85      0.85     10000\n",
      "weighted avg       0.85      0.85      0.85     10000\n",
      "\n"
     ]
    }
   ],
   "source": [
    "from rlearn.nn import Conv3C, MaxPooling\n",
    "\n",
    "convnn_regularization = NNModel(\n",
    "    input_dim=X_train.shape[1:],\n",
    "    layers=[\n",
    "        Conv3C(\n",
    "            kernel_size=3,\n",
    "            n_chanels_kernel=X_train.shape[-1],\n",
    "            out_channels=8,\n",
    "            regularization=Regularization(1, 0),\n",
    "        ),\n",
    "        MaxPooling(),\n",
    "        Squeezing(),\n",
    "        FC(10, activation=Softmax()),\n",
    "    ],\n",
    ")\n",
    "\n",
    "convnn_regularization.fit(X_train, y_train, X_test, y_test, epochs=10, verbose=2)\n",
    "print(classification_report(y_test, convnn_regularization.predict(X_test)))"
   ]
  },
  {
   "cell_type": "markdown",
   "metadata": {},
   "source": [
    "## [Trees](rlearn/tree.py)  \n",
    "<sub>[Back to top.](#table-of-contents)</sub>"
   ]
  },
  {
   "cell_type": "markdown",
   "metadata": {},
   "source": [
    "### Regression with Trees"
   ]
  },
  {
   "cell_type": "markdown",
   "metadata": {},
   "source": [
    "Dataset used for Regression. My implementation of Decision Trees requires DataFrame as input."
   ]
  },
  {
   "cell_type": "code",
   "execution_count": 15,
   "metadata": {},
   "outputs": [],
   "source": [
    "from rlearn.tree_utils import plot_tree\n",
    "\n",
    "X, y = load_diabetes(return_X_y=True, as_frame=True)\n",
    "split_delimiter = int(len(X) * 0.7)\n",
    "X_train = X[:split_delimiter]\n",
    "y_train = y[:split_delimiter]\n",
    "X_test = X[split_delimiter:]\n",
    "y_test = y[split_delimiter:]"
   ]
  },
  {
   "cell_type": "markdown",
   "metadata": {},
   "source": [
    "#### Decision Tree Regressor"
   ]
  },
  {
   "cell_type": "code",
   "execution_count": 16,
   "metadata": {},
   "outputs": [
    {
     "name": "stdout",
     "output_type": "stream",
     "text": [
      "Mean Squared Error: 4193.494500508087\n"
     ]
    }
   ],
   "source": [
    "from rlearn.tree import DecisionTreeRegressor\n",
    "\n",
    "dtr = DecisionTreeRegressor(max_depth=4, min_samples_split=20)\n",
    "dtr.fit(X_train, y_train)\n",
    "\n",
    "print(\"Mean Squared Error:\", mean_squared_error(y_test, dtr.predict(X_test)))"
   ]
  },
  {
   "cell_type": "code",
   "execution_count": 17,
   "metadata": {},
   "outputs": [
    {
     "data": {
      "image/svg+xml": [
       "<?xml version=\"1.0\" encoding=\"UTF-8\" standalone=\"no\"?>\n",
       "<!DOCTYPE svg PUBLIC \"-//W3C//DTD SVG 1.1//EN\"\n",
       " \"http://www.w3.org/Graphics/SVG/1.1/DTD/svg11.dtd\">\n",
       "<!-- Generated by graphviz version 10.0.1 (20240210.2158)\n",
       " -->\n",
       "<!-- Title: tree Pages: 1 -->\n",
       "<svg width=\"720pt\" height=\"257pt\"\n",
       " viewBox=\"0.00 0.00 720.00 256.54\" xmlns=\"http://www.w3.org/2000/svg\" xmlns:xlink=\"http://www.w3.org/1999/xlink\">\n",
       "<g id=\"graph0\" class=\"graph\" transform=\"scale(0.522212 0.522212) rotate(0) translate(4 487.25)\">\n",
       "<title>tree</title>\n",
       "<polygon fill=\"white\" stroke=\"none\" points=\"-4,4 -4,-487.25 1374.75,-487.25 1374.75,4 -4,4\"/>\n",
       "<!-- 185671657973 -->\n",
       "<g id=\"node1\" class=\"node\">\n",
       "<title>185671657973</title>\n",
       "<polygon fill=\"none\" stroke=\"black\" points=\"753.88,-483.25 633.62,-483.25 633.62,-428 753.88,-428 753.88,-483.25\"/>\n",
       "<text text-anchor=\"middle\" x=\"693.75\" y=\"-465.95\" font-family=\"Times New Roman,serif\" font-size=\"14.00\">s5&lt;=0.016</text>\n",
       "<text text-anchor=\"middle\" x=\"693.75\" y=\"-450.2\" font-family=\"Times New Roman,serif\" font-size=\"14.00\">SSR: 1255427.051</text>\n",
       "<text text-anchor=\"middle\" x=\"693.75\" y=\"-434.45\" font-family=\"Times New Roman,serif\" font-size=\"14.00\">N. Samples: 309</text>\n",
       "</g>\n",
       "<!-- 185673603821 -->\n",
       "<g id=\"node2\" class=\"node\">\n",
       "<title>185673603821</title>\n",
       "<polygon fill=\"none\" stroke=\"black\" points=\"622.5,-392 509,-392 509,-336.75 622.5,-336.75 622.5,-392\"/>\n",
       "<text text-anchor=\"middle\" x=\"565.75\" y=\"-374.7\" font-family=\"Times New Roman,serif\" font-size=\"14.00\">bmi&lt;=0.006</text>\n",
       "<text text-anchor=\"middle\" x=\"565.75\" y=\"-358.95\" font-family=\"Times New Roman,serif\" font-size=\"14.00\">SSR: 749926.289</text>\n",
       "<text text-anchor=\"middle\" x=\"565.75\" y=\"-343.2\" font-family=\"Times New Roman,serif\" font-size=\"14.00\">N. Samples: 204</text>\n",
       "</g>\n",
       "<!-- 185671657973&#45;&gt;185673603821 -->\n",
       "<g id=\"edge1\" class=\"edge\">\n",
       "<title>185671657973&#45;&gt;185673603821</title>\n",
       "<path fill=\"none\" stroke=\"black\" d=\"M655,-427.6C641.97,-418.52 627.27,-408.27 613.62,-398.75\"/>\n",
       "<polygon fill=\"black\" stroke=\"black\" points=\"615.82,-396.02 605.61,-393.17 611.81,-401.76 615.82,-396.02\"/>\n",
       "</g>\n",
       "<!-- 185668218333 -->\n",
       "<g id=\"node3\" class=\"node\">\n",
       "<title>185668218333</title>\n",
       "<polygon fill=\"none\" stroke=\"black\" points=\"940.5,-392 827,-392 827,-336.75 940.5,-336.75 940.5,-392\"/>\n",
       "<text text-anchor=\"middle\" x=\"883.75\" y=\"-374.7\" font-family=\"Times New Roman,serif\" font-size=\"14.00\">bp&lt;=0.060</text>\n",
       "<text text-anchor=\"middle\" x=\"883.75\" y=\"-358.95\" font-family=\"Times New Roman,serif\" font-size=\"14.00\">SSR: 505500.762</text>\n",
       "<text text-anchor=\"middle\" x=\"883.75\" y=\"-343.2\" font-family=\"Times New Roman,serif\" font-size=\"14.00\">N. Samples: 105</text>\n",
       "</g>\n",
       "<!-- 185671657973&#45;&gt;185668218333 -->\n",
       "<g id=\"edge2\" class=\"edge\">\n",
       "<title>185671657973&#45;&gt;185668218333</title>\n",
       "<path fill=\"none\" stroke=\"black\" d=\"M751.27,-427.6C771.83,-417.95 795.17,-406.98 816.48,-396.98\"/>\n",
       "<polygon fill=\"black\" stroke=\"black\" points=\"817.82,-400.21 825.38,-392.79 814.84,-393.88 817.82,-400.21\"/>\n",
       "</g>\n",
       "<!-- 185672159929 -->\n",
       "<g id=\"node4\" class=\"node\">\n",
       "<title>185672159929</title>\n",
       "<polygon fill=\"none\" stroke=\"black\" points=\"336.5,-300.75 223,-300.75 223,-245.5 336.5,-245.5 336.5,-300.75\"/>\n",
       "<text text-anchor=\"middle\" x=\"279.75\" y=\"-283.45\" font-family=\"Times New Roman,serif\" font-size=\"14.00\">s5&lt;=&#45;0.009</text>\n",
       "<text text-anchor=\"middle\" x=\"279.75\" y=\"-267.7\" font-family=\"Times New Roman,serif\" font-size=\"14.00\">SSR: 369896.224</text>\n",
       "<text text-anchor=\"middle\" x=\"279.75\" y=\"-251.95\" font-family=\"Times New Roman,serif\" font-size=\"14.00\">N. Samples: 156</text>\n",
       "</g>\n",
       "<!-- 185673603821&#45;&gt;185672159929 -->\n",
       "<g id=\"edge3\" class=\"edge\">\n",
       "<title>185673603821&#45;&gt;185672159929</title>\n",
       "<path fill=\"none\" stroke=\"black\" d=\"M508.56,-345.53C462.19,-331.06 396.71,-310.62 347.67,-295.32\"/>\n",
       "<polygon fill=\"black\" stroke=\"black\" points=\"348.87,-292.03 338.28,-292.39 346.79,-298.71 348.87,-292.03\"/>\n",
       "</g>\n",
       "<!-- 185672159269 -->\n",
       "<g id=\"node5\" class=\"node\">\n",
       "<title>185672159269</title>\n",
       "<polygon fill=\"none\" stroke=\"black\" points=\"622.5,-300.75 509,-300.75 509,-245.5 622.5,-245.5 622.5,-300.75\"/>\n",
       "<text text-anchor=\"middle\" x=\"565.75\" y=\"-283.45\" font-family=\"Times New Roman,serif\" font-size=\"14.00\">bmi&lt;=0.081</text>\n",
       "<text text-anchor=\"middle\" x=\"565.75\" y=\"-267.7\" font-family=\"Times New Roman,serif\" font-size=\"14.00\">SSR: 211484.000</text>\n",
       "<text text-anchor=\"middle\" x=\"565.75\" y=\"-251.95\" font-family=\"Times New Roman,serif\" font-size=\"14.00\">N. Samples: 48</text>\n",
       "</g>\n",
       "<!-- 185673603821&#45;&gt;185672159269 -->\n",
       "<g id=\"edge4\" class=\"edge\">\n",
       "<title>185673603821&#45;&gt;185672159269</title>\n",
       "<path fill=\"none\" stroke=\"black\" d=\"M565.75,-336.6C565.75,-329.08 565.75,-320.75 565.75,-312.68\"/>\n",
       "<polygon fill=\"black\" stroke=\"black\" points=\"569.25,-312.71 565.75,-302.71 562.25,-312.71 569.25,-312.71\"/>\n",
       "</g>\n",
       "<!-- 185673789393 -->\n",
       "<g id=\"node6\" class=\"node\">\n",
       "<title>185673789393</title>\n",
       "<polygon fill=\"none\" stroke=\"black\" points=\"940.5,-300.75 827,-300.75 827,-245.5 940.5,-245.5 940.5,-300.75\"/>\n",
       "<text text-anchor=\"middle\" x=\"883.75\" y=\"-283.45\" font-family=\"Times New Roman,serif\" font-size=\"14.00\">s6&lt;=0.028</text>\n",
       "<text text-anchor=\"middle\" x=\"883.75\" y=\"-267.7\" font-family=\"Times New Roman,serif\" font-size=\"14.00\">SSR: 366725.688</text>\n",
       "<text text-anchor=\"middle\" x=\"883.75\" y=\"-251.95\" font-family=\"Times New Roman,serif\" font-size=\"14.00\">N. Samples: 80</text>\n",
       "</g>\n",
       "<!-- 185668218333&#45;&gt;185673789393 -->\n",
       "<g id=\"edge5\" class=\"edge\">\n",
       "<title>185668218333&#45;&gt;185673789393</title>\n",
       "<path fill=\"none\" stroke=\"black\" d=\"M883.75,-336.6C883.75,-329.08 883.75,-320.75 883.75,-312.68\"/>\n",
       "<polygon fill=\"black\" stroke=\"black\" points=\"887.25,-312.71 883.75,-302.71 880.25,-312.71 887.25,-312.71\"/>\n",
       "</g>\n",
       "<!-- 185672162417 -->\n",
       "<g id=\"node7\" class=\"node\">\n",
       "<title>185672162417</title>\n",
       "<polygon fill=\"none\" stroke=\"black\" points=\"1247.12,-300.75 1140.38,-300.75 1140.38,-245.5 1247.12,-245.5 1247.12,-300.75\"/>\n",
       "<text text-anchor=\"middle\" x=\"1193.75\" y=\"-283.45\" font-family=\"Times New Roman,serif\" font-size=\"14.00\">s2&lt;=0.100</text>\n",
       "<text text-anchor=\"middle\" x=\"1193.75\" y=\"-267.7\" font-family=\"Times New Roman,serif\" font-size=\"14.00\">SSR: 32096.000</text>\n",
       "<text text-anchor=\"middle\" x=\"1193.75\" y=\"-251.95\" font-family=\"Times New Roman,serif\" font-size=\"14.00\">N. Samples: 25</text>\n",
       "</g>\n",
       "<!-- 185668218333&#45;&gt;185672162417 -->\n",
       "<g id=\"edge6\" class=\"edge\">\n",
       "<title>185668218333&#45;&gt;185672162417</title>\n",
       "<path fill=\"none\" stroke=\"black\" d=\"M940.97,-346.9C994.27,-331.55 1073.65,-308.7 1129.2,-292.71\"/>\n",
       "<polygon fill=\"black\" stroke=\"black\" points=\"1129.88,-296.16 1138.52,-290.03 1127.94,-289.43 1129.88,-296.16\"/>\n",
       "</g>\n",
       "<!-- 185672154857 -->\n",
       "<g id=\"node8\" class=\"node\">\n",
       "<title>185672154857</title>\n",
       "<polygon fill=\"none\" stroke=\"black\" points=\"144.5,-193.75 31,-193.75 31,-138.5 144.5,-138.5 144.5,-193.75\"/>\n",
       "<text text-anchor=\"middle\" x=\"87.75\" y=\"-176.45\" font-family=\"Times New Roman,serif\" font-size=\"14.00\">s2&lt;=0.113</text>\n",
       "<text text-anchor=\"middle\" x=\"87.75\" y=\"-160.7\" font-family=\"Times New Roman,serif\" font-size=\"14.00\">SSR: 210325.791</text>\n",
       "<text text-anchor=\"middle\" x=\"87.75\" y=\"-144.95\" font-family=\"Times New Roman,serif\" font-size=\"14.00\">N. Samples: 115</text>\n",
       "</g>\n",
       "<!-- 185672159929&#45;&gt;185672154857 -->\n",
       "<g id=\"edge7\" class=\"edge\">\n",
       "<title>185672159929&#45;&gt;185672154857</title>\n",
       "<path fill=\"none\" stroke=\"black\" d=\"M230.31,-245.08C204.89,-231.18 173.72,-214.14 147.02,-199.54\"/>\n",
       "<polygon fill=\"black\" stroke=\"black\" points=\"148.81,-196.53 138.36,-194.8 145.45,-202.67 148.81,-196.53\"/>\n",
       "</g>\n",
       "<!-- 185672162669 -->\n",
       "<g id=\"node9\" class=\"node\">\n",
       "<title>185672162669</title>\n",
       "<polygon fill=\"none\" stroke=\"black\" points=\"336.5,-193.75 223,-193.75 223,-138.5 336.5,-138.5 336.5,-193.75\"/>\n",
       "<text text-anchor=\"middle\" x=\"279.75\" y=\"-176.45\" font-family=\"Times New Roman,serif\" font-size=\"14.00\">s1&lt;=&#45;0.029</text>\n",
       "<text text-anchor=\"middle\" x=\"279.75\" y=\"-160.7\" font-family=\"Times New Roman,serif\" font-size=\"14.00\">SSR: 119698.244</text>\n",
       "<text text-anchor=\"middle\" x=\"279.75\" y=\"-144.95\" font-family=\"Times New Roman,serif\" font-size=\"14.00\">N. Samples: 41</text>\n",
       "</g>\n",
       "<!-- 185672159929&#45;&gt;185672162669 -->\n",
       "<g id=\"edge8\" class=\"edge\">\n",
       "<title>185672159929&#45;&gt;185672162669</title>\n",
       "<path fill=\"none\" stroke=\"black\" d=\"M279.75,-245.08C279.75,-232.96 279.75,-218.44 279.75,-205.24\"/>\n",
       "<polygon fill=\"black\" stroke=\"black\" points=\"283.25,-205.59 279.75,-195.59 276.25,-205.59 283.25,-205.59\"/>\n",
       "</g>\n",
       "<!-- 185672155605 -->\n",
       "<g id=\"node10\" class=\"node\">\n",
       "<title>185672155605</title>\n",
       "<polygon fill=\"none\" stroke=\"black\" points=\"558.5,-193.75 445,-193.75 445,-138.5 558.5,-138.5 558.5,-193.75\"/>\n",
       "<text text-anchor=\"middle\" x=\"501.75\" y=\"-176.45\" font-family=\"Times New Roman,serif\" font-size=\"14.00\">age&lt;=&#45;0.080</text>\n",
       "<text text-anchor=\"middle\" x=\"501.75\" y=\"-160.7\" font-family=\"Times New Roman,serif\" font-size=\"14.00\">SSR: 157486.432</text>\n",
       "<text text-anchor=\"middle\" x=\"501.75\" y=\"-144.95\" font-family=\"Times New Roman,serif\" font-size=\"14.00\">N. Samples: 44</text>\n",
       "</g>\n",
       "<!-- 185672159269&#45;&gt;185672155605 -->\n",
       "<g id=\"edge9\" class=\"edge\">\n",
       "<title>185672159269&#45;&gt;185672155605</title>\n",
       "<path fill=\"none\" stroke=\"black\" d=\"M549.27,-245.08C541.58,-232.47 532.31,-217.27 524.01,-203.65\"/>\n",
       "<polygon fill=\"black\" stroke=\"black\" points=\"527.16,-202.08 518.96,-195.37 521.18,-205.73 527.16,-202.08\"/>\n",
       "</g>\n",
       "<!-- 185672159585 -->\n",
       "<g id=\"node11\" class=\"node\">\n",
       "<title>185672159585</title>\n",
       "<polygon fill=\"none\" stroke=\"black\" points=\"683.12,-209.5 576.38,-209.5 576.38,-122.75 683.12,-122.75 683.12,-209.5\"/>\n",
       "<text text-anchor=\"middle\" x=\"629.75\" y=\"-192.2\" font-family=\"Times New Roman,serif\" font-size=\"14.00\">age&lt;=0.004</text>\n",
       "<text text-anchor=\"middle\" x=\"629.75\" y=\"-176.45\" font-family=\"Times New Roman,serif\" font-size=\"14.00\">SSR: 10142.750</text>\n",
       "<text text-anchor=\"middle\" x=\"629.75\" y=\"-160.7\" font-family=\"Times New Roman,serif\" font-size=\"14.00\">Leaf: True</text>\n",
       "<text text-anchor=\"middle\" x=\"629.75\" y=\"-144.95\" font-family=\"Times New Roman,serif\" font-size=\"14.00\">N. Samples: 4</text>\n",
       "<text text-anchor=\"middle\" x=\"629.75\" y=\"-129.2\" font-family=\"Times New Roman,serif\" font-size=\"14.00\">Output: 269.750</text>\n",
       "</g>\n",
       "<!-- 185672159269&#45;&gt;185672159585 -->\n",
       "<g id=\"edge10\" class=\"edge\">\n",
       "<title>185672159269&#45;&gt;185672159585</title>\n",
       "<path fill=\"none\" stroke=\"black\" d=\"M582.23,-245.08C587.02,-237.23 592.42,-228.37 597.81,-219.52\"/>\n",
       "<polygon fill=\"black\" stroke=\"black\" points=\"600.63,-221.62 602.85,-211.26 594.66,-217.97 600.63,-221.62\"/>\n",
       "</g>\n",
       "<!-- 185719106353 -->\n",
       "<g id=\"node12\" class=\"node\">\n",
       "<title>185719106353</title>\n",
       "<polygon fill=\"none\" stroke=\"black\" points=\"876.5,-193.75 763,-193.75 763,-138.5 876.5,-138.5 876.5,-193.75\"/>\n",
       "<text text-anchor=\"middle\" x=\"819.75\" y=\"-176.45\" font-family=\"Times New Roman,serif\" font-size=\"14.00\">bmi&lt;=0.062</text>\n",
       "<text text-anchor=\"middle\" x=\"819.75\" y=\"-160.7\" font-family=\"Times New Roman,serif\" font-size=\"14.00\">SSR: 234836.679</text>\n",
       "<text text-anchor=\"middle\" x=\"819.75\" y=\"-144.95\" font-family=\"Times New Roman,serif\" font-size=\"14.00\">N. Samples: 53</text>\n",
       "</g>\n",
       "<!-- 185673789393&#45;&gt;185719106353 -->\n",
       "<g id=\"edge11\" class=\"edge\">\n",
       "<title>185673789393&#45;&gt;185719106353</title>\n",
       "<path fill=\"none\" stroke=\"black\" d=\"M867.27,-245.08C859.58,-232.47 850.31,-217.27 842.01,-203.65\"/>\n",
       "<polygon fill=\"black\" stroke=\"black\" points=\"845.16,-202.08 836.96,-195.37 839.18,-205.73 845.16,-202.08\"/>\n",
       "</g>\n",
       "<!-- 185672937957 -->\n",
       "<g id=\"node13\" class=\"node\">\n",
       "<title>185672937957</title>\n",
       "<polygon fill=\"none\" stroke=\"black\" points=\"1001.12,-193.75 894.38,-193.75 894.38,-138.5 1001.12,-138.5 1001.12,-193.75\"/>\n",
       "<text text-anchor=\"middle\" x=\"947.75\" y=\"-176.45\" font-family=\"Times New Roman,serif\" font-size=\"14.00\">age&lt;=&#45;0.056</text>\n",
       "<text text-anchor=\"middle\" x=\"947.75\" y=\"-160.7\" font-family=\"Times New Roman,serif\" font-size=\"14.00\">SSR: 68025.407</text>\n",
       "<text text-anchor=\"middle\" x=\"947.75\" y=\"-144.95\" font-family=\"Times New Roman,serif\" font-size=\"14.00\">N. Samples: 27</text>\n",
       "</g>\n",
       "<!-- 185673789393&#45;&gt;185672937957 -->\n",
       "<g id=\"edge12\" class=\"edge\">\n",
       "<title>185673789393&#45;&gt;185672937957</title>\n",
       "<path fill=\"none\" stroke=\"black\" d=\"M900.23,-245.08C907.92,-232.47 917.19,-217.27 925.49,-203.65\"/>\n",
       "<polygon fill=\"black\" stroke=\"black\" points=\"928.32,-205.73 930.54,-195.37 922.34,-202.08 928.32,-205.73\"/>\n",
       "</g>\n",
       "<!-- 185672140641 -->\n",
       "<g id=\"node14\" class=\"node\">\n",
       "<title>185672140641</title>\n",
       "<polygon fill=\"none\" stroke=\"black\" points=\"1247.12,-193.75 1140.38,-193.75 1140.38,-138.5 1247.12,-138.5 1247.12,-193.75\"/>\n",
       "<text text-anchor=\"middle\" x=\"1193.75\" y=\"-176.45\" font-family=\"Times New Roman,serif\" font-size=\"14.00\">s6&lt;=&#45;0.016</text>\n",
       "<text text-anchor=\"middle\" x=\"1193.75\" y=\"-160.7\" font-family=\"Times New Roman,serif\" font-size=\"14.00\">SSR: 19004.609</text>\n",
       "<text text-anchor=\"middle\" x=\"1193.75\" y=\"-144.95\" font-family=\"Times New Roman,serif\" font-size=\"14.00\">N. Samples: 23</text>\n",
       "</g>\n",
       "<!-- 185672162417&#45;&gt;185672140641 -->\n",
       "<g id=\"edge13\" class=\"edge\">\n",
       "<title>185672162417&#45;&gt;185672140641</title>\n",
       "<path fill=\"none\" stroke=\"black\" d=\"M1193.75,-245.08C1193.75,-232.96 1193.75,-218.44 1193.75,-205.24\"/>\n",
       "<polygon fill=\"black\" stroke=\"black\" points=\"1197.25,-205.59 1193.75,-195.59 1190.25,-205.59 1197.25,-205.59\"/>\n",
       "</g>\n",
       "<!-- 185672162661 -->\n",
       "<g id=\"node15\" class=\"node\">\n",
       "<title>185672162661</title>\n",
       "<polygon fill=\"none\" stroke=\"black\" points=\"1370.75,-209.5 1264.75,-209.5 1264.75,-122.75 1370.75,-122.75 1370.75,-209.5\"/>\n",
       "<text text-anchor=\"middle\" x=\"1317.75\" y=\"-192.2\" font-family=\"Times New Roman,serif\" font-size=\"14.00\">age&lt;=&#45;0.049</text>\n",
       "<text text-anchor=\"middle\" x=\"1317.75\" y=\"-176.45\" font-family=\"Times New Roman,serif\" font-size=\"14.00\">SSR: 1058.000</text>\n",
       "<text text-anchor=\"middle\" x=\"1317.75\" y=\"-160.7\" font-family=\"Times New Roman,serif\" font-size=\"14.00\">Leaf: True</text>\n",
       "<text text-anchor=\"middle\" x=\"1317.75\" y=\"-144.95\" font-family=\"Times New Roman,serif\" font-size=\"14.00\">N. Samples: 2</text>\n",
       "<text text-anchor=\"middle\" x=\"1317.75\" y=\"-129.2\" font-family=\"Times New Roman,serif\" font-size=\"14.00\">Output: 194.000</text>\n",
       "</g>\n",
       "<!-- 185672162417&#45;&gt;185672162661 -->\n",
       "<g id=\"edge14\" class=\"edge\">\n",
       "<title>185672162417&#45;&gt;185672162661</title>\n",
       "<path fill=\"none\" stroke=\"black\" d=\"M1225.68,-245.08C1235.75,-236.56 1247.21,-226.86 1258.54,-217.26\"/>\n",
       "<polygon fill=\"black\" stroke=\"black\" points=\"1260.63,-220.08 1266,-210.94 1256.11,-214.73 1260.63,-220.08\"/>\n",
       "</g>\n",
       "<!-- 185671658829 -->\n",
       "<g id=\"node16\" class=\"node\">\n",
       "<title>185671658829</title>\n",
       "<polygon fill=\"none\" stroke=\"black\" points=\"113.5,-86.75 0,-86.75 0,0 113.5,0 113.5,-86.75\"/>\n",
       "<text text-anchor=\"middle\" x=\"56.75\" y=\"-69.45\" font-family=\"Times New Roman,serif\" font-size=\"14.00\">s3&lt;=0.021</text>\n",
       "<text text-anchor=\"middle\" x=\"56.75\" y=\"-53.7\" font-family=\"Times New Roman,serif\" font-size=\"14.00\">SSR: 184239.518</text>\n",
       "<text text-anchor=\"middle\" x=\"56.75\" y=\"-37.95\" font-family=\"Times New Roman,serif\" font-size=\"14.00\">Leaf: True</text>\n",
       "<text text-anchor=\"middle\" x=\"56.75\" y=\"-22.2\" font-family=\"Times New Roman,serif\" font-size=\"14.00\">N. Samples: 114</text>\n",
       "<text text-anchor=\"middle\" x=\"56.75\" y=\"-6.45\" font-family=\"Times New Roman,serif\" font-size=\"14.00\">Output: 90.781</text>\n",
       "</g>\n",
       "<!-- 185672154857&#45;&gt;185671658829 -->\n",
       "<g id=\"edge15\" class=\"edge\">\n",
       "<title>185672154857&#45;&gt;185671658829</title>\n",
       "<path fill=\"none\" stroke=\"black\" d=\"M80.79,-138.03C77.75,-126.18 74.07,-111.84 70.51,-97.98\"/>\n",
       "<polygon fill=\"black\" stroke=\"black\" points=\"73.95,-97.31 68.08,-88.49 67.17,-99.05 73.95,-97.31\"/>\n",
       "</g>\n",
       "<!-- 185653456441 -->\n",
       "<g id=\"node17\" class=\"node\">\n",
       "<title>185653456441</title>\n",
       "<polygon fill=\"none\" stroke=\"black\" points=\"238.12,-86.75 131.38,-86.75 131.38,0 238.12,0 238.12,-86.75\"/>\n",
       "<text text-anchor=\"middle\" x=\"184.75\" y=\"-69.45\" font-family=\"Times New Roman,serif\" font-size=\"14.00\">s6&lt;=0.022</text>\n",
       "<text text-anchor=\"middle\" x=\"184.75\" y=\"-53.7\" font-family=\"Times New Roman,serif\" font-size=\"14.00\">SSR: 25890.900</text>\n",
       "<text text-anchor=\"middle\" x=\"184.75\" y=\"-37.95\" font-family=\"Times New Roman,serif\" font-size=\"14.00\">Leaf: True</text>\n",
       "<text text-anchor=\"middle\" x=\"184.75\" y=\"-22.2\" font-family=\"Times New Roman,serif\" font-size=\"14.00\">N. Samples: 10</text>\n",
       "<text text-anchor=\"middle\" x=\"184.75\" y=\"-6.45\" font-family=\"Times New Roman,serif\" font-size=\"14.00\">Output: 172.100</text>\n",
       "</g>\n",
       "<!-- 185672162669&#45;&gt;185653456441 -->\n",
       "<g id=\"edge16\" class=\"edge\">\n",
       "<title>185672162669&#45;&gt;185653456441</title>\n",
       "<path fill=\"none\" stroke=\"black\" d=\"M258.43,-138.03C248.64,-125.59 236.7,-110.41 225.31,-95.93\"/>\n",
       "<polygon fill=\"black\" stroke=\"black\" points=\"228.18,-93.91 219.24,-88.22 222.67,-98.24 228.18,-93.91\"/>\n",
       "</g>\n",
       "<!-- 185672178721 -->\n",
       "<g id=\"node18\" class=\"node\">\n",
       "<title>185672178721</title>\n",
       "<polygon fill=\"none\" stroke=\"black\" points=\"363.12,-86.75 256.38,-86.75 256.38,0 363.12,0 363.12,-86.75\"/>\n",
       "<text text-anchor=\"middle\" x=\"309.75\" y=\"-69.45\" font-family=\"Times New Roman,serif\" font-size=\"14.00\">age&lt;=0.067</text>\n",
       "<text text-anchor=\"middle\" x=\"309.75\" y=\"-53.7\" font-family=\"Times New Roman,serif\" font-size=\"14.00\">SSR: 68679.677</text>\n",
       "<text text-anchor=\"middle\" x=\"309.75\" y=\"-37.95\" font-family=\"Times New Roman,serif\" font-size=\"14.00\">Leaf: True</text>\n",
       "<text text-anchor=\"middle\" x=\"309.75\" y=\"-22.2\" font-family=\"Times New Roman,serif\" font-size=\"14.00\">N. Samples: 31</text>\n",
       "<text text-anchor=\"middle\" x=\"309.75\" y=\"-6.45\" font-family=\"Times New Roman,serif\" font-size=\"14.00\">Output: 114.452</text>\n",
       "</g>\n",
       "<!-- 185672162669&#45;&gt;185672178721 -->\n",
       "<g id=\"edge17\" class=\"edge\">\n",
       "<title>185672162669&#45;&gt;185672178721</title>\n",
       "<path fill=\"none\" stroke=\"black\" d=\"M286.48,-138.03C289.43,-126.18 292.99,-111.84 296.43,-97.98\"/>\n",
       "<polygon fill=\"black\" stroke=\"black\" points=\"299.77,-99.04 298.79,-88.5 292.98,-97.36 299.77,-99.04\"/>\n",
       "</g>\n",
       "<!-- 185673684841 -->\n",
       "<g id=\"node19\" class=\"node\">\n",
       "<title>185673684841</title>\n",
       "<polygon fill=\"none\" stroke=\"black\" points=\"486.75,-86.75 380.75,-86.75 380.75,0 486.75,0 486.75,-86.75\"/>\n",
       "<text text-anchor=\"middle\" x=\"433.75\" y=\"-69.45\" font-family=\"Times New Roman,serif\" font-size=\"14.00\">age&lt;=&#45;0.089</text>\n",
       "<text text-anchor=\"middle\" x=\"433.75\" y=\"-53.7\" font-family=\"Times New Roman,serif\" font-size=\"14.00\">SSR: 1568.000</text>\n",
       "<text text-anchor=\"middle\" x=\"433.75\" y=\"-37.95\" font-family=\"Times New Roman,serif\" font-size=\"14.00\">Leaf: True</text>\n",
       "<text text-anchor=\"middle\" x=\"433.75\" y=\"-22.2\" font-family=\"Times New Roman,serif\" font-size=\"14.00\">N. Samples: 2</text>\n",
       "<text text-anchor=\"middle\" x=\"433.75\" y=\"-6.45\" font-family=\"Times New Roman,serif\" font-size=\"14.00\">Output: 274.000</text>\n",
       "</g>\n",
       "<!-- 185672155605&#45;&gt;185673684841 -->\n",
       "<g id=\"edge18\" class=\"edge\">\n",
       "<title>185672155605&#45;&gt;185673684841</title>\n",
       "<path fill=\"none\" stroke=\"black\" d=\"M486.49,-138.03C479.62,-125.82 471.26,-110.98 463.24,-96.75\"/>\n",
       "<polygon fill=\"black\" stroke=\"black\" points=\"466.47,-95.34 458.51,-88.35 460.37,-98.78 466.47,-95.34\"/>\n",
       "</g>\n",
       "<!-- 185672160613 -->\n",
       "<g id=\"node20\" class=\"node\">\n",
       "<title>185672160613</title>\n",
       "<polygon fill=\"none\" stroke=\"black\" points=\"618.5,-86.75 505,-86.75 505,0 618.5,0 618.5,-86.75\"/>\n",
       "<text text-anchor=\"middle\" x=\"561.75\" y=\"-69.45\" font-family=\"Times New Roman,serif\" font-size=\"14.00\">bp&lt;=0.024</text>\n",
       "<text text-anchor=\"middle\" x=\"561.75\" y=\"-53.7\" font-family=\"Times New Roman,serif\" font-size=\"14.00\">SSR: 128872.976</text>\n",
       "<text text-anchor=\"middle\" x=\"561.75\" y=\"-37.95\" font-family=\"Times New Roman,serif\" font-size=\"14.00\">Leaf: True</text>\n",
       "<text text-anchor=\"middle\" x=\"561.75\" y=\"-22.2\" font-family=\"Times New Roman,serif\" font-size=\"14.00\">N. Samples: 42</text>\n",
       "<text text-anchor=\"middle\" x=\"561.75\" y=\"-6.45\" font-family=\"Times New Roman,serif\" font-size=\"14.00\">Output: 154.976</text>\n",
       "</g>\n",
       "<!-- 185672155605&#45;&gt;185672160613 -->\n",
       "<g id=\"edge19\" class=\"edge\">\n",
       "<title>185672155605&#45;&gt;185672160613</title>\n",
       "<path fill=\"none\" stroke=\"black\" d=\"M515.22,-138.03C521.22,-125.94 528.51,-111.27 535.52,-97.16\"/>\n",
       "<polygon fill=\"black\" stroke=\"black\" points=\"538.57,-98.89 539.88,-88.38 532.3,-95.78 538.57,-98.89\"/>\n",
       "</g>\n",
       "<!-- 185672900229 -->\n",
       "<g id=\"node21\" class=\"node\">\n",
       "<title>185672900229</title>\n",
       "<polygon fill=\"none\" stroke=\"black\" points=\"750.5,-86.75 637,-86.75 637,0 750.5,0 750.5,-86.75\"/>\n",
       "<text text-anchor=\"middle\" x=\"693.75\" y=\"-69.45\" font-family=\"Times New Roman,serif\" font-size=\"14.00\">bp&lt;=&#45;0.040</text>\n",
       "<text text-anchor=\"middle\" x=\"693.75\" y=\"-53.7\" font-family=\"Times New Roman,serif\" font-size=\"14.00\">SSR: 196409.333</text>\n",
       "<text text-anchor=\"middle\" x=\"693.75\" y=\"-37.95\" font-family=\"Times New Roman,serif\" font-size=\"14.00\">Leaf: True</text>\n",
       "<text text-anchor=\"middle\" x=\"693.75\" y=\"-22.2\" font-family=\"Times New Roman,serif\" font-size=\"14.00\">N. Samples: 51</text>\n",
       "<text text-anchor=\"middle\" x=\"693.75\" y=\"-6.45\" font-family=\"Times New Roman,serif\" font-size=\"14.00\">Output: 168.333</text>\n",
       "</g>\n",
       "<!-- 185719106353&#45;&gt;185672900229 -->\n",
       "<g id=\"edge20\" class=\"edge\">\n",
       "<title>185719106353&#45;&gt;185672900229</title>\n",
       "<path fill=\"none\" stroke=\"black\" d=\"M791.47,-138.03C778.13,-125.24 761.76,-109.55 746.26,-94.7\"/>\n",
       "<polygon fill=\"black\" stroke=\"black\" points=\"748.99,-92.47 739.35,-88.07 744.15,-97.52 748.99,-92.47\"/>\n",
       "</g>\n",
       "<!-- 185672160073 -->\n",
       "<g id=\"node22\" class=\"node\">\n",
       "<title>185672160073</title>\n",
       "<polygon fill=\"none\" stroke=\"black\" points=\"874.75,-86.75 768.75,-86.75 768.75,0 874.75,0 874.75,-86.75\"/>\n",
       "<text text-anchor=\"middle\" x=\"821.75\" y=\"-69.45\" font-family=\"Times New Roman,serif\" font-size=\"14.00\">age&lt;=&#45;0.002</text>\n",
       "<text text-anchor=\"middle\" x=\"821.75\" y=\"-53.7\" font-family=\"Times New Roman,serif\" font-size=\"14.00\">SSR: 3784.500</text>\n",
       "<text text-anchor=\"middle\" x=\"821.75\" y=\"-37.95\" font-family=\"Times New Roman,serif\" font-size=\"14.00\">Leaf: True</text>\n",
       "<text text-anchor=\"middle\" x=\"821.75\" y=\"-22.2\" font-family=\"Times New Roman,serif\" font-size=\"14.00\">N. Samples: 2</text>\n",
       "<text text-anchor=\"middle\" x=\"821.75\" y=\"-6.45\" font-family=\"Times New Roman,serif\" font-size=\"14.00\">Output: 302.500</text>\n",
       "</g>\n",
       "<!-- 185719106353&#45;&gt;185672160073 -->\n",
       "<g id=\"edge21\" class=\"edge\">\n",
       "<title>185719106353&#45;&gt;185672160073</title>\n",
       "<path fill=\"none\" stroke=\"black\" d=\"M820.2,-138.03C820.39,-126.29 820.63,-112.12 820.86,-98.39\"/>\n",
       "<polygon fill=\"black\" stroke=\"black\" points=\"824.35,-98.6 821.02,-88.54 817.35,-98.48 824.35,-98.6\"/>\n",
       "</g>\n",
       "<!-- 185673693193 -->\n",
       "<g id=\"node23\" class=\"node\">\n",
       "<title>185673693193</title>\n",
       "<polygon fill=\"none\" stroke=\"black\" points=\"998.75,-86.75 892.75,-86.75 892.75,0 998.75,0 998.75,-86.75\"/>\n",
       "<text text-anchor=\"middle\" x=\"945.75\" y=\"-69.45\" font-family=\"Times New Roman,serif\" font-size=\"14.00\">sex&lt;=0.003</text>\n",
       "<text text-anchor=\"middle\" x=\"945.75\" y=\"-53.7\" font-family=\"Times New Roman,serif\" font-size=\"14.00\">SSR: 1300.500</text>\n",
       "<text text-anchor=\"middle\" x=\"945.75\" y=\"-37.95\" font-family=\"Times New Roman,serif\" font-size=\"14.00\">Leaf: True</text>\n",
       "<text text-anchor=\"middle\" x=\"945.75\" y=\"-22.2\" font-family=\"Times New Roman,serif\" font-size=\"14.00\">N. Samples: 2</text>\n",
       "<text text-anchor=\"middle\" x=\"945.75\" y=\"-6.45\" font-family=\"Times New Roman,serif\" font-size=\"14.00\">Output: 153.500</text>\n",
       "</g>\n",
       "<!-- 185672937957&#45;&gt;185673693193 -->\n",
       "<g id=\"edge22\" class=\"edge\">\n",
       "<title>185672937957&#45;&gt;185673693193</title>\n",
       "<path fill=\"none\" stroke=\"black\" d=\"M947.3,-138.03C947.11,-126.29 946.87,-112.12 946.64,-98.39\"/>\n",
       "<polygon fill=\"black\" stroke=\"black\" points=\"950.15,-98.48 946.48,-88.54 943.15,-98.6 950.15,-98.48\"/>\n",
       "</g>\n",
       "<!-- 185672161061 -->\n",
       "<g id=\"node24\" class=\"node\">\n",
       "<title>185672161061</title>\n",
       "<polygon fill=\"none\" stroke=\"black\" points=\"1123.12,-86.75 1016.38,-86.75 1016.38,0 1123.12,0 1123.12,-86.75\"/>\n",
       "<text text-anchor=\"middle\" x=\"1069.75\" y=\"-69.45\" font-family=\"Times New Roman,serif\" font-size=\"14.00\">age&lt;=0.045</text>\n",
       "<text text-anchor=\"middle\" x=\"1069.75\" y=\"-53.7\" font-family=\"Times New Roman,serif\" font-size=\"14.00\">SSR: 53022.240</text>\n",
       "<text text-anchor=\"middle\" x=\"1069.75\" y=\"-37.95\" font-family=\"Times New Roman,serif\" font-size=\"14.00\">Leaf: True</text>\n",
       "<text text-anchor=\"middle\" x=\"1069.75\" y=\"-22.2\" font-family=\"Times New Roman,serif\" font-size=\"14.00\">N. Samples: 25</text>\n",
       "<text text-anchor=\"middle\" x=\"1069.75\" y=\"-6.45\" font-family=\"Times New Roman,serif\" font-size=\"14.00\">Output: 239.520</text>\n",
       "</g>\n",
       "<!-- 185672937957&#45;&gt;185672161061 -->\n",
       "<g id=\"edge23\" class=\"edge\">\n",
       "<title>185672937957&#45;&gt;185672161061</title>\n",
       "<path fill=\"none\" stroke=\"black\" d=\"M975.13,-138.03C987.93,-125.35 1003.61,-109.84 1018.49,-95.11\"/>\n",
       "<polygon fill=\"black\" stroke=\"black\" points=\"1020.94,-97.61 1025.58,-88.09 1016.01,-92.64 1020.94,-97.61\"/>\n",
       "</g>\n",
       "<!-- 185673671221 -->\n",
       "<g id=\"node25\" class=\"node\">\n",
       "<title>185673671221</title>\n",
       "<polygon fill=\"none\" stroke=\"black\" points=\"1246.75,-86.75 1140.75,-86.75 1140.75,0 1246.75,0 1246.75,-86.75\"/>\n",
       "<text text-anchor=\"middle\" x=\"1193.75\" y=\"-69.45\" font-family=\"Times New Roman,serif\" font-size=\"14.00\">age&lt;=0.004</text>\n",
       "<text text-anchor=\"middle\" x=\"1193.75\" y=\"-53.7\" font-family=\"Times New Roman,serif\" font-size=\"14.00\">SSR: 3953.000</text>\n",
       "<text text-anchor=\"middle\" x=\"1193.75\" y=\"-37.95\" font-family=\"Times New Roman,serif\" font-size=\"14.00\">Leaf: True</text>\n",
       "<text text-anchor=\"middle\" x=\"1193.75\" y=\"-22.2\" font-family=\"Times New Roman,serif\" font-size=\"14.00\">N. Samples: 4</text>\n",
       "<text text-anchor=\"middle\" x=\"1193.75\" y=\"-6.45\" font-family=\"Times New Roman,serif\" font-size=\"14.00\">Output: 240.500</text>\n",
       "</g>\n",
       "<!-- 185672140641&#45;&gt;185673671221 -->\n",
       "<g id=\"edge24\" class=\"edge\">\n",
       "<title>185672140641&#45;&gt;185673671221</title>\n",
       "<path fill=\"none\" stroke=\"black\" d=\"M1193.75,-138.03C1193.75,-126.29 1193.75,-112.12 1193.75,-98.39\"/>\n",
       "<polygon fill=\"black\" stroke=\"black\" points=\"1197.25,-98.54 1193.75,-88.54 1190.25,-98.54 1197.25,-98.54\"/>\n",
       "</g>\n",
       "<!-- 185672155053 -->\n",
       "<g id=\"node26\" class=\"node\">\n",
       "<title>185672155053</title>\n",
       "<polygon fill=\"none\" stroke=\"black\" points=\"1370.75,-86.75 1264.75,-86.75 1264.75,0 1370.75,0 1370.75,-86.75\"/>\n",
       "<text text-anchor=\"middle\" x=\"1317.75\" y=\"-69.45\" font-family=\"Times New Roman,serif\" font-size=\"14.00\">bmi&lt;=0.111</text>\n",
       "<text text-anchor=\"middle\" x=\"1317.75\" y=\"-53.7\" font-family=\"Times New Roman,serif\" font-size=\"14.00\">SSR: 9331.789</text>\n",
       "<text text-anchor=\"middle\" x=\"1317.75\" y=\"-37.95\" font-family=\"Times New Roman,serif\" font-size=\"14.00\">Leaf: True</text>\n",
       "<text text-anchor=\"middle\" x=\"1317.75\" y=\"-22.2\" font-family=\"Times New Roman,serif\" font-size=\"14.00\">N. Samples: 19</text>\n",
       "<text text-anchor=\"middle\" x=\"1317.75\" y=\"-6.45\" font-family=\"Times New Roman,serif\" font-size=\"14.00\">Output: 282.105</text>\n",
       "</g>\n",
       "<!-- 185672140641&#45;&gt;185672155053 -->\n",
       "<g id=\"edge25\" class=\"edge\">\n",
       "<title>185672140641&#45;&gt;185672155053</title>\n",
       "<path fill=\"none\" stroke=\"black\" d=\"M1221.58,-138.03C1234.71,-125.24 1250.82,-109.55 1266.07,-94.7\"/>\n",
       "<polygon fill=\"black\" stroke=\"black\" points=\"1268.14,-97.57 1272.87,-88.08 1263.26,-92.55 1268.14,-97.57\"/>\n",
       "</g>\n",
       "</g>\n",
       "</svg>\n"
      ],
      "text/plain": [
       "<graphviz.graphs.Digraph at 0x2b3ae4ac090>"
      ]
     },
     "execution_count": 17,
     "metadata": {},
     "output_type": "execute_result"
    }
   ],
   "source": [
    "plot_tree(dtr)"
   ]
  },
  {
   "cell_type": "markdown",
   "metadata": {},
   "source": [
    "#### Random Forest Regressor"
   ]
  },
  {
   "cell_type": "code",
   "execution_count": 18,
   "metadata": {},
   "outputs": [
    {
     "name": "stdout",
     "output_type": "stream",
     "text": [
      "Train Loss: 6924.2985436893205\tTest Loss: 7429.550751879699\n",
      "Train Loss: 3444.4922090558625\tTest Loss: 3511.521617677982\n",
      "Train Loss: 3404.696084029213\tTest Loss: 3358.215142359746\n",
      "Train Loss: 3431.0277654620168\tTest Loss: 3331.212133298764\n",
      "Train Loss: 3396.010832180022\tTest Loss: 3239.346190036833\n",
      "Train Loss: 3337.2318168588963\tTest Loss: 3183.187560712699\n",
      "Mean Squared Error: 3183.187560712699\n"
     ]
    }
   ],
   "source": [
    "from rlearn.tree import RandomForestRegressor\n",
    "\n",
    "forest = RandomForestRegressor(\n",
    "    max_depth=5, n_estimators=100, bootstrap_size=int(np.sqrt(len(X_train)))\n",
    ")\n",
    "forest.fit(X_train, y_train, X_test, y_test, verbose=20)\n",
    "\n",
    "print(\"Mean Squared Error:\", mean_squared_error(y_test, forest.predict(X_test)))"
   ]
  },
  {
   "cell_type": "markdown",
   "metadata": {},
   "source": [
    "#### Gradient Boosting Regressor"
   ]
  },
  {
   "cell_type": "code",
   "execution_count": 19,
   "metadata": {},
   "outputs": [
    {
     "name": "stdout",
     "output_type": "stream",
     "text": [
      "Estimators: 0\tTrain Loss: 5531.247700008249\tValidation Loss: 5238.615688792034\n",
      "Estimators: 10\tTrain Loss: 3117.8096838774745\tValidation Loss: 3527.6197650283116\n",
      "Estimators: 20\tTrain Loss: 2379.550378164687\tValidation Loss: 3097.2332912319457\n",
      "Estimators: 29\tTrain Loss: 1961.3497145248737\tValidation Loss: 3096.2922869241274\n",
      "Mean Squared Error: 3058.39801532374\n"
     ]
    }
   ],
   "source": [
    "from rlearn.tree import GradientBoostRegressor\n",
    "\n",
    "gbr = GradientBoostRegressor(\n",
    "    max_depth=3,\n",
    "    frac_of_samples=0.7,\n",
    "    min_samples_split=20,\n",
    "    max_features=4,\n",
    "    n_estimators=30,\n",
    ")\n",
    "gbr.fit(X_train, y_train, X_test, y_test, verbose=10)\n",
    "\n",
    "print(\"Mean Squared Error:\", mean_squared_error(y_test, gbr.predict(X_test)))"
   ]
  },
  {
   "cell_type": "markdown",
   "metadata": {},
   "source": [
    "### Classification with Trees"
   ]
  },
  {
   "cell_type": "markdown",
   "metadata": {},
   "source": [
    "Dataset used for classification with Trees."
   ]
  },
  {
   "cell_type": "code",
   "execution_count": 22,
   "metadata": {},
   "outputs": [],
   "source": [
    "from sklearn.datasets import load_wine\n",
    "from sklearn.model_selection import train_test_split\n",
    "\n",
    "X, y = load_wine(return_X_y=True, as_frame=True)\n",
    "X_train, X_test, y_train, y_test = train_test_split(\n",
    "    X, y, test_size=0.3, random_state=42, shuffle=True\n",
    ")"
   ]
  },
  {
   "cell_type": "markdown",
   "metadata": {},
   "source": [
    "#### Decision Tree Classifier"
   ]
  },
  {
   "cell_type": "code",
   "execution_count": 23,
   "metadata": {},
   "outputs": [
    {
     "name": "stdout",
     "output_type": "stream",
     "text": [
      "              precision    recall  f1-score   support\n",
      "\n",
      "           0       1.00      0.89      0.94        19\n",
      "           1       0.88      1.00      0.93        21\n",
      "           2       1.00      0.93      0.96        14\n",
      "\n",
      "    accuracy                           0.94        54\n",
      "   macro avg       0.96      0.94      0.95        54\n",
      "weighted avg       0.95      0.94      0.94        54\n",
      "\n"
     ]
    }
   ],
   "source": [
    "from rlearn.tree import DecisionTreeClassifier\n",
    "\n",
    "dtc = DecisionTreeClassifier(max_depth=4, min_samples_split=20)\n",
    "dtc.fit(X_train, y_train)\n",
    "\n",
    "print(classification_report(y_test, dtc.predict(X_test)))"
   ]
  },
  {
   "cell_type": "code",
   "execution_count": 24,
   "metadata": {},
   "outputs": [
    {
     "data": {
      "image/svg+xml": [
       "<?xml version=\"1.0\" encoding=\"UTF-8\" standalone=\"no\"?>\n",
       "<!DOCTYPE svg PUBLIC \"-//W3C//DTD SVG 1.1//EN\"\n",
       " \"http://www.w3.org/Graphics/SVG/1.1/DTD/svg11.dtd\">\n",
       "<!-- Generated by graphviz version 10.0.1 (20240210.2158)\n",
       " -->\n",
       "<!-- Title: tree Pages: 1 -->\n",
       "<svg width=\"720pt\" height=\"503pt\"\n",
       " viewBox=\"0.00 0.00 720.00 502.84\" xmlns=\"http://www.w3.org/2000/svg\" xmlns:xlink=\"http://www.w3.org/1999/xlink\">\n",
       "<g id=\"graph0\" class=\"graph\" transform=\"scale(1.25709 1.25709) rotate(0) translate(4 396)\">\n",
       "<title>tree</title>\n",
       "<polygon fill=\"white\" stroke=\"none\" points=\"-4,4 -4,-396 568.75,-396 568.75,4 -4,4\"/>\n",
       "<!-- 185674262749 -->\n",
       "<g id=\"node1\" class=\"node\">\n",
       "<title>185674262749</title>\n",
       "<polygon fill=\"none\" stroke=\"black\" points=\"290.38,-392 144.62,-392 144.62,-336.75 290.38,-336.75 290.38,-392\"/>\n",
       "<text text-anchor=\"middle\" x=\"217.5\" y=\"-374.7\" font-family=\"Times New Roman,serif\" font-size=\"14.00\">color_intensity&lt;=3.800</text>\n",
       "<text text-anchor=\"middle\" x=\"217.5\" y=\"-358.95\" font-family=\"Times New Roman,serif\" font-size=\"14.00\">Gini: 0.387</text>\n",
       "<text text-anchor=\"middle\" x=\"217.5\" y=\"-343.2\" font-family=\"Times New Roman,serif\" font-size=\"14.00\">N. Samples: 124</text>\n",
       "</g>\n",
       "<!-- 185674210425 -->\n",
       "<g id=\"node2\" class=\"node\">\n",
       "<title>185674210425</title>\n",
       "<polygon fill=\"none\" stroke=\"black\" points=\"203.88,-300.75 103.12,-300.75 103.12,-245.5 203.88,-245.5 203.88,-300.75\"/>\n",
       "<text text-anchor=\"middle\" x=\"153.5\" y=\"-283.45\" font-family=\"Times New Roman,serif\" font-size=\"14.00\">ash&lt;=3.070</text>\n",
       "<text text-anchor=\"middle\" x=\"153.5\" y=\"-267.7\" font-family=\"Times New Roman,serif\" font-size=\"14.00\">Gini: 0.083</text>\n",
       "<text text-anchor=\"middle\" x=\"153.5\" y=\"-251.95\" font-family=\"Times New Roman,serif\" font-size=\"14.00\">N. Samples: 46</text>\n",
       "</g>\n",
       "<!-- 185674262749&#45;&gt;185674210425 -->\n",
       "<g id=\"edge1\" class=\"edge\">\n",
       "<title>185674262749&#45;&gt;185674210425</title>\n",
       "<path fill=\"none\" stroke=\"black\" d=\"M198.3,-336.6C192.4,-328.38 185.82,-319.19 179.54,-310.44\"/>\n",
       "<polygon fill=\"black\" stroke=\"black\" points=\"182.46,-308.51 173.79,-302.42 176.77,-312.59 182.46,-308.51\"/>\n",
       "</g>\n",
       "<!-- 185674289169 -->\n",
       "<g id=\"node3\" class=\"node\">\n",
       "<title>185674289169</title>\n",
       "<polygon fill=\"none\" stroke=\"black\" points=\"374.62,-300.75 254.38,-300.75 254.38,-245.5 374.62,-245.5 374.62,-300.75\"/>\n",
       "<text text-anchor=\"middle\" x=\"314.5\" y=\"-283.45\" font-family=\"Times New Roman,serif\" font-size=\"14.00\">flavanoids&lt;=1.400</text>\n",
       "<text text-anchor=\"middle\" x=\"314.5\" y=\"-267.7\" font-family=\"Times New Roman,serif\" font-size=\"14.00\">Gini: 0.567</text>\n",
       "<text text-anchor=\"middle\" x=\"314.5\" y=\"-251.95\" font-family=\"Times New Roman,serif\" font-size=\"14.00\">N. Samples: 78</text>\n",
       "</g>\n",
       "<!-- 185674262749&#45;&gt;185674289169 -->\n",
       "<g id=\"edge2\" class=\"edge\">\n",
       "<title>185674262749&#45;&gt;185674289169</title>\n",
       "<path fill=\"none\" stroke=\"black\" d=\"M246.87,-336.35C256.36,-327.62 267.03,-317.81 277.03,-308.6\"/>\n",
       "<polygon fill=\"black\" stroke=\"black\" points=\"279.13,-311.42 284.12,-302.08 274.39,-306.27 279.13,-311.42\"/>\n",
       "</g>\n",
       "<!-- 185672179289 -->\n",
       "<g id=\"node4\" class=\"node\">\n",
       "<title>185672179289</title>\n",
       "<polygon fill=\"none\" stroke=\"black\" points=\"241,-193.75 0,-193.75 0,-138.5 241,-138.5 241,-193.75\"/>\n",
       "<text text-anchor=\"middle\" x=\"120.5\" y=\"-176.45\" font-family=\"Times New Roman,serif\" font-size=\"14.00\">od280/od315_of_diluted_wines&lt;=3.820</text>\n",
       "<text text-anchor=\"middle\" x=\"120.5\" y=\"-160.7\" font-family=\"Times New Roman,serif\" font-size=\"14.00\">Gini: 0.043</text>\n",
       "<text text-anchor=\"middle\" x=\"120.5\" y=\"-144.95\" font-family=\"Times New Roman,serif\" font-size=\"14.00\">N. Samples: 45</text>\n",
       "</g>\n",
       "<!-- 185674210425&#45;&gt;185672179289 -->\n",
       "<g id=\"edge3\" class=\"edge\">\n",
       "<title>185674210425&#45;&gt;185672179289</title>\n",
       "<path fill=\"none\" stroke=\"black\" d=\"M145,-245.08C141.15,-232.84 136.54,-218.15 132.35,-204.84\"/>\n",
       "<polygon fill=\"black\" stroke=\"black\" points=\"135.76,-204.01 129.42,-195.52 129.08,-206.11 135.76,-204.01\"/>\n",
       "</g>\n",
       "<!-- 185674168133 -->\n",
       "<g id=\"node5\" class=\"node\">\n",
       "<title>185674168133</title>\n",
       "<polygon fill=\"none\" stroke=\"black\" points=\"369.75,-209.5 259.25,-209.5 259.25,-122.75 369.75,-122.75 369.75,-209.5\"/>\n",
       "<text text-anchor=\"middle\" x=\"314.5\" y=\"-192.2\" font-family=\"Times New Roman,serif\" font-size=\"14.00\">alcohol&lt;=12.225</text>\n",
       "<text text-anchor=\"middle\" x=\"314.5\" y=\"-176.45\" font-family=\"Times New Roman,serif\" font-size=\"14.00\">Gini: 0.000</text>\n",
       "<text text-anchor=\"middle\" x=\"314.5\" y=\"-160.7\" font-family=\"Times New Roman,serif\" font-size=\"14.00\">Leaf: True</text>\n",
       "<text text-anchor=\"middle\" x=\"314.5\" y=\"-144.95\" font-family=\"Times New Roman,serif\" font-size=\"14.00\">N. Samples: 34</text>\n",
       "<text text-anchor=\"middle\" x=\"314.5\" y=\"-129.2\" font-family=\"Times New Roman,serif\" font-size=\"14.00\">Output: 2.000</text>\n",
       "</g>\n",
       "<!-- 185674289169&#45;&gt;185674168133 -->\n",
       "<g id=\"edge4\" class=\"edge\">\n",
       "<title>185674289169&#45;&gt;185674168133</title>\n",
       "<path fill=\"none\" stroke=\"black\" d=\"M314.5,-245.08C314.5,-237.73 314.5,-229.5 314.5,-221.22\"/>\n",
       "<polygon fill=\"black\" stroke=\"black\" points=\"318,-221.48 314.5,-211.48 311,-221.48 318,-221.48\"/>\n",
       "</g>\n",
       "<!-- 185674299633 -->\n",
       "<g id=\"node6\" class=\"node\">\n",
       "<title>185674299633</title>\n",
       "<polygon fill=\"none\" stroke=\"black\" points=\"503,-193.75 388,-193.75 388,-138.5 503,-138.5 503,-193.75\"/>\n",
       "<text text-anchor=\"middle\" x=\"445.5\" y=\"-176.45\" font-family=\"Times New Roman,serif\" font-size=\"14.00\">proline&lt;=724.500</text>\n",
       "<text text-anchor=\"middle\" x=\"445.5\" y=\"-160.7\" font-family=\"Times New Roman,serif\" font-size=\"14.00\">Gini: 0.236</text>\n",
       "<text text-anchor=\"middle\" x=\"445.5\" y=\"-144.95\" font-family=\"Times New Roman,serif\" font-size=\"14.00\">N. Samples: 44</text>\n",
       "</g>\n",
       "<!-- 185674289169&#45;&gt;185674299633 -->\n",
       "<g id=\"edge5\" class=\"edge\">\n",
       "<title>185674289169&#45;&gt;185674299633</title>\n",
       "<path fill=\"none\" stroke=\"black\" d=\"M348.24,-245.08C365.04,-231.61 385.53,-215.19 403.37,-200.9\"/>\n",
       "<polygon fill=\"black\" stroke=\"black\" points=\"405.08,-204.01 410.7,-195.02 400.71,-198.54 405.08,-204.01\"/>\n",
       "</g>\n",
       "<!-- 185673983301 -->\n",
       "<g id=\"node7\" class=\"node\">\n",
       "<title>185673983301</title>\n",
       "<polygon fill=\"none\" stroke=\"black\" points=\"175.75,-86.75 65.25,-86.75 65.25,0 175.75,0 175.75,-86.75\"/>\n",
       "<text text-anchor=\"middle\" x=\"120.5\" y=\"-69.45\" font-family=\"Times New Roman,serif\" font-size=\"14.00\">alcohol&lt;=11.240</text>\n",
       "<text text-anchor=\"middle\" x=\"120.5\" y=\"-53.7\" font-family=\"Times New Roman,serif\" font-size=\"14.00\">Gini: 0.000</text>\n",
       "<text text-anchor=\"middle\" x=\"120.5\" y=\"-37.95\" font-family=\"Times New Roman,serif\" font-size=\"14.00\">Leaf: True</text>\n",
       "<text text-anchor=\"middle\" x=\"120.5\" y=\"-22.2\" font-family=\"Times New Roman,serif\" font-size=\"14.00\">N. Samples: 44</text>\n",
       "<text text-anchor=\"middle\" x=\"120.5\" y=\"-6.45\" font-family=\"Times New Roman,serif\" font-size=\"14.00\">Output: 1.000</text>\n",
       "</g>\n",
       "<!-- 185672179289&#45;&gt;185673983301 -->\n",
       "<g id=\"edge6\" class=\"edge\">\n",
       "<title>185672179289&#45;&gt;185673983301</title>\n",
       "<path fill=\"none\" stroke=\"black\" d=\"M120.5,-138.03C120.5,-126.29 120.5,-112.12 120.5,-98.39\"/>\n",
       "<polygon fill=\"black\" stroke=\"black\" points=\"124,-98.54 120.5,-88.54 117,-98.54 124,-98.54\"/>\n",
       "</g>\n",
       "<!-- 185674340037 -->\n",
       "<g id=\"node8\" class=\"node\">\n",
       "<title>185674340037</title>\n",
       "<polygon fill=\"none\" stroke=\"black\" points=\"435.75,-86.75 325.25,-86.75 325.25,0 435.75,0 435.75,-86.75\"/>\n",
       "<text text-anchor=\"middle\" x=\"380.5\" y=\"-69.45\" font-family=\"Times New Roman,serif\" font-size=\"14.00\">alcohol&lt;=13.145</text>\n",
       "<text text-anchor=\"middle\" x=\"380.5\" y=\"-53.7\" font-family=\"Times New Roman,serif\" font-size=\"14.00\">Gini: 0.245</text>\n",
       "<text text-anchor=\"middle\" x=\"380.5\" y=\"-37.95\" font-family=\"Times New Roman,serif\" font-size=\"14.00\">Leaf: True</text>\n",
       "<text text-anchor=\"middle\" x=\"380.5\" y=\"-22.2\" font-family=\"Times New Roman,serif\" font-size=\"14.00\">N. Samples: 7</text>\n",
       "<text text-anchor=\"middle\" x=\"380.5\" y=\"-6.45\" font-family=\"Times New Roman,serif\" font-size=\"14.00\">Output: 1.000</text>\n",
       "</g>\n",
       "<!-- 185674299633&#45;&gt;185674340037 -->\n",
       "<g id=\"edge7\" class=\"edge\">\n",
       "<title>185674299633&#45;&gt;185674340037</title>\n",
       "<path fill=\"none\" stroke=\"black\" d=\"M430.91,-138.03C424.41,-125.94 416.51,-111.27 408.91,-97.16\"/>\n",
       "<polygon fill=\"black\" stroke=\"black\" points=\"412,-95.51 404.18,-88.36 405.83,-98.82 412,-95.51\"/>\n",
       "</g>\n",
       "<!-- 185674329889 -->\n",
       "<g id=\"node9\" class=\"node\">\n",
       "<title>185674329889</title>\n",
       "<polygon fill=\"none\" stroke=\"black\" points=\"564.75,-86.75 454.25,-86.75 454.25,0 564.75,0 564.75,-86.75\"/>\n",
       "<text text-anchor=\"middle\" x=\"509.5\" y=\"-69.45\" font-family=\"Times New Roman,serif\" font-size=\"14.00\">alcohol&lt;=12.890</text>\n",
       "<text text-anchor=\"middle\" x=\"509.5\" y=\"-53.7\" font-family=\"Times New Roman,serif\" font-size=\"14.00\">Gini: 0.000</text>\n",
       "<text text-anchor=\"middle\" x=\"509.5\" y=\"-37.95\" font-family=\"Times New Roman,serif\" font-size=\"14.00\">Leaf: True</text>\n",
       "<text text-anchor=\"middle\" x=\"509.5\" y=\"-22.2\" font-family=\"Times New Roman,serif\" font-size=\"14.00\">N. Samples: 37</text>\n",
       "<text text-anchor=\"middle\" x=\"509.5\" y=\"-6.45\" font-family=\"Times New Roman,serif\" font-size=\"14.00\">Output: 0.000</text>\n",
       "</g>\n",
       "<!-- 185674299633&#45;&gt;185674329889 -->\n",
       "<g id=\"edge8\" class=\"edge\">\n",
       "<title>185674299633&#45;&gt;185674329889</title>\n",
       "<path fill=\"none\" stroke=\"black\" d=\"M459.86,-138.03C466.27,-125.94 474.05,-111.27 481.52,-97.16\"/>\n",
       "<polygon fill=\"black\" stroke=\"black\" points=\"484.59,-98.84 486.18,-88.36 478.41,-95.56 484.59,-98.84\"/>\n",
       "</g>\n",
       "</g>\n",
       "</svg>\n"
      ],
      "text/plain": [
       "<graphviz.graphs.Digraph at 0x2b3aec3cf90>"
      ]
     },
     "execution_count": 24,
     "metadata": {},
     "output_type": "execute_result"
    }
   ],
   "source": [
    "plot_tree(dtc)"
   ]
  },
  {
   "cell_type": "markdown",
   "metadata": {},
   "source": [
    "#### Random Forest Classifier"
   ]
  },
  {
   "cell_type": "code",
   "execution_count": 25,
   "metadata": {},
   "outputs": [
    {
     "name": "stdout",
     "output_type": "stream",
     "text": [
      "Train Loss: 1.0\tTest Loss: 0.9259259259259259\n",
      "Train Loss: 1.0\tTest Loss: 0.9814814814814815\n",
      "Train Loss: 1.0\tTest Loss: 1.0\n",
      "Train Loss: 1.0\tTest Loss: 1.0\n",
      "Train Loss: 1.0\tTest Loss: 1.0\n",
      "Train Loss: 1.0\tTest Loss: 1.0\n",
      "              precision    recall  f1-score   support\n",
      "\n",
      "           0       1.00      1.00      1.00        19\n",
      "           1       1.00      1.00      1.00        21\n",
      "           2       1.00      1.00      1.00        14\n",
      "\n",
      "    accuracy                           1.00        54\n",
      "   macro avg       1.00      1.00      1.00        54\n",
      "weighted avg       1.00      1.00      1.00        54\n",
      "\n"
     ]
    }
   ],
   "source": [
    "from rlearn.tree import RandomForestClassifier\n",
    "\n",
    "forest = RandomForestClassifier(max_depth=10, n_estimators=100)\n",
    "forest.fit(X_train, y_train, X_test, y_test, verbose=20)\n",
    "\n",
    "print(classification_report(y_test, forest.predict(X_test)))"
   ]
  },
  {
   "cell_type": "markdown",
   "metadata": {},
   "source": [
    "#### Gradient Boosting Classifier"
   ]
  },
  {
   "cell_type": "code",
   "execution_count": 26,
   "metadata": {},
   "outputs": [
    {
     "name": "stdout",
     "output_type": "stream",
     "text": [
      "Estimators: 0\tTrain Loss: 0.4032258064516129\tValidation Loss: 0.3888888888888889\n",
      "Estimators: 40\tTrain Loss: 1.0\tValidation Loss: 1.0\n",
      "Estimators: 80\tTrain Loss: 1.0\tValidation Loss: 0.9814814814814815\n",
      "Estimators: 120\tTrain Loss: 1.0\tValidation Loss: 1.0\n",
      "Estimators: 160\tTrain Loss: 1.0\tValidation Loss: 1.0\n",
      "Estimators: 199\tTrain Loss: 1.0\tValidation Loss: 1.0\n",
      "              precision    recall  f1-score   support\n",
      "\n",
      "           0       1.00      1.00      1.00        19\n",
      "           1       1.00      1.00      1.00        21\n",
      "           2       1.00      1.00      1.00        14\n",
      "\n",
      "    accuracy                           1.00        54\n",
      "   macro avg       1.00      1.00      1.00        54\n",
      "weighted avg       1.00      1.00      1.00        54\n",
      "\n"
     ]
    }
   ],
   "source": [
    "from rlearn.tree import GradientBoostClassifier\n",
    "\n",
    "gbc = GradientBoostClassifier(\n",
    "    n_estimators=200,\n",
    "    max_depth=5,\n",
    "    frac_of_samples=0.3,\n",
    "    max_features=int(np.sqrt(X_train.shape[1])),\n",
    ")\n",
    "gbc.fit(X_train, y_train, X_test, y_test, verbose=40)\n",
    "\n",
    "print(classification_report(y_test, gbc.predict(X_test)))"
   ]
  },
  {
   "cell_type": "markdown",
   "metadata": {},
   "source": [
    "## [Clusters](rlearn/cluster.py)  \n",
    "<sub>[Back to top.](#table-of-contents)</sub>"
   ]
  },
  {
   "cell_type": "markdown",
   "metadata": {},
   "source": [
    "Dataset used for clustering."
   ]
  },
  {
   "cell_type": "code",
   "execution_count": 27,
   "metadata": {},
   "outputs": [],
   "source": [
    "from sklearn.datasets import load_iris\n",
    "\n",
    "X, y = load_iris(return_X_y=True)"
   ]
  },
  {
   "cell_type": "markdown",
   "metadata": {},
   "source": [
    "#### K-Means"
   ]
  },
  {
   "cell_type": "code",
   "execution_count": 28,
   "metadata": {},
   "outputs": [],
   "source": [
    "from rlearn.cluster import KMeans\n",
    "\n",
    "kmeans = KMeans(k=3)\n",
    "kmeans.fit(X[:, [0, 1]])\n",
    "_ = kmeans.make_animation(X[:, [0, 1]], interval=1000)"
   ]
  },
  {
   "cell_type": "markdown",
   "metadata": {},
   "source": [
    "![K-Means training.](README_files/kmeans.gif)"
   ]
  },
  {
   "cell_type": "markdown",
   "metadata": {},
   "source": [
    "#### DBSCAN"
   ]
  },
  {
   "cell_type": "code",
   "execution_count": 29,
   "metadata": {},
   "outputs": [
    {
     "name": "stdout",
     "output_type": "stream",
     "text": [
      "it may take a while...\n",
      "Done!\n"
     ]
    }
   ],
   "source": [
    "from rlearn.cluster import DBSCAN\n",
    "\n",
    "d = DBSCAN(eps=0.3, algorithm=\"brute\")\n",
    "d.fit(X[:, [0, 1]])\n",
    "d.make_animation(X)"
   ]
  },
  {
   "cell_type": "markdown",
   "metadata": {},
   "source": [
    "![DBSCAN training.](README_files/dbscan.gif)"
   ]
  },
  {
   "cell_type": "markdown",
   "metadata": {},
   "source": [
    "## [Neighbors](rlearn/neighbour.py)\n",
    "<sub>[Back to top.](#table-of-contents)</sub>"
   ]
  },
  {
   "cell_type": "markdown",
   "metadata": {},
   "source": [
    "### Classification with KNN"
   ]
  },
  {
   "cell_type": "markdown",
   "metadata": {},
   "source": [
    "Dataset used for classification with neighbours algorithms."
   ]
  },
  {
   "cell_type": "code",
   "execution_count": 30,
   "metadata": {},
   "outputs": [],
   "source": [
    "from sklearn.datasets import load_wine\n",
    "\n",
    "X, y = load_wine(return_X_y=True)\n",
    "X_train, X_test, y_train, y_test = train_test_split(\n",
    "    X, y, test_size=0.20, random_state=42, shuffle=True\n",
    ")"
   ]
  },
  {
   "cell_type": "markdown",
   "metadata": {},
   "source": [
    "#### K-Nearest Neighbours Classifier"
   ]
  },
  {
   "cell_type": "code",
   "execution_count": 31,
   "metadata": {},
   "outputs": [
    {
     "name": "stdout",
     "output_type": "stream",
     "text": [
      "              precision    recall  f1-score   support\n",
      "\n",
      "           0       0.88      1.00      0.93        14\n",
      "           1       0.82      0.64      0.72        14\n",
      "           2       0.44      0.50      0.47         8\n",
      "\n",
      "    accuracy                           0.75        36\n",
      "   macro avg       0.71      0.71      0.71        36\n",
      "weighted avg       0.76      0.75      0.75        36\n",
      "\n"
     ]
    }
   ],
   "source": [
    "from rlearn.neighbour import KNearestNeighbors\n",
    "\n",
    "knn = KNearestNeighbors(14)\n",
    "knn.fit(X_train, y_train)\n",
    "print(classification_report(y_test, knn.predict(X_test)))"
   ]
  },
  {
   "cell_type": "markdown",
   "metadata": {},
   "source": [
    "### Regression with KNN"
   ]
  },
  {
   "cell_type": "markdown",
   "metadata": {},
   "source": [
    "Dataset used for regression."
   ]
  },
  {
   "cell_type": "code",
   "execution_count": 32,
   "metadata": {},
   "outputs": [],
   "source": [
    "from sklearn.datasets import fetch_california_housing\n",
    "\n",
    "housing = fetch_california_housing()\n",
    "X_train, X_test, y_train, y_test = train_test_split(\n",
    "    housing.data, housing.target, test_size=0.20, random_state=42, shuffle=True\n",
    ")"
   ]
  },
  {
   "cell_type": "markdown",
   "metadata": {},
   "source": [
    "#### K-Nearest Neighbours Regressor"
   ]
  },
  {
   "cell_type": "code",
   "execution_count": 33,
   "metadata": {},
   "outputs": [
    {
     "data": {
      "text/plain": [
       "1.1590791278976151"
      ]
     },
     "execution_count": 33,
     "metadata": {},
     "output_type": "execute_result"
    }
   ],
   "source": [
    "from rlearn.neighbour import KNearestNeighborsRegressor\n",
    "\n",
    "knnr = KNearestNeighborsRegressor(10)\n",
    "knnr.fit(X_train, y_train)\n",
    "mean_squared_error(y_test, knnr.predict(X_test))"
   ]
  },
  {
   "cell_type": "markdown",
   "metadata": {},
   "source": [
    "## [Bayes](rlearn/bayes.py)\n",
    "<sub>[Back to top.](#table-of-contents)</sub>"
   ]
  },
  {
   "cell_type": "markdown",
   "metadata": {},
   "source": [
    "#### GaussianNB"
   ]
  },
  {
   "cell_type": "code",
   "execution_count": 1,
   "metadata": {},
   "outputs": [],
   "source": [
    "from sklearn.datasets import load_wine\n",
    "from sklearn.model_selection import train_test_split\n",
    "\n",
    "X, y = load_wine(return_X_y=True)\n",
    "X_train, X_test, y_train, y_test = train_test_split(\n",
    "    X, y, test_size=0.3, random_state=42, shuffle=True\n",
    ")"
   ]
  },
  {
   "cell_type": "code",
   "execution_count": 4,
   "metadata": {},
   "outputs": [
    {
     "name": "stdout",
     "output_type": "stream",
     "text": [
      "              precision    recall  f1-score   support\n",
      "\n",
      "           0       1.00      1.00      1.00        19\n",
      "           1       1.00      1.00      1.00        21\n",
      "           2       1.00      1.00      1.00        14\n",
      "\n",
      "    accuracy                           1.00        54\n",
      "   macro avg       1.00      1.00      1.00        54\n",
      "weighted avg       1.00      1.00      1.00        54\n",
      "\n"
     ]
    }
   ],
   "source": [
    "from rlearn.bayes import GaussianNB\n",
    "\n",
    "gnb = GaussianNB()\n",
    "gnb.fit(X_train, y_train)\n",
    "\n",
    "print(classification_report(y_test, gnb.predict(X_test)))"
   ]
  },
  {
   "cell_type": "markdown",
   "metadata": {},
   "source": [
    "<sub>[Back to top.](#table-of-contents)</sub>"
   ]
  }
 ],
 "metadata": {
  "kernelspec": {
   "display_name": "rlearn-env",
   "language": "python",
   "name": "python3"
  },
  "language_info": {
   "codemirror_mode": {
    "name": "ipython",
    "version": 3
   },
   "file_extension": ".py",
   "mimetype": "text/x-python",
   "name": "python",
   "nbconvert_exporter": "python",
   "pygments_lexer": "ipython3",
   "version": "3.11.8"
  }
 },
 "nbformat": 4,
 "nbformat_minor": 2
}
