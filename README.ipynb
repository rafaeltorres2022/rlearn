{
 "cells": [
  {
   "cell_type": "markdown",
   "metadata": {},
   "source": [
    "# rlearn\n",
    "Learning machine learning algorithms."
   ]
  },
  {
   "cell_type": "markdown",
   "metadata": {},
   "source": [
    "# Table of Contents\n",
    "- [Linear Models](#Linear-Models)  \n",
    "    - [Binary Classification](#binary-classification)  \n",
    "        - [Standard Perceptron](#standard-perceptron)  \n",
    "        - [Logistic Regression](#perceptron-with-sigmoid-activation)\n",
    "    - [Regression](#regression)  \n",
    "        - [Ordinary Least Squares](#ordinary-least-squares)\n",
    "        - [Linear Regression](#perceptron-with-linear-activation)\n",
    "        - [Elastic Net](#elastic-net)\n",
    "- [Neural Networks](#neural-networks)  \n",
    "    - [Regression](#regression-with-neural-network)  \n",
    "        - [Multilayer Perceptron](#multilayer-perceptron)\n",
    "    - [Multiclass Classification](#multiclass-classification)  \n",
    "        - [Multilayer Perceptron](#multilayer-perceptron-classification)\n",
    "        - [Convolutional Neural Network](#convolutional-neural-network)  \n",
    "- [Trees](#trees)\n",
    "    - [Regression](#regression-with-trees)  \n",
    "        - [Decision Tree](#decision-tree-regressor)  \n",
    "        - [Random Forest](#random-forest-regressor)  \n",
    "        - [Gradient Boost Regressor](#gradient-boost-regressor)\n",
    "    - [Classification](#classification-with-trees)  \n",
    "        - [Decision Tree](#decision-tree-classifier)\n",
    "        - [Random Forest](#random-forest-classifier)"
   ]
  },
  {
   "cell_type": "markdown",
   "metadata": {},
   "source": [
    "## [Linear Models](rlearn\\linear_model.py)"
   ]
  },
  {
   "cell_type": "code",
   "execution_count": 1,
   "metadata": {},
   "outputs": [],
   "source": [
    "import matplotlib.pyplot as plt\n",
    "import numpy as np\n",
    "from rlearn.solvers import *\n",
    "from sklearn.model_selection import train_test_split\n",
    "from sklearn.metrics import f1_score, mean_squared_error, classification_report\n",
    "\n",
    "np.set_printoptions(precision=2, suppress=1)"
   ]
  },
  {
   "cell_type": "markdown",
   "metadata": {},
   "source": [
    "### Binary Classification"
   ]
  },
  {
   "cell_type": "markdown",
   "metadata": {},
   "source": [
    "Dataset used for binary classification examples:"
   ]
  },
  {
   "cell_type": "code",
   "execution_count": 2,
   "metadata": {},
   "outputs": [],
   "source": [
    "from sklearn.datasets import load_breast_cancer\n",
    "\n",
    "X, y = load_breast_cancer(return_X_y=True)\n",
    "X_train, X_test, y_train, y_test = train_test_split(X, y, test_size=0.20, random_state=42)"
   ]
  },
  {
   "cell_type": "markdown",
   "metadata": {},
   "source": [
    "#### Standard Perceptron"
   ]
  },
  {
   "cell_type": "code",
   "execution_count": 3,
   "metadata": {},
   "outputs": [
    {
     "name": "stdout",
     "output_type": "stream",
     "text": [
      "              precision    recall  f1-score   support\n",
      "\n",
      "           0       0.88      1.00      0.93        43\n",
      "           1       1.00      0.92      0.96        71\n",
      "\n",
      "    accuracy                           0.95       114\n",
      "   macro avg       0.94      0.96      0.95       114\n",
      "weighted avg       0.95      0.95      0.95       114\n",
      "\n"
     ]
    }
   ],
   "source": [
    "from rlearn.linear_model import Perceptron\n",
    "standard_perceptron = Perceptron(solver='perceptron', activation='step', loss_function='perceptron')\n",
    "standard_perceptron.fit(X_train, y_train)\n",
    "\n",
    "print(classification_report(y_test, standard_perceptron.predict(X_test)))"
   ]
  },
  {
   "cell_type": "markdown",
   "metadata": {},
   "source": [
    "#### Perceptron with  Sigmoid Activation\n",
    "Which is equivalent to a Logistic Regression"
   ]
  },
  {
   "cell_type": "code",
   "execution_count": 13,
   "metadata": {},
   "outputs": [
    {
     "name": "stdout",
     "output_type": "stream",
     "text": [
      "              precision    recall  f1-score   support\n",
      "\n",
      "           0       1.00      0.81      0.90        43\n",
      "           1       0.90      1.00      0.95        71\n",
      "\n",
      "    accuracy                           0.93       114\n",
      "   macro avg       0.95      0.91      0.92       114\n",
      "weighted avg       0.94      0.93      0.93       114\n",
      "\n"
     ]
    }
   ],
   "source": [
    "logistic_model = Perceptron(activation='sigmoid', loss_function='logloss')\n",
    "logistic_model.fit(X_train, y_train)\n",
    "\n",
    "print(classification_report(y_test, logistic_model.predict(X_test)))"
   ]
  },
  {
   "cell_type": "markdown",
   "metadata": {},
   "source": [
    "### Regression"
   ]
  },
  {
   "cell_type": "markdown",
   "metadata": {},
   "source": [
    "Dataset used for regression examples"
   ]
  },
  {
   "cell_type": "code",
   "execution_count": 2,
   "metadata": {},
   "outputs": [],
   "source": [
    "from sklearn.datasets import load_diabetes\n",
    "X, y = load_diabetes(return_X_y=True)\n",
    "X_train, X_test, y_train, y_test = train_test_split(X, y, test_size=0.20, random_state=42)"
   ]
  },
  {
   "cell_type": "markdown",
   "metadata": {},
   "source": [
    "#### Ordinary Least Squares"
   ]
  },
  {
   "cell_type": "code",
   "execution_count": 24,
   "metadata": {},
   "outputs": [
    {
     "name": "stdout",
     "output_type": "stream",
     "text": [
      "Mean Squared Error: 2900.1936284934795\n"
     ]
    }
   ],
   "source": [
    "from rlearn.linear_model import OLS\n",
    "\n",
    "ols = OLS()\n",
    "ols.fit(X_train, y_train)\n",
    "print('Mean Squared Error:',mean_squared_error(y_test, ols.predict(X_test)))"
   ]
  },
  {
   "cell_type": "markdown",
   "metadata": {},
   "source": [
    "#### Perceptron with Linear Activation\n",
    "Which is equivalent to a simple Linear Regression"
   ]
  },
  {
   "cell_type": "code",
   "execution_count": 29,
   "metadata": {},
   "outputs": [
    {
     "name": "stdout",
     "output_type": "stream",
     "text": [
      "Mean Squared Error: 2886.3682400969315\n"
     ]
    }
   ],
   "source": [
    "linear_regression = Perceptron(activation='linear', \n",
    "                    solver=StochasticGradientDescent(learning_rate=0.1, momentum=0.9))\n",
    "linear_regression.fit(X_train, y_train, epochs=100000)\n",
    "print('Mean Squared Error:',mean_squared_error(y_test, linear_regression.predict(X_test)))"
   ]
  },
  {
   "cell_type": "markdown",
   "metadata": {},
   "source": [
    "#### Elastic Net"
   ]
  },
  {
   "cell_type": "code",
   "execution_count": 69,
   "metadata": {},
   "outputs": [
    {
     "name": "stdout",
     "output_type": "stream",
     "text": [
      "Mean Squared Error: 2945.079897872204\n"
     ]
    }
   ],
   "source": [
    "from rlearn.linear_model import ElasticNet\n",
    "elastic_net = ElasticNet(alpha=1, l1_ratio=1, learning_rate=0.01, solver='sgd')\n",
    "elastic_net.fit(X_train, y_train, verbose=0, epochs=100000)\n",
    "print('Mean Squared Error:',mean_squared_error(y_test, elastic_net.predict(X_test)))"
   ]
  },
  {
   "cell_type": "markdown",
   "metadata": {},
   "source": [
    "## [Neural Networks](rlearn/nn.py)  \n",
    "<sub>[Back to top.](#table-of-contents)</sub>\n"
   ]
  },
  {
   "cell_type": "markdown",
   "metadata": {},
   "source": [
    "### Regression with Neural Network"
   ]
  },
  {
   "cell_type": "markdown",
   "metadata": {},
   "source": [
    "#### Multilayer Perceptron"
   ]
  },
  {
   "cell_type": "code",
   "execution_count": 72,
   "metadata": {},
   "outputs": [
    {
     "name": "stdout",
     "output_type": "stream",
     "text": [
      "Epoch 1: Training Loss 27955.21\tTest Loss 26366.34\n",
      "Epoch 10000: Training Loss 2931.24\tTest Loss 2783.92\n",
      "Epoch 20000: Training Loss 2790.74\tTest Loss 2667.35\n",
      "Epoch 30000: Training Loss 2749.40\tTest Loss 2628.80\n",
      "Epoch 40000: Training Loss 2710.99\tTest Loss 2624.76\n",
      "Epoch 50000: Training Loss 2686.43\tTest Loss 2617.87\n",
      "Mean Squared Error: 2617.8651642833656\n"
     ]
    }
   ],
   "source": [
    "from rlearn.nn import NNModel, FC\n",
    "from rlearn.activation_functions import *\n",
    "from rlearn.regularization import Regularization\n",
    "\n",
    "mlp_regularization = NNModel(loss='mse', input_dim=X_train.shape[1:], layers=[\n",
    "    FC(16, regularization=Regularization(alpha=1, l1_ratio=1)),\n",
    "    FC(1, activation=Relu())\n",
    "])\n",
    "\n",
    "mlp_regularization.fit(X_train, y_train, X_test, y_test, epochs=50000, verbose=10000)\n",
    "print('Mean Squared Error:',mean_squared_error(y_test, mlp_regularization.predict(X_test, 1)))"
   ]
  },
  {
   "cell_type": "markdown",
   "metadata": {},
   "source": [
    "### Multiclass Classification"
   ]
  },
  {
   "cell_type": "markdown",
   "metadata": {},
   "source": [
    "Dataset used for multiclass classification"
   ]
  },
  {
   "cell_type": "code",
   "execution_count": null,
   "metadata": {},
   "outputs": [],
   "source": [
    "from tensorflow.keras.datasets import fashion_mnist\n",
    "\n",
    "(X_train, y_train), (X_test, y_test) = fashion_mnist.load_data()\n",
    "X_train = X_train.reshape(*X_train.shape, 1)\n",
    "X_test = X_test.reshape(*X_test.shape, 1)\n",
    "X_train = X_train / 255\n",
    "X_test = X_test / 255"
   ]
  },
  {
   "cell_type": "markdown",
   "metadata": {},
   "source": [
    "#### Multilayer Perceptron Classification"
   ]
  },
  {
   "cell_type": "code",
   "execution_count": 96,
   "metadata": {},
   "outputs": [
    {
     "name": "stdout",
     "output_type": "stream",
     "text": [
      "Epoch 1: Training Loss 0.10\tTraining Accuracy 0.66\tTest Loss 0.09\tTest Accuracy 0.69\n",
      "Epoch 2: Training Loss 0.08\tTraining Accuracy 0.72\tTest Loss 0.07\tTest Accuracy 0.75\n",
      "Epoch 4: Training Loss 0.06\tTraining Accuracy 0.79\tTest Loss 0.06\tTest Accuracy 0.79\n",
      "Epoch 6: Training Loss 0.05\tTraining Accuracy 0.83\tTest Loss 0.05\tTest Accuracy 0.81\n",
      "Epoch 8: Training Loss 0.05\tTraining Accuracy 0.84\tTest Loss 0.05\tTest Accuracy 0.82\n",
      "Epoch 10: Training Loss 0.05\tTraining Accuracy 0.82\tTest Loss 0.05\tTest Accuracy 0.82\n",
      "              precision    recall  f1-score   support\n",
      "\n",
      "           0       0.66      0.90      0.76      1000\n",
      "           1       0.99      0.93      0.95      1000\n",
      "           2       0.71      0.71      0.71      1000\n",
      "           3       0.86      0.83      0.84      1000\n",
      "           4       0.68      0.80      0.73      1000\n",
      "           5       0.95      0.89      0.92      1000\n",
      "           6       0.70      0.36      0.47      1000\n",
      "           7       0.92      0.88      0.90      1000\n",
      "           8       0.91      0.95      0.93      1000\n",
      "           9       0.87      0.97      0.92      1000\n",
      "\n",
      "    accuracy                           0.82     10000\n",
      "   macro avg       0.82      0.82      0.81     10000\n",
      "weighted avg       0.82      0.82      0.81     10000\n",
      "\n"
     ]
    }
   ],
   "source": [
    "from rlearn.nn import Squeezing\n",
    "mlp_regularization = NNModel(input_dim=X_train.shape[1:], layers=[\n",
    "    Squeezing(),\n",
    "    FC(30, regularization=Regularization(alpha=1, l1_ratio=0)),\n",
    "    FC(10, activation=Softmax())\n",
    "])\n",
    "\n",
    "mlp_regularization.fit(X_train, y_train, X_test, y_test, epochs=10, verbose=2)\n",
    "print(classification_report(y_test, mlp_regularization.predict(X_test)))"
   ]
  },
  {
   "cell_type": "markdown",
   "metadata": {},
   "source": [
    "#### Convolutional Neural Network"
   ]
  },
  {
   "cell_type": "code",
   "execution_count": 98,
   "metadata": {},
   "outputs": [
    {
     "name": "stdout",
     "output_type": "stream",
     "text": [
      "Epoch 1: Training Loss 0.06\tTraining Accuracy 0.79\tTest Loss 0.07\tTest Accuracy 0.77\n",
      "Epoch 2: Training Loss 0.04\tTraining Accuracy 0.82\tTest Loss 0.06\tTest Accuracy 0.82\n",
      "Epoch 4: Training Loss 0.03\tTraining Accuracy 0.87\tTest Loss 0.05\tTest Accuracy 0.84\n",
      "Epoch 6: Training Loss 0.03\tTraining Accuracy 0.88\tTest Loss 0.04\tTest Accuracy 0.86\n",
      "Epoch 8: Training Loss 0.03\tTraining Accuracy 0.89\tTest Loss 0.04\tTest Accuracy 0.87\n",
      "Epoch 10: Training Loss 0.03\tTraining Accuracy 0.88\tTest Loss 0.04\tTest Accuracy 0.87\n",
      "              precision    recall  f1-score   support\n",
      "\n",
      "           0       0.83      0.79      0.81      1000\n",
      "           1       0.98      0.96      0.97      1000\n",
      "           2       0.80      0.76      0.78      1000\n",
      "           3       0.86      0.90      0.88      1000\n",
      "           4       0.76      0.82      0.79      1000\n",
      "           5       0.97      0.96      0.96      1000\n",
      "           6       0.64      0.64      0.64      1000\n",
      "           7       0.95      0.92      0.94      1000\n",
      "           8       0.97      0.95      0.96      1000\n",
      "           9       0.93      0.97      0.95      1000\n",
      "\n",
      "    accuracy                           0.87     10000\n",
      "   macro avg       0.87      0.87      0.87     10000\n",
      "weighted avg       0.87      0.87      0.87     10000\n",
      "\n"
     ]
    }
   ],
   "source": [
    "from rlearn.nn import Conv3C, MaxPooling\n",
    "\n",
    "convnn_regularization = NNModel(input_dim=X_train.shape[1:], layers=[\n",
    "    Conv3C(kernel_size=3, n_chanels_kernel=X_train.shape[-1], out_channels=8, \n",
    "           regularization=Regularization(1, 0)),\n",
    "    MaxPooling(),\n",
    "    Squeezing(),\n",
    "    FC(10, activation=Softmax())\n",
    "])\n",
    "\n",
    "convnn_regularization.fit(X_train, y_train, X_test, y_test, epochs=10, verbose=2)\n",
    "print(classification_report(y_test, convnn_regularization.predict(X_test)))"
   ]
  },
  {
   "cell_type": "markdown",
   "metadata": {},
   "source": [
    "## [Trees](rlearn/tree.py)  \n",
    "<sub>[Back to top.](#table-of-contents)</sub>"
   ]
  },
  {
   "cell_type": "markdown",
   "metadata": {},
   "source": [
    "### Regression with Trees"
   ]
  },
  {
   "cell_type": "markdown",
   "metadata": {},
   "source": [
    "Dataset used for Regression. My implementation of Decision Trees requires DataFrame as input."
   ]
  },
  {
   "cell_type": "code",
   "execution_count": 3,
   "metadata": {},
   "outputs": [],
   "source": [
    "from rlearn.tree_utils import plot_tree\n",
    "\n",
    "X, y = load_diabetes(return_X_y=True, as_frame=True)\n",
    "split_delimiter = int(len(X)*0.7)\n",
    "X_train = X[:split_delimiter]\n",
    "y_train = y[:split_delimiter]\n",
    "X_test = X[split_delimiter:]\n",
    "y_test = y[split_delimiter:]"
   ]
  },
  {
   "cell_type": "markdown",
   "metadata": {},
   "source": [
    "#### Decision Tree Regressor"
   ]
  },
  {
   "cell_type": "code",
   "execution_count": 4,
   "metadata": {},
   "outputs": [
    {
     "name": "stdout",
     "output_type": "stream",
     "text": [
      "Mean Squared Error: 4193.494500508087\n"
     ]
    }
   ],
   "source": [
    "from rlearn.tree import DecisionTreeRegressor\n",
    "dtr = DecisionTreeRegressor(max_depth=4, min_samples_split=20)\n",
    "dtr.fit(X_train, y_train)\n",
    "\n",
    "print('Mean Squared Error:',mean_squared_error(y_test, dtr.predict(X_test)))"
   ]
  },
  {
   "cell_type": "code",
   "execution_count": 5,
   "metadata": {},
   "outputs": [
    {
     "data": {
      "image/svg+xml": [
       "<?xml version=\"1.0\" encoding=\"UTF-8\" standalone=\"no\"?>\n",
       "<!DOCTYPE svg PUBLIC \"-//W3C//DTD SVG 1.1//EN\"\n",
       " \"http://www.w3.org/Graphics/SVG/1.1/DTD/svg11.dtd\">\n",
       "<!-- Generated by graphviz version 10.0.1 (20240210.2158)\n",
       " -->\n",
       "<!-- Title: tree Pages: 1 -->\n",
       "<svg width=\"720pt\" height=\"257pt\"\n",
       " viewBox=\"0.00 0.00 720.00 256.54\" xmlns=\"http://www.w3.org/2000/svg\" xmlns:xlink=\"http://www.w3.org/1999/xlink\">\n",
       "<g id=\"graph0\" class=\"graph\" transform=\"scale(0.522212 0.522212) rotate(0) translate(4 487.25)\">\n",
       "<title>tree</title>\n",
       "<polygon fill=\"white\" stroke=\"none\" points=\"-4,4 -4,-487.25 1374.75,-487.25 1374.75,4 -4,4\"/>\n",
       "<!-- method&#45;wrapper &#39;__hash__&#39; of Node object at 0x000001AEEA9D7890 -->\n",
       "<g id=\"node1\" class=\"node\">\n",
       "<title>method&#45;wrapper &#39;__hash__&#39; of Node object at 0x000001AEEA9D7890</title>\n",
       "<polygon fill=\"none\" stroke=\"black\" points=\"753.88,-483.25 633.62,-483.25 633.62,-428 753.88,-428 753.88,-483.25\"/>\n",
       "<text text-anchor=\"middle\" x=\"693.75\" y=\"-465.95\" font-family=\"Times New Roman,serif\" font-size=\"14.00\">s5&lt;=0.016</text>\n",
       "<text text-anchor=\"middle\" x=\"693.75\" y=\"-450.2\" font-family=\"Times New Roman,serif\" font-size=\"14.00\">SSR: 1255427.051</text>\n",
       "<text text-anchor=\"middle\" x=\"693.75\" y=\"-434.45\" font-family=\"Times New Roman,serif\" font-size=\"14.00\">N. Samples: 309</text>\n",
       "</g>\n",
       "<!-- method&#45;wrapper &#39;__hash__&#39; of Node object at 0x000001AEEAA034D0 -->\n",
       "<g id=\"node2\" class=\"node\">\n",
       "<title>method&#45;wrapper &#39;__hash__&#39; of Node object at 0x000001AEEAA034D0</title>\n",
       "<polygon fill=\"none\" stroke=\"black\" points=\"622.5,-392 509,-392 509,-336.75 622.5,-336.75 622.5,-392\"/>\n",
       "<text text-anchor=\"middle\" x=\"565.75\" y=\"-374.7\" font-family=\"Times New Roman,serif\" font-size=\"14.00\">bmi&lt;=0.006</text>\n",
       "<text text-anchor=\"middle\" x=\"565.75\" y=\"-358.95\" font-family=\"Times New Roman,serif\" font-size=\"14.00\">SSR: 749926.289</text>\n",
       "<text text-anchor=\"middle\" x=\"565.75\" y=\"-343.2\" font-family=\"Times New Roman,serif\" font-size=\"14.00\">N. Samples: 204</text>\n",
       "</g>\n",
       "<!-- method&#45;wrapper &#39;__hash__&#39; of Node object at 0x000001AEEA9D7890&#45;&gt;method&#45;wrapper &#39;__hash__&#39; of Node object at 0x000001AEEAA034D0 -->\n",
       "<g id=\"edge1\" class=\"edge\">\n",
       "<title>method&#45;wrapper &#39;__hash__&#39; of Node object at 0x000001AEEA9D7890&#45;&gt;method&#45;wrapper &#39;__hash__&#39; of Node object at 0x000001AEEAA034D0</title>\n",
       "<path fill=\"none\" stroke=\"black\" d=\"M655,-427.6C641.97,-418.52 627.27,-408.27 613.62,-398.75\"/>\n",
       "<polygon fill=\"black\" stroke=\"black\" points=\"615.82,-396.02 605.61,-393.17 611.81,-401.76 615.82,-396.02\"/>\n",
       "</g>\n",
       "<!-- method&#45;wrapper &#39;__hash__&#39; of Node object at 0x000001AEEAA18AD0 -->\n",
       "<g id=\"node3\" class=\"node\">\n",
       "<title>method&#45;wrapper &#39;__hash__&#39; of Node object at 0x000001AEEAA18AD0</title>\n",
       "<polygon fill=\"none\" stroke=\"black\" points=\"940.5,-392 827,-392 827,-336.75 940.5,-336.75 940.5,-392\"/>\n",
       "<text text-anchor=\"middle\" x=\"883.75\" y=\"-374.7\" font-family=\"Times New Roman,serif\" font-size=\"14.00\">bp&lt;=0.060</text>\n",
       "<text text-anchor=\"middle\" x=\"883.75\" y=\"-358.95\" font-family=\"Times New Roman,serif\" font-size=\"14.00\">SSR: 505500.762</text>\n",
       "<text text-anchor=\"middle\" x=\"883.75\" y=\"-343.2\" font-family=\"Times New Roman,serif\" font-size=\"14.00\">N. Samples: 105</text>\n",
       "</g>\n",
       "<!-- method&#45;wrapper &#39;__hash__&#39; of Node object at 0x000001AEEA9D7890&#45;&gt;method&#45;wrapper &#39;__hash__&#39; of Node object at 0x000001AEEAA18AD0 -->\n",
       "<g id=\"edge2\" class=\"edge\">\n",
       "<title>method&#45;wrapper &#39;__hash__&#39; of Node object at 0x000001AEEA9D7890&#45;&gt;method&#45;wrapper &#39;__hash__&#39; of Node object at 0x000001AEEAA18AD0</title>\n",
       "<path fill=\"none\" stroke=\"black\" d=\"M751.27,-427.6C771.83,-417.95 795.17,-406.98 816.48,-396.98\"/>\n",
       "<polygon fill=\"black\" stroke=\"black\" points=\"817.82,-400.21 825.38,-392.79 814.84,-393.88 817.82,-400.21\"/>\n",
       "</g>\n",
       "<!-- method&#45;wrapper &#39;__hash__&#39; of Node object at 0x000001AEEAA27BD0 -->\n",
       "<g id=\"node4\" class=\"node\">\n",
       "<title>method&#45;wrapper &#39;__hash__&#39; of Node object at 0x000001AEEAA27BD0</title>\n",
       "<polygon fill=\"none\" stroke=\"black\" points=\"336.5,-300.75 223,-300.75 223,-245.5 336.5,-245.5 336.5,-300.75\"/>\n",
       "<text text-anchor=\"middle\" x=\"279.75\" y=\"-283.45\" font-family=\"Times New Roman,serif\" font-size=\"14.00\">s5&lt;=&#45;0.009</text>\n",
       "<text text-anchor=\"middle\" x=\"279.75\" y=\"-267.7\" font-family=\"Times New Roman,serif\" font-size=\"14.00\">SSR: 369896.224</text>\n",
       "<text text-anchor=\"middle\" x=\"279.75\" y=\"-251.95\" font-family=\"Times New Roman,serif\" font-size=\"14.00\">N. Samples: 156</text>\n",
       "</g>\n",
       "<!-- method&#45;wrapper &#39;__hash__&#39; of Node object at 0x000001AEEAA034D0&#45;&gt;method&#45;wrapper &#39;__hash__&#39; of Node object at 0x000001AEEAA27BD0 -->\n",
       "<g id=\"edge3\" class=\"edge\">\n",
       "<title>method&#45;wrapper &#39;__hash__&#39; of Node object at 0x000001AEEAA034D0&#45;&gt;method&#45;wrapper &#39;__hash__&#39; of Node object at 0x000001AEEAA27BD0</title>\n",
       "<path fill=\"none\" stroke=\"black\" d=\"M508.56,-345.53C462.19,-331.06 396.71,-310.62 347.67,-295.32\"/>\n",
       "<polygon fill=\"black\" stroke=\"black\" points=\"348.87,-292.03 338.28,-292.39 346.79,-298.71 348.87,-292.03\"/>\n",
       "</g>\n",
       "<!-- method&#45;wrapper &#39;__hash__&#39; of Node object at 0x000001AEEAA27410 -->\n",
       "<g id=\"node5\" class=\"node\">\n",
       "<title>method&#45;wrapper &#39;__hash__&#39; of Node object at 0x000001AEEAA27410</title>\n",
       "<polygon fill=\"none\" stroke=\"black\" points=\"622.5,-300.75 509,-300.75 509,-245.5 622.5,-245.5 622.5,-300.75\"/>\n",
       "<text text-anchor=\"middle\" x=\"565.75\" y=\"-283.45\" font-family=\"Times New Roman,serif\" font-size=\"14.00\">bmi&lt;=0.081</text>\n",
       "<text text-anchor=\"middle\" x=\"565.75\" y=\"-267.7\" font-family=\"Times New Roman,serif\" font-size=\"14.00\">SSR: 211484.000</text>\n",
       "<text text-anchor=\"middle\" x=\"565.75\" y=\"-251.95\" font-family=\"Times New Roman,serif\" font-size=\"14.00\">N. Samples: 48</text>\n",
       "</g>\n",
       "<!-- method&#45;wrapper &#39;__hash__&#39; of Node object at 0x000001AEEAA034D0&#45;&gt;method&#45;wrapper &#39;__hash__&#39; of Node object at 0x000001AEEAA27410 -->\n",
       "<g id=\"edge4\" class=\"edge\">\n",
       "<title>method&#45;wrapper &#39;__hash__&#39; of Node object at 0x000001AEEAA034D0&#45;&gt;method&#45;wrapper &#39;__hash__&#39; of Node object at 0x000001AEEAA27410</title>\n",
       "<path fill=\"none\" stroke=\"black\" d=\"M565.75,-336.6C565.75,-329.08 565.75,-320.75 565.75,-312.68\"/>\n",
       "<polygon fill=\"black\" stroke=\"black\" points=\"569.25,-312.71 565.75,-302.71 562.25,-312.71 569.25,-312.71\"/>\n",
       "</g>\n",
       "<!-- method&#45;wrapper &#39;__hash__&#39; of Node object at 0x000001AEEAA16F50 -->\n",
       "<g id=\"node6\" class=\"node\">\n",
       "<title>method&#45;wrapper &#39;__hash__&#39; of Node object at 0x000001AEEAA16F50</title>\n",
       "<polygon fill=\"none\" stroke=\"black\" points=\"940.5,-300.75 827,-300.75 827,-245.5 940.5,-245.5 940.5,-300.75\"/>\n",
       "<text text-anchor=\"middle\" x=\"883.75\" y=\"-283.45\" font-family=\"Times New Roman,serif\" font-size=\"14.00\">s6&lt;=0.028</text>\n",
       "<text text-anchor=\"middle\" x=\"883.75\" y=\"-267.7\" font-family=\"Times New Roman,serif\" font-size=\"14.00\">SSR: 366725.688</text>\n",
       "<text text-anchor=\"middle\" x=\"883.75\" y=\"-251.95\" font-family=\"Times New Roman,serif\" font-size=\"14.00\">N. Samples: 80</text>\n",
       "</g>\n",
       "<!-- method&#45;wrapper &#39;__hash__&#39; of Node object at 0x000001AEEAA18AD0&#45;&gt;method&#45;wrapper &#39;__hash__&#39; of Node object at 0x000001AEEAA16F50 -->\n",
       "<g id=\"edge5\" class=\"edge\">\n",
       "<title>method&#45;wrapper &#39;__hash__&#39; of Node object at 0x000001AEEAA18AD0&#45;&gt;method&#45;wrapper &#39;__hash__&#39; of Node object at 0x000001AEEAA16F50</title>\n",
       "<path fill=\"none\" stroke=\"black\" d=\"M883.75,-336.6C883.75,-329.08 883.75,-320.75 883.75,-312.68\"/>\n",
       "<polygon fill=\"black\" stroke=\"black\" points=\"887.25,-312.71 883.75,-302.71 880.25,-312.71 887.25,-312.71\"/>\n",
       "</g>\n",
       "<!-- method&#45;wrapper &#39;__hash__&#39; of Node object at 0x000001AEEAA26290 -->\n",
       "<g id=\"node7\" class=\"node\">\n",
       "<title>method&#45;wrapper &#39;__hash__&#39; of Node object at 0x000001AEEAA26290</title>\n",
       "<polygon fill=\"none\" stroke=\"black\" points=\"1247.12,-300.75 1140.38,-300.75 1140.38,-245.5 1247.12,-245.5 1247.12,-300.75\"/>\n",
       "<text text-anchor=\"middle\" x=\"1193.75\" y=\"-283.45\" font-family=\"Times New Roman,serif\" font-size=\"14.00\">s2&lt;=0.100</text>\n",
       "<text text-anchor=\"middle\" x=\"1193.75\" y=\"-267.7\" font-family=\"Times New Roman,serif\" font-size=\"14.00\">SSR: 32096.000</text>\n",
       "<text text-anchor=\"middle\" x=\"1193.75\" y=\"-251.95\" font-family=\"Times New Roman,serif\" font-size=\"14.00\">N. Samples: 25</text>\n",
       "</g>\n",
       "<!-- method&#45;wrapper &#39;__hash__&#39; of Node object at 0x000001AEEAA18AD0&#45;&gt;method&#45;wrapper &#39;__hash__&#39; of Node object at 0x000001AEEAA26290 -->\n",
       "<g id=\"edge6\" class=\"edge\">\n",
       "<title>method&#45;wrapper &#39;__hash__&#39; of Node object at 0x000001AEEAA18AD0&#45;&gt;method&#45;wrapper &#39;__hash__&#39; of Node object at 0x000001AEEAA26290</title>\n",
       "<path fill=\"none\" stroke=\"black\" d=\"M940.97,-346.9C994.27,-331.55 1073.65,-308.7 1129.2,-292.71\"/>\n",
       "<polygon fill=\"black\" stroke=\"black\" points=\"1129.88,-296.16 1138.52,-290.03 1127.94,-289.43 1129.88,-296.16\"/>\n",
       "</g>\n",
       "<!-- method&#45;wrapper &#39;__hash__&#39; of Node object at 0x000001AEEAA18850 -->\n",
       "<g id=\"node8\" class=\"node\">\n",
       "<title>method&#45;wrapper &#39;__hash__&#39; of Node object at 0x000001AEEAA18850</title>\n",
       "<polygon fill=\"none\" stroke=\"black\" points=\"144.5,-193.75 31,-193.75 31,-138.5 144.5,-138.5 144.5,-193.75\"/>\n",
       "<text text-anchor=\"middle\" x=\"87.75\" y=\"-176.45\" font-family=\"Times New Roman,serif\" font-size=\"14.00\">s2&lt;=0.113</text>\n",
       "<text text-anchor=\"middle\" x=\"87.75\" y=\"-160.7\" font-family=\"Times New Roman,serif\" font-size=\"14.00\">SSR: 210325.791</text>\n",
       "<text text-anchor=\"middle\" x=\"87.75\" y=\"-144.95\" font-family=\"Times New Roman,serif\" font-size=\"14.00\">N. Samples: 115</text>\n",
       "</g>\n",
       "<!-- method&#45;wrapper &#39;__hash__&#39; of Node object at 0x000001AEEAA27BD0&#45;&gt;method&#45;wrapper &#39;__hash__&#39; of Node object at 0x000001AEEAA18850 -->\n",
       "<g id=\"edge7\" class=\"edge\">\n",
       "<title>method&#45;wrapper &#39;__hash__&#39; of Node object at 0x000001AEEAA27BD0&#45;&gt;method&#45;wrapper &#39;__hash__&#39; of Node object at 0x000001AEEAA18850</title>\n",
       "<path fill=\"none\" stroke=\"black\" d=\"M230.31,-245.08C204.89,-231.18 173.72,-214.14 147.02,-199.54\"/>\n",
       "<polygon fill=\"black\" stroke=\"black\" points=\"148.81,-196.53 138.36,-194.8 145.45,-202.67 148.81,-196.53\"/>\n",
       "</g>\n",
       "<!-- method&#45;wrapper &#39;__hash__&#39; of Node object at 0x000001AEEAA271D0 -->\n",
       "<g id=\"node9\" class=\"node\">\n",
       "<title>method&#45;wrapper &#39;__hash__&#39; of Node object at 0x000001AEEAA271D0</title>\n",
       "<polygon fill=\"none\" stroke=\"black\" points=\"336.5,-193.75 223,-193.75 223,-138.5 336.5,-138.5 336.5,-193.75\"/>\n",
       "<text text-anchor=\"middle\" x=\"279.75\" y=\"-176.45\" font-family=\"Times New Roman,serif\" font-size=\"14.00\">s1&lt;=&#45;0.029</text>\n",
       "<text text-anchor=\"middle\" x=\"279.75\" y=\"-160.7\" font-family=\"Times New Roman,serif\" font-size=\"14.00\">SSR: 119698.244</text>\n",
       "<text text-anchor=\"middle\" x=\"279.75\" y=\"-144.95\" font-family=\"Times New Roman,serif\" font-size=\"14.00\">N. Samples: 41</text>\n",
       "</g>\n",
       "<!-- method&#45;wrapper &#39;__hash__&#39; of Node object at 0x000001AEEAA27BD0&#45;&gt;method&#45;wrapper &#39;__hash__&#39; of Node object at 0x000001AEEAA271D0 -->\n",
       "<g id=\"edge8\" class=\"edge\">\n",
       "<title>method&#45;wrapper &#39;__hash__&#39; of Node object at 0x000001AEEAA27BD0&#45;&gt;method&#45;wrapper &#39;__hash__&#39; of Node object at 0x000001AEEAA271D0</title>\n",
       "<path fill=\"none\" stroke=\"black\" d=\"M279.75,-245.08C279.75,-232.96 279.75,-218.44 279.75,-205.24\"/>\n",
       "<polygon fill=\"black\" stroke=\"black\" points=\"283.25,-205.59 279.75,-195.59 276.25,-205.59 283.25,-205.59\"/>\n",
       "</g>\n",
       "<!-- method&#45;wrapper &#39;__hash__&#39; of Node object at 0x000001AEEAA34C90 -->\n",
       "<g id=\"node10\" class=\"node\">\n",
       "<title>method&#45;wrapper &#39;__hash__&#39; of Node object at 0x000001AEEAA34C90</title>\n",
       "<polygon fill=\"none\" stroke=\"black\" points=\"558.5,-193.75 445,-193.75 445,-138.5 558.5,-138.5 558.5,-193.75\"/>\n",
       "<text text-anchor=\"middle\" x=\"501.75\" y=\"-176.45\" font-family=\"Times New Roman,serif\" font-size=\"14.00\">age&lt;=&#45;0.080</text>\n",
       "<text text-anchor=\"middle\" x=\"501.75\" y=\"-160.7\" font-family=\"Times New Roman,serif\" font-size=\"14.00\">SSR: 157486.432</text>\n",
       "<text text-anchor=\"middle\" x=\"501.75\" y=\"-144.95\" font-family=\"Times New Roman,serif\" font-size=\"14.00\">N. Samples: 44</text>\n",
       "</g>\n",
       "<!-- method&#45;wrapper &#39;__hash__&#39; of Node object at 0x000001AEEAA27410&#45;&gt;method&#45;wrapper &#39;__hash__&#39; of Node object at 0x000001AEEAA34C90 -->\n",
       "<g id=\"edge9\" class=\"edge\">\n",
       "<title>method&#45;wrapper &#39;__hash__&#39; of Node object at 0x000001AEEAA27410&#45;&gt;method&#45;wrapper &#39;__hash__&#39; of Node object at 0x000001AEEAA34C90</title>\n",
       "<path fill=\"none\" stroke=\"black\" d=\"M549.27,-245.08C541.58,-232.47 532.31,-217.27 524.01,-203.65\"/>\n",
       "<polygon fill=\"black\" stroke=\"black\" points=\"527.16,-202.08 518.96,-195.37 521.18,-205.73 527.16,-202.08\"/>\n",
       "</g>\n",
       "<!-- method&#45;wrapper &#39;__hash__&#39; of Node object at 0x000001AEEAA34690 -->\n",
       "<g id=\"node11\" class=\"node\">\n",
       "<title>method&#45;wrapper &#39;__hash__&#39; of Node object at 0x000001AEEAA34690</title>\n",
       "<polygon fill=\"none\" stroke=\"black\" points=\"683.12,-209.5 576.38,-209.5 576.38,-122.75 683.12,-122.75 683.12,-209.5\"/>\n",
       "<text text-anchor=\"middle\" x=\"629.75\" y=\"-192.2\" font-family=\"Times New Roman,serif\" font-size=\"14.00\">age&lt;=0.004</text>\n",
       "<text text-anchor=\"middle\" x=\"629.75\" y=\"-176.45\" font-family=\"Times New Roman,serif\" font-size=\"14.00\">SSR: 10142.750</text>\n",
       "<text text-anchor=\"middle\" x=\"629.75\" y=\"-160.7\" font-family=\"Times New Roman,serif\" font-size=\"14.00\">Leaf: True</text>\n",
       "<text text-anchor=\"middle\" x=\"629.75\" y=\"-144.95\" font-family=\"Times New Roman,serif\" font-size=\"14.00\">N. Samples: 4</text>\n",
       "<text text-anchor=\"middle\" x=\"629.75\" y=\"-129.2\" font-family=\"Times New Roman,serif\" font-size=\"14.00\">Output: 269.750</text>\n",
       "</g>\n",
       "<!-- method&#45;wrapper &#39;__hash__&#39; of Node object at 0x000001AEEAA27410&#45;&gt;method&#45;wrapper &#39;__hash__&#39; of Node object at 0x000001AEEAA34690 -->\n",
       "<g id=\"edge10\" class=\"edge\">\n",
       "<title>method&#45;wrapper &#39;__hash__&#39; of Node object at 0x000001AEEAA27410&#45;&gt;method&#45;wrapper &#39;__hash__&#39; of Node object at 0x000001AEEAA34690</title>\n",
       "<path fill=\"none\" stroke=\"black\" d=\"M582.23,-245.08C587.02,-237.23 592.42,-228.37 597.81,-219.52\"/>\n",
       "<polygon fill=\"black\" stroke=\"black\" points=\"600.63,-221.62 602.85,-211.26 594.66,-217.97 600.63,-221.62\"/>\n",
       "</g>\n",
       "<!-- method&#45;wrapper &#39;__hash__&#39; of Node object at 0x000001AEEAA18410 -->\n",
       "<g id=\"node12\" class=\"node\">\n",
       "<title>method&#45;wrapper &#39;__hash__&#39; of Node object at 0x000001AEEAA18410</title>\n",
       "<polygon fill=\"none\" stroke=\"black\" points=\"876.5,-193.75 763,-193.75 763,-138.5 876.5,-138.5 876.5,-193.75\"/>\n",
       "<text text-anchor=\"middle\" x=\"819.75\" y=\"-176.45\" font-family=\"Times New Roman,serif\" font-size=\"14.00\">bmi&lt;=0.062</text>\n",
       "<text text-anchor=\"middle\" x=\"819.75\" y=\"-160.7\" font-family=\"Times New Roman,serif\" font-size=\"14.00\">SSR: 234836.679</text>\n",
       "<text text-anchor=\"middle\" x=\"819.75\" y=\"-144.95\" font-family=\"Times New Roman,serif\" font-size=\"14.00\">N. Samples: 53</text>\n",
       "</g>\n",
       "<!-- method&#45;wrapper &#39;__hash__&#39; of Node object at 0x000001AEEAA16F50&#45;&gt;method&#45;wrapper &#39;__hash__&#39; of Node object at 0x000001AEEAA18410 -->\n",
       "<g id=\"edge11\" class=\"edge\">\n",
       "<title>method&#45;wrapper &#39;__hash__&#39; of Node object at 0x000001AEEAA16F50&#45;&gt;method&#45;wrapper &#39;__hash__&#39; of Node object at 0x000001AEEAA18410</title>\n",
       "<path fill=\"none\" stroke=\"black\" d=\"M867.27,-245.08C859.58,-232.47 850.31,-217.27 842.01,-203.65\"/>\n",
       "<polygon fill=\"black\" stroke=\"black\" points=\"845.16,-202.08 836.96,-195.37 839.18,-205.73 845.16,-202.08\"/>\n",
       "</g>\n",
       "<!-- method&#45;wrapper &#39;__hash__&#39; of Node object at 0x000001AEEAA27690 -->\n",
       "<g id=\"node13\" class=\"node\">\n",
       "<title>method&#45;wrapper &#39;__hash__&#39; of Node object at 0x000001AEEAA27690</title>\n",
       "<polygon fill=\"none\" stroke=\"black\" points=\"1001.12,-193.75 894.38,-193.75 894.38,-138.5 1001.12,-138.5 1001.12,-193.75\"/>\n",
       "<text text-anchor=\"middle\" x=\"947.75\" y=\"-176.45\" font-family=\"Times New Roman,serif\" font-size=\"14.00\">age&lt;=&#45;0.056</text>\n",
       "<text text-anchor=\"middle\" x=\"947.75\" y=\"-160.7\" font-family=\"Times New Roman,serif\" font-size=\"14.00\">SSR: 68025.407</text>\n",
       "<text text-anchor=\"middle\" x=\"947.75\" y=\"-144.95\" font-family=\"Times New Roman,serif\" font-size=\"14.00\">N. Samples: 27</text>\n",
       "</g>\n",
       "<!-- method&#45;wrapper &#39;__hash__&#39; of Node object at 0x000001AEEAA16F50&#45;&gt;method&#45;wrapper &#39;__hash__&#39; of Node object at 0x000001AEEAA27690 -->\n",
       "<g id=\"edge12\" class=\"edge\">\n",
       "<title>method&#45;wrapper &#39;__hash__&#39; of Node object at 0x000001AEEAA16F50&#45;&gt;method&#45;wrapper &#39;__hash__&#39; of Node object at 0x000001AEEAA27690</title>\n",
       "<path fill=\"none\" stroke=\"black\" d=\"M900.23,-245.08C907.92,-232.47 917.19,-217.27 925.49,-203.65\"/>\n",
       "<polygon fill=\"black\" stroke=\"black\" points=\"928.32,-205.73 930.54,-195.37 922.34,-202.08 928.32,-205.73\"/>\n",
       "</g>\n",
       "<!-- method&#45;wrapper &#39;__hash__&#39; of Node object at 0x000001AEEAA358D0 -->\n",
       "<g id=\"node14\" class=\"node\">\n",
       "<title>method&#45;wrapper &#39;__hash__&#39; of Node object at 0x000001AEEAA358D0</title>\n",
       "<polygon fill=\"none\" stroke=\"black\" points=\"1247.12,-193.75 1140.38,-193.75 1140.38,-138.5 1247.12,-138.5 1247.12,-193.75\"/>\n",
       "<text text-anchor=\"middle\" x=\"1193.75\" y=\"-176.45\" font-family=\"Times New Roman,serif\" font-size=\"14.00\">s6&lt;=&#45;0.016</text>\n",
       "<text text-anchor=\"middle\" x=\"1193.75\" y=\"-160.7\" font-family=\"Times New Roman,serif\" font-size=\"14.00\">SSR: 19004.609</text>\n",
       "<text text-anchor=\"middle\" x=\"1193.75\" y=\"-144.95\" font-family=\"Times New Roman,serif\" font-size=\"14.00\">N. Samples: 23</text>\n",
       "</g>\n",
       "<!-- method&#45;wrapper &#39;__hash__&#39; of Node object at 0x000001AEEAA26290&#45;&gt;method&#45;wrapper &#39;__hash__&#39; of Node object at 0x000001AEEAA358D0 -->\n",
       "<g id=\"edge13\" class=\"edge\">\n",
       "<title>method&#45;wrapper &#39;__hash__&#39; of Node object at 0x000001AEEAA26290&#45;&gt;method&#45;wrapper &#39;__hash__&#39; of Node object at 0x000001AEEAA358D0</title>\n",
       "<path fill=\"none\" stroke=\"black\" d=\"M1193.75,-245.08C1193.75,-232.96 1193.75,-218.44 1193.75,-205.24\"/>\n",
       "<polygon fill=\"black\" stroke=\"black\" points=\"1197.25,-205.59 1193.75,-195.59 1190.25,-205.59 1197.25,-205.59\"/>\n",
       "</g>\n",
       "<!-- method&#45;wrapper &#39;__hash__&#39; of Node object at 0x000001AEEAA02AD0 -->\n",
       "<g id=\"node15\" class=\"node\">\n",
       "<title>method&#45;wrapper &#39;__hash__&#39; of Node object at 0x000001AEEAA02AD0</title>\n",
       "<polygon fill=\"none\" stroke=\"black\" points=\"1370.75,-209.5 1264.75,-209.5 1264.75,-122.75 1370.75,-122.75 1370.75,-209.5\"/>\n",
       "<text text-anchor=\"middle\" x=\"1317.75\" y=\"-192.2\" font-family=\"Times New Roman,serif\" font-size=\"14.00\">age&lt;=&#45;0.049</text>\n",
       "<text text-anchor=\"middle\" x=\"1317.75\" y=\"-176.45\" font-family=\"Times New Roman,serif\" font-size=\"14.00\">SSR: 1058.000</text>\n",
       "<text text-anchor=\"middle\" x=\"1317.75\" y=\"-160.7\" font-family=\"Times New Roman,serif\" font-size=\"14.00\">Leaf: True</text>\n",
       "<text text-anchor=\"middle\" x=\"1317.75\" y=\"-144.95\" font-family=\"Times New Roman,serif\" font-size=\"14.00\">N. Samples: 2</text>\n",
       "<text text-anchor=\"middle\" x=\"1317.75\" y=\"-129.2\" font-family=\"Times New Roman,serif\" font-size=\"14.00\">Output: 194.000</text>\n",
       "</g>\n",
       "<!-- method&#45;wrapper &#39;__hash__&#39; of Node object at 0x000001AEEAA26290&#45;&gt;method&#45;wrapper &#39;__hash__&#39; of Node object at 0x000001AEEAA02AD0 -->\n",
       "<g id=\"edge14\" class=\"edge\">\n",
       "<title>method&#45;wrapper &#39;__hash__&#39; of Node object at 0x000001AEEAA26290&#45;&gt;method&#45;wrapper &#39;__hash__&#39; of Node object at 0x000001AEEAA02AD0</title>\n",
       "<path fill=\"none\" stroke=\"black\" d=\"M1225.68,-245.08C1235.75,-236.56 1247.21,-226.86 1258.54,-217.26\"/>\n",
       "<polygon fill=\"black\" stroke=\"black\" points=\"1260.63,-220.08 1266,-210.94 1256.11,-214.73 1260.63,-220.08\"/>\n",
       "</g>\n",
       "<!-- method&#45;wrapper &#39;__hash__&#39; of Node object at 0x000001AEEAA035D0 -->\n",
       "<g id=\"node16\" class=\"node\">\n",
       "<title>method&#45;wrapper &#39;__hash__&#39; of Node object at 0x000001AEEAA035D0</title>\n",
       "<polygon fill=\"none\" stroke=\"black\" points=\"113.5,-86.75 0,-86.75 0,0 113.5,0 113.5,-86.75\"/>\n",
       "<text text-anchor=\"middle\" x=\"56.75\" y=\"-69.45\" font-family=\"Times New Roman,serif\" font-size=\"14.00\">s3&lt;=0.021</text>\n",
       "<text text-anchor=\"middle\" x=\"56.75\" y=\"-53.7\" font-family=\"Times New Roman,serif\" font-size=\"14.00\">SSR: 184239.518</text>\n",
       "<text text-anchor=\"middle\" x=\"56.75\" y=\"-37.95\" font-family=\"Times New Roman,serif\" font-size=\"14.00\">Leaf: True</text>\n",
       "<text text-anchor=\"middle\" x=\"56.75\" y=\"-22.2\" font-family=\"Times New Roman,serif\" font-size=\"14.00\">N. Samples: 114</text>\n",
       "<text text-anchor=\"middle\" x=\"56.75\" y=\"-6.45\" font-family=\"Times New Roman,serif\" font-size=\"14.00\">Output: 90.781</text>\n",
       "</g>\n",
       "<!-- method&#45;wrapper &#39;__hash__&#39; of Node object at 0x000001AEEAA18850&#45;&gt;method&#45;wrapper &#39;__hash__&#39; of Node object at 0x000001AEEAA035D0 -->\n",
       "<g id=\"edge15\" class=\"edge\">\n",
       "<title>method&#45;wrapper &#39;__hash__&#39; of Node object at 0x000001AEEAA18850&#45;&gt;method&#45;wrapper &#39;__hash__&#39; of Node object at 0x000001AEEAA035D0</title>\n",
       "<path fill=\"none\" stroke=\"black\" d=\"M80.79,-138.03C77.75,-126.18 74.07,-111.84 70.51,-97.98\"/>\n",
       "<polygon fill=\"black\" stroke=\"black\" points=\"73.95,-97.31 68.08,-88.49 67.17,-99.05 73.95,-97.31\"/>\n",
       "</g>\n",
       "<!-- method&#45;wrapper &#39;__hash__&#39; of Node object at 0x000001AEEAA37710 -->\n",
       "<g id=\"node17\" class=\"node\">\n",
       "<title>method&#45;wrapper &#39;__hash__&#39; of Node object at 0x000001AEEAA37710</title>\n",
       "<polygon fill=\"none\" stroke=\"black\" points=\"238.12,-86.75 131.38,-86.75 131.38,0 238.12,0 238.12,-86.75\"/>\n",
       "<text text-anchor=\"middle\" x=\"184.75\" y=\"-69.45\" font-family=\"Times New Roman,serif\" font-size=\"14.00\">s6&lt;=0.022</text>\n",
       "<text text-anchor=\"middle\" x=\"184.75\" y=\"-53.7\" font-family=\"Times New Roman,serif\" font-size=\"14.00\">SSR: 25890.900</text>\n",
       "<text text-anchor=\"middle\" x=\"184.75\" y=\"-37.95\" font-family=\"Times New Roman,serif\" font-size=\"14.00\">Leaf: True</text>\n",
       "<text text-anchor=\"middle\" x=\"184.75\" y=\"-22.2\" font-family=\"Times New Roman,serif\" font-size=\"14.00\">N. Samples: 10</text>\n",
       "<text text-anchor=\"middle\" x=\"184.75\" y=\"-6.45\" font-family=\"Times New Roman,serif\" font-size=\"14.00\">Output: 172.100</text>\n",
       "</g>\n",
       "<!-- method&#45;wrapper &#39;__hash__&#39; of Node object at 0x000001AEEAA271D0&#45;&gt;method&#45;wrapper &#39;__hash__&#39; of Node object at 0x000001AEEAA37710 -->\n",
       "<g id=\"edge16\" class=\"edge\">\n",
       "<title>method&#45;wrapper &#39;__hash__&#39; of Node object at 0x000001AEEAA271D0&#45;&gt;method&#45;wrapper &#39;__hash__&#39; of Node object at 0x000001AEEAA37710</title>\n",
       "<path fill=\"none\" stroke=\"black\" d=\"M258.43,-138.03C248.64,-125.59 236.7,-110.41 225.31,-95.93\"/>\n",
       "<polygon fill=\"black\" stroke=\"black\" points=\"228.18,-93.91 219.24,-88.22 222.67,-98.24 228.18,-93.91\"/>\n",
       "</g>\n",
       "<!-- method&#45;wrapper &#39;__hash__&#39; of Node object at 0x000001AEEAA17410 -->\n",
       "<g id=\"node18\" class=\"node\">\n",
       "<title>method&#45;wrapper &#39;__hash__&#39; of Node object at 0x000001AEEAA17410</title>\n",
       "<polygon fill=\"none\" stroke=\"black\" points=\"363.12,-86.75 256.38,-86.75 256.38,0 363.12,0 363.12,-86.75\"/>\n",
       "<text text-anchor=\"middle\" x=\"309.75\" y=\"-69.45\" font-family=\"Times New Roman,serif\" font-size=\"14.00\">age&lt;=0.067</text>\n",
       "<text text-anchor=\"middle\" x=\"309.75\" y=\"-53.7\" font-family=\"Times New Roman,serif\" font-size=\"14.00\">SSR: 68679.677</text>\n",
       "<text text-anchor=\"middle\" x=\"309.75\" y=\"-37.95\" font-family=\"Times New Roman,serif\" font-size=\"14.00\">Leaf: True</text>\n",
       "<text text-anchor=\"middle\" x=\"309.75\" y=\"-22.2\" font-family=\"Times New Roman,serif\" font-size=\"14.00\">N. Samples: 31</text>\n",
       "<text text-anchor=\"middle\" x=\"309.75\" y=\"-6.45\" font-family=\"Times New Roman,serif\" font-size=\"14.00\">Output: 114.452</text>\n",
       "</g>\n",
       "<!-- method&#45;wrapper &#39;__hash__&#39; of Node object at 0x000001AEEAA271D0&#45;&gt;method&#45;wrapper &#39;__hash__&#39; of Node object at 0x000001AEEAA17410 -->\n",
       "<g id=\"edge17\" class=\"edge\">\n",
       "<title>method&#45;wrapper &#39;__hash__&#39; of Node object at 0x000001AEEAA271D0&#45;&gt;method&#45;wrapper &#39;__hash__&#39; of Node object at 0x000001AEEAA17410</title>\n",
       "<path fill=\"none\" stroke=\"black\" d=\"M286.48,-138.03C289.43,-126.18 292.99,-111.84 296.43,-97.98\"/>\n",
       "<polygon fill=\"black\" stroke=\"black\" points=\"299.77,-99.04 298.79,-88.5 292.98,-97.36 299.77,-99.04\"/>\n",
       "</g>\n",
       "<!-- method&#45;wrapper &#39;__hash__&#39; of Node object at 0x000001AEEAA36790 -->\n",
       "<g id=\"node19\" class=\"node\">\n",
       "<title>method&#45;wrapper &#39;__hash__&#39; of Node object at 0x000001AEEAA36790</title>\n",
       "<polygon fill=\"none\" stroke=\"black\" points=\"486.75,-86.75 380.75,-86.75 380.75,0 486.75,0 486.75,-86.75\"/>\n",
       "<text text-anchor=\"middle\" x=\"433.75\" y=\"-69.45\" font-family=\"Times New Roman,serif\" font-size=\"14.00\">age&lt;=&#45;0.089</text>\n",
       "<text text-anchor=\"middle\" x=\"433.75\" y=\"-53.7\" font-family=\"Times New Roman,serif\" font-size=\"14.00\">SSR: 1568.000</text>\n",
       "<text text-anchor=\"middle\" x=\"433.75\" y=\"-37.95\" font-family=\"Times New Roman,serif\" font-size=\"14.00\">Leaf: True</text>\n",
       "<text text-anchor=\"middle\" x=\"433.75\" y=\"-22.2\" font-family=\"Times New Roman,serif\" font-size=\"14.00\">N. Samples: 2</text>\n",
       "<text text-anchor=\"middle\" x=\"433.75\" y=\"-6.45\" font-family=\"Times New Roman,serif\" font-size=\"14.00\">Output: 274.000</text>\n",
       "</g>\n",
       "<!-- method&#45;wrapper &#39;__hash__&#39; of Node object at 0x000001AEEAA34C90&#45;&gt;method&#45;wrapper &#39;__hash__&#39; of Node object at 0x000001AEEAA36790 -->\n",
       "<g id=\"edge18\" class=\"edge\">\n",
       "<title>method&#45;wrapper &#39;__hash__&#39; of Node object at 0x000001AEEAA34C90&#45;&gt;method&#45;wrapper &#39;__hash__&#39; of Node object at 0x000001AEEAA36790</title>\n",
       "<path fill=\"none\" stroke=\"black\" d=\"M486.49,-138.03C479.62,-125.82 471.26,-110.98 463.24,-96.75\"/>\n",
       "<polygon fill=\"black\" stroke=\"black\" points=\"466.47,-95.34 458.51,-88.35 460.37,-98.78 466.47,-95.34\"/>\n",
       "</g>\n",
       "<!-- method&#45;wrapper &#39;__hash__&#39; of Node object at 0x000001AEEAA37490 -->\n",
       "<g id=\"node20\" class=\"node\">\n",
       "<title>method&#45;wrapper &#39;__hash__&#39; of Node object at 0x000001AEEAA37490</title>\n",
       "<polygon fill=\"none\" stroke=\"black\" points=\"618.5,-86.75 505,-86.75 505,0 618.5,0 618.5,-86.75\"/>\n",
       "<text text-anchor=\"middle\" x=\"561.75\" y=\"-69.45\" font-family=\"Times New Roman,serif\" font-size=\"14.00\">bp&lt;=0.024</text>\n",
       "<text text-anchor=\"middle\" x=\"561.75\" y=\"-53.7\" font-family=\"Times New Roman,serif\" font-size=\"14.00\">SSR: 128872.976</text>\n",
       "<text text-anchor=\"middle\" x=\"561.75\" y=\"-37.95\" font-family=\"Times New Roman,serif\" font-size=\"14.00\">Leaf: True</text>\n",
       "<text text-anchor=\"middle\" x=\"561.75\" y=\"-22.2\" font-family=\"Times New Roman,serif\" font-size=\"14.00\">N. Samples: 42</text>\n",
       "<text text-anchor=\"middle\" x=\"561.75\" y=\"-6.45\" font-family=\"Times New Roman,serif\" font-size=\"14.00\">Output: 154.976</text>\n",
       "</g>\n",
       "<!-- method&#45;wrapper &#39;__hash__&#39; of Node object at 0x000001AEEAA34C90&#45;&gt;method&#45;wrapper &#39;__hash__&#39; of Node object at 0x000001AEEAA37490 -->\n",
       "<g id=\"edge19\" class=\"edge\">\n",
       "<title>method&#45;wrapper &#39;__hash__&#39; of Node object at 0x000001AEEAA34C90&#45;&gt;method&#45;wrapper &#39;__hash__&#39; of Node object at 0x000001AEEAA37490</title>\n",
       "<path fill=\"none\" stroke=\"black\" d=\"M515.22,-138.03C521.22,-125.94 528.51,-111.27 535.52,-97.16\"/>\n",
       "<polygon fill=\"black\" stroke=\"black\" points=\"538.57,-98.89 539.88,-88.38 532.3,-95.78 538.57,-98.89\"/>\n",
       "</g>\n",
       "<!-- method&#45;wrapper &#39;__hash__&#39; of Node object at 0x000001AEEAA01950 -->\n",
       "<g id=\"node21\" class=\"node\">\n",
       "<title>method&#45;wrapper &#39;__hash__&#39; of Node object at 0x000001AEEAA01950</title>\n",
       "<polygon fill=\"none\" stroke=\"black\" points=\"750.5,-86.75 637,-86.75 637,0 750.5,0 750.5,-86.75\"/>\n",
       "<text text-anchor=\"middle\" x=\"693.75\" y=\"-69.45\" font-family=\"Times New Roman,serif\" font-size=\"14.00\">bp&lt;=&#45;0.040</text>\n",
       "<text text-anchor=\"middle\" x=\"693.75\" y=\"-53.7\" font-family=\"Times New Roman,serif\" font-size=\"14.00\">SSR: 196409.333</text>\n",
       "<text text-anchor=\"middle\" x=\"693.75\" y=\"-37.95\" font-family=\"Times New Roman,serif\" font-size=\"14.00\">Leaf: True</text>\n",
       "<text text-anchor=\"middle\" x=\"693.75\" y=\"-22.2\" font-family=\"Times New Roman,serif\" font-size=\"14.00\">N. Samples: 51</text>\n",
       "<text text-anchor=\"middle\" x=\"693.75\" y=\"-6.45\" font-family=\"Times New Roman,serif\" font-size=\"14.00\">Output: 168.333</text>\n",
       "</g>\n",
       "<!-- method&#45;wrapper &#39;__hash__&#39; of Node object at 0x000001AEEAA18410&#45;&gt;method&#45;wrapper &#39;__hash__&#39; of Node object at 0x000001AEEAA01950 -->\n",
       "<g id=\"edge20\" class=\"edge\">\n",
       "<title>method&#45;wrapper &#39;__hash__&#39; of Node object at 0x000001AEEAA18410&#45;&gt;method&#45;wrapper &#39;__hash__&#39; of Node object at 0x000001AEEAA01950</title>\n",
       "<path fill=\"none\" stroke=\"black\" d=\"M791.47,-138.03C778.13,-125.24 761.76,-109.55 746.26,-94.7\"/>\n",
       "<polygon fill=\"black\" stroke=\"black\" points=\"748.99,-92.47 739.35,-88.07 744.15,-97.52 748.99,-92.47\"/>\n",
       "</g>\n",
       "<!-- method&#45;wrapper &#39;__hash__&#39; of Node object at 0x000001AEEAA14490 -->\n",
       "<g id=\"node22\" class=\"node\">\n",
       "<title>method&#45;wrapper &#39;__hash__&#39; of Node object at 0x000001AEEAA14490</title>\n",
       "<polygon fill=\"none\" stroke=\"black\" points=\"874.75,-86.75 768.75,-86.75 768.75,0 874.75,0 874.75,-86.75\"/>\n",
       "<text text-anchor=\"middle\" x=\"821.75\" y=\"-69.45\" font-family=\"Times New Roman,serif\" font-size=\"14.00\">age&lt;=&#45;0.002</text>\n",
       "<text text-anchor=\"middle\" x=\"821.75\" y=\"-53.7\" font-family=\"Times New Roman,serif\" font-size=\"14.00\">SSR: 3784.500</text>\n",
       "<text text-anchor=\"middle\" x=\"821.75\" y=\"-37.95\" font-family=\"Times New Roman,serif\" font-size=\"14.00\">Leaf: True</text>\n",
       "<text text-anchor=\"middle\" x=\"821.75\" y=\"-22.2\" font-family=\"Times New Roman,serif\" font-size=\"14.00\">N. Samples: 2</text>\n",
       "<text text-anchor=\"middle\" x=\"821.75\" y=\"-6.45\" font-family=\"Times New Roman,serif\" font-size=\"14.00\">Output: 302.500</text>\n",
       "</g>\n",
       "<!-- method&#45;wrapper &#39;__hash__&#39; of Node object at 0x000001AEEAA18410&#45;&gt;method&#45;wrapper &#39;__hash__&#39; of Node object at 0x000001AEEAA14490 -->\n",
       "<g id=\"edge21\" class=\"edge\">\n",
       "<title>method&#45;wrapper &#39;__hash__&#39; of Node object at 0x000001AEEAA18410&#45;&gt;method&#45;wrapper &#39;__hash__&#39; of Node object at 0x000001AEEAA14490</title>\n",
       "<path fill=\"none\" stroke=\"black\" d=\"M820.2,-138.03C820.39,-126.29 820.63,-112.12 820.86,-98.39\"/>\n",
       "<polygon fill=\"black\" stroke=\"black\" points=\"824.35,-98.6 821.02,-88.54 817.35,-98.48 824.35,-98.6\"/>\n",
       "</g>\n",
       "<!-- method&#45;wrapper &#39;__hash__&#39; of Node object at 0x000001AEEAA18CD0 -->\n",
       "<g id=\"node23\" class=\"node\">\n",
       "<title>method&#45;wrapper &#39;__hash__&#39; of Node object at 0x000001AEEAA18CD0</title>\n",
       "<polygon fill=\"none\" stroke=\"black\" points=\"998.75,-86.75 892.75,-86.75 892.75,0 998.75,0 998.75,-86.75\"/>\n",
       "<text text-anchor=\"middle\" x=\"945.75\" y=\"-69.45\" font-family=\"Times New Roman,serif\" font-size=\"14.00\">sex&lt;=0.003</text>\n",
       "<text text-anchor=\"middle\" x=\"945.75\" y=\"-53.7\" font-family=\"Times New Roman,serif\" font-size=\"14.00\">SSR: 1300.500</text>\n",
       "<text text-anchor=\"middle\" x=\"945.75\" y=\"-37.95\" font-family=\"Times New Roman,serif\" font-size=\"14.00\">Leaf: True</text>\n",
       "<text text-anchor=\"middle\" x=\"945.75\" y=\"-22.2\" font-family=\"Times New Roman,serif\" font-size=\"14.00\">N. Samples: 2</text>\n",
       "<text text-anchor=\"middle\" x=\"945.75\" y=\"-6.45\" font-family=\"Times New Roman,serif\" font-size=\"14.00\">Output: 153.500</text>\n",
       "</g>\n",
       "<!-- method&#45;wrapper &#39;__hash__&#39; of Node object at 0x000001AEEAA27690&#45;&gt;method&#45;wrapper &#39;__hash__&#39; of Node object at 0x000001AEEAA18CD0 -->\n",
       "<g id=\"edge22\" class=\"edge\">\n",
       "<title>method&#45;wrapper &#39;__hash__&#39; of Node object at 0x000001AEEAA27690&#45;&gt;method&#45;wrapper &#39;__hash__&#39; of Node object at 0x000001AEEAA18CD0</title>\n",
       "<path fill=\"none\" stroke=\"black\" d=\"M947.3,-138.03C947.11,-126.29 946.87,-112.12 946.64,-98.39\"/>\n",
       "<polygon fill=\"black\" stroke=\"black\" points=\"950.15,-98.48 946.48,-88.54 943.15,-98.6 950.15,-98.48\"/>\n",
       "</g>\n",
       "<!-- method&#45;wrapper &#39;__hash__&#39; of Node object at 0x000001AEEAA03250 -->\n",
       "<g id=\"node24\" class=\"node\">\n",
       "<title>method&#45;wrapper &#39;__hash__&#39; of Node object at 0x000001AEEAA03250</title>\n",
       "<polygon fill=\"none\" stroke=\"black\" points=\"1123.12,-86.75 1016.38,-86.75 1016.38,0 1123.12,0 1123.12,-86.75\"/>\n",
       "<text text-anchor=\"middle\" x=\"1069.75\" y=\"-69.45\" font-family=\"Times New Roman,serif\" font-size=\"14.00\">age&lt;=0.045</text>\n",
       "<text text-anchor=\"middle\" x=\"1069.75\" y=\"-53.7\" font-family=\"Times New Roman,serif\" font-size=\"14.00\">SSR: 53022.240</text>\n",
       "<text text-anchor=\"middle\" x=\"1069.75\" y=\"-37.95\" font-family=\"Times New Roman,serif\" font-size=\"14.00\">Leaf: True</text>\n",
       "<text text-anchor=\"middle\" x=\"1069.75\" y=\"-22.2\" font-family=\"Times New Roman,serif\" font-size=\"14.00\">N. Samples: 25</text>\n",
       "<text text-anchor=\"middle\" x=\"1069.75\" y=\"-6.45\" font-family=\"Times New Roman,serif\" font-size=\"14.00\">Output: 239.520</text>\n",
       "</g>\n",
       "<!-- method&#45;wrapper &#39;__hash__&#39; of Node object at 0x000001AEEAA27690&#45;&gt;method&#45;wrapper &#39;__hash__&#39; of Node object at 0x000001AEEAA03250 -->\n",
       "<g id=\"edge23\" class=\"edge\">\n",
       "<title>method&#45;wrapper &#39;__hash__&#39; of Node object at 0x000001AEEAA27690&#45;&gt;method&#45;wrapper &#39;__hash__&#39; of Node object at 0x000001AEEAA03250</title>\n",
       "<path fill=\"none\" stroke=\"black\" d=\"M975.13,-138.03C987.93,-125.35 1003.61,-109.84 1018.49,-95.11\"/>\n",
       "<polygon fill=\"black\" stroke=\"black\" points=\"1020.94,-97.61 1025.58,-88.09 1016.01,-92.64 1020.94,-97.61\"/>\n",
       "</g>\n",
       "<!-- method&#45;wrapper &#39;__hash__&#39; of Node object at 0x000001AEEAA41ED0 -->\n",
       "<g id=\"node25\" class=\"node\">\n",
       "<title>method&#45;wrapper &#39;__hash__&#39; of Node object at 0x000001AEEAA41ED0</title>\n",
       "<polygon fill=\"none\" stroke=\"black\" points=\"1246.75,-86.75 1140.75,-86.75 1140.75,0 1246.75,0 1246.75,-86.75\"/>\n",
       "<text text-anchor=\"middle\" x=\"1193.75\" y=\"-69.45\" font-family=\"Times New Roman,serif\" font-size=\"14.00\">age&lt;=0.004</text>\n",
       "<text text-anchor=\"middle\" x=\"1193.75\" y=\"-53.7\" font-family=\"Times New Roman,serif\" font-size=\"14.00\">SSR: 3953.000</text>\n",
       "<text text-anchor=\"middle\" x=\"1193.75\" y=\"-37.95\" font-family=\"Times New Roman,serif\" font-size=\"14.00\">Leaf: True</text>\n",
       "<text text-anchor=\"middle\" x=\"1193.75\" y=\"-22.2\" font-family=\"Times New Roman,serif\" font-size=\"14.00\">N. Samples: 4</text>\n",
       "<text text-anchor=\"middle\" x=\"1193.75\" y=\"-6.45\" font-family=\"Times New Roman,serif\" font-size=\"14.00\">Output: 240.500</text>\n",
       "</g>\n",
       "<!-- method&#45;wrapper &#39;__hash__&#39; of Node object at 0x000001AEEAA358D0&#45;&gt;method&#45;wrapper &#39;__hash__&#39; of Node object at 0x000001AEEAA41ED0 -->\n",
       "<g id=\"edge24\" class=\"edge\">\n",
       "<title>method&#45;wrapper &#39;__hash__&#39; of Node object at 0x000001AEEAA358D0&#45;&gt;method&#45;wrapper &#39;__hash__&#39; of Node object at 0x000001AEEAA41ED0</title>\n",
       "<path fill=\"none\" stroke=\"black\" d=\"M1193.75,-138.03C1193.75,-126.29 1193.75,-112.12 1193.75,-98.39\"/>\n",
       "<polygon fill=\"black\" stroke=\"black\" points=\"1197.25,-98.54 1193.75,-88.54 1190.25,-98.54 1197.25,-98.54\"/>\n",
       "</g>\n",
       "<!-- method&#45;wrapper &#39;__hash__&#39; of Node object at 0x000001AEEAA40910 -->\n",
       "<g id=\"node26\" class=\"node\">\n",
       "<title>method&#45;wrapper &#39;__hash__&#39; of Node object at 0x000001AEEAA40910</title>\n",
       "<polygon fill=\"none\" stroke=\"black\" points=\"1370.75,-86.75 1264.75,-86.75 1264.75,0 1370.75,0 1370.75,-86.75\"/>\n",
       "<text text-anchor=\"middle\" x=\"1317.75\" y=\"-69.45\" font-family=\"Times New Roman,serif\" font-size=\"14.00\">bmi&lt;=0.111</text>\n",
       "<text text-anchor=\"middle\" x=\"1317.75\" y=\"-53.7\" font-family=\"Times New Roman,serif\" font-size=\"14.00\">SSR: 9331.789</text>\n",
       "<text text-anchor=\"middle\" x=\"1317.75\" y=\"-37.95\" font-family=\"Times New Roman,serif\" font-size=\"14.00\">Leaf: True</text>\n",
       "<text text-anchor=\"middle\" x=\"1317.75\" y=\"-22.2\" font-family=\"Times New Roman,serif\" font-size=\"14.00\">N. Samples: 19</text>\n",
       "<text text-anchor=\"middle\" x=\"1317.75\" y=\"-6.45\" font-family=\"Times New Roman,serif\" font-size=\"14.00\">Output: 282.105</text>\n",
       "</g>\n",
       "<!-- method&#45;wrapper &#39;__hash__&#39; of Node object at 0x000001AEEAA358D0&#45;&gt;method&#45;wrapper &#39;__hash__&#39; of Node object at 0x000001AEEAA40910 -->\n",
       "<g id=\"edge25\" class=\"edge\">\n",
       "<title>method&#45;wrapper &#39;__hash__&#39; of Node object at 0x000001AEEAA358D0&#45;&gt;method&#45;wrapper &#39;__hash__&#39; of Node object at 0x000001AEEAA40910</title>\n",
       "<path fill=\"none\" stroke=\"black\" d=\"M1221.58,-138.03C1234.71,-125.24 1250.82,-109.55 1266.07,-94.7\"/>\n",
       "<polygon fill=\"black\" stroke=\"black\" points=\"1268.14,-97.57 1272.87,-88.08 1263.26,-92.55 1268.14,-97.57\"/>\n",
       "</g>\n",
       "</g>\n",
       "</svg>\n"
      ],
      "text/plain": [
       "<graphviz.graphs.Digraph at 0x1aee8e857d0>"
      ]
     },
     "execution_count": 5,
     "metadata": {},
     "output_type": "execute_result"
    }
   ],
   "source": [
    "plot_tree(dtr)"
   ]
  },
  {
   "cell_type": "markdown",
   "metadata": {},
   "source": [
    "#### Random Forest Regressor"
   ]
  },
  {
   "cell_type": "code",
   "execution_count": 6,
   "metadata": {},
   "outputs": [
    {
     "name": "stdout",
     "output_type": "stream",
     "text": [
      "Train Loss: 8889.730582524271\tTest Loss: 9582.218045112782\n",
      "Train Loss: 3677.895300618629\tTest Loss: 3677.89090807494\n",
      "Train Loss: 3468.3139892057757\tTest Loss: 3295.6151943570385\n",
      "Train Loss: 3464.479212949313\tTest Loss: 3291.0131511277013\n",
      "Train Loss: 3529.51256273258\tTest Loss: 3343.131945322952\n",
      "Train Loss: 3483.868598453883\tTest Loss: 3319.7515838969816\n",
      "Mean Squared Error: 3319.7515838969816\n"
     ]
    }
   ],
   "source": [
    "from rlearn.tree import RandomForestRegressor\n",
    "\n",
    "forest = RandomForestRegressor(max_depth=5, n_estimators=100, bootstrap_size=int(np.sqrt(len(X_train))))\n",
    "forest.fit(X_train, y_train, X_test, y_test, verbose=20)\n",
    "\n",
    "print('Mean Squared Error:',mean_squared_error(y_test, forest.predict(X_test)))"
   ]
  },
  {
   "cell_type": "markdown",
   "metadata": {},
   "source": [
    "#### Gradient Boost Regressor"
   ]
  },
  {
   "cell_type": "code",
   "execution_count": 11,
   "metadata": {},
   "outputs": [
    {
     "name": "stdout",
     "output_type": "stream",
     "text": [
      "Estimators: 0\tTrain Loss: 5669.00298388741\tValidation Loss: 5331.155125511168\n",
      "Estimators: 10\tTrain Loss: 3034.066089784755\tValidation Loss: 3396.5728142769017\n",
      "Estimators: 20\tTrain Loss: 2310.982276701981\tValidation Loss: 3003.3174716475755\n",
      "Estimators: 29\tTrain Loss: 1979.0520699662327\tValidation Loss: 3018.055546515523\n",
      "Mean Squared Error: 3018.055546515523\n"
     ]
    }
   ],
   "source": [
    "from rlearn.tree import GradientBoostRegressor\n",
    "\n",
    "gbr = GradientBoostRegressor(max_depth=3, frac_of_samples=0.7, min_samples_split=20, max_features=4, n_estimators=30)\n",
    "gbr.fit(X_train, y_train, X_test, y_test, verbose=10)\n",
    "\n",
    "print('Mean Squared Error:',mean_squared_error(y_test, gbr.predict(X_test)))"
   ]
  },
  {
   "cell_type": "markdown",
   "metadata": {},
   "source": [
    "### Classification with Trees"
   ]
  },
  {
   "cell_type": "markdown",
   "metadata": {},
   "source": [
    "Dataset used for classification with Trees."
   ]
  },
  {
   "cell_type": "code",
   "execution_count": 7,
   "metadata": {},
   "outputs": [],
   "source": [
    "from sklearn.datasets import load_wine\n",
    "from sklearn.model_selection import train_test_split\n",
    "\n",
    "X, y = load_wine(return_X_y=True, as_frame=True)\n",
    "X_train, X_test, y_train, y_test = train_test_split(X, y, test_size=0.3, shuffle=True)"
   ]
  },
  {
   "cell_type": "markdown",
   "metadata": {},
   "source": [
    "#### Decision Tree Classifier"
   ]
  },
  {
   "cell_type": "code",
   "execution_count": 8,
   "metadata": {},
   "outputs": [
    {
     "name": "stdout",
     "output_type": "stream",
     "text": [
      "              precision    recall  f1-score   support\n",
      "\n",
      "           0       0.74      1.00      0.85        17\n",
      "           1       1.00      0.68      0.81        22\n",
      "           2       0.94      1.00      0.97        15\n",
      "\n",
      "    accuracy                           0.87        54\n",
      "   macro avg       0.89      0.89      0.88        54\n",
      "weighted avg       0.90      0.87      0.87        54\n",
      "\n"
     ]
    }
   ],
   "source": [
    "from rlearn.tree import DecisionTreeClassifier\n",
    "dtc = DecisionTreeClassifier(max_depth=4, min_samples_split=20)\n",
    "dtc.fit(X_train, y_train)\n",
    "\n",
    "print(classification_report(y_test, dtc.predict(X_test)))"
   ]
  },
  {
   "cell_type": "code",
   "execution_count": 9,
   "metadata": {},
   "outputs": [
    {
     "data": {
      "image/svg+xml": [
       "<?xml version=\"1.0\" encoding=\"UTF-8\" standalone=\"no\"?>\n",
       "<!DOCTYPE svg PUBLIC \"-//W3C//DTD SVG 1.1//EN\"\n",
       " \"http://www.w3.org/Graphics/SVG/1.1/DTD/svg11.dtd\">\n",
       "<!-- Generated by graphviz version 10.0.1 (20240210.2158)\n",
       " -->\n",
       "<!-- Title: tree Pages: 1 -->\n",
       "<svg width=\"720pt\" height=\"453pt\"\n",
       " viewBox=\"0.00 0.00 720.00 453.19\" xmlns=\"http://www.w3.org/2000/svg\" xmlns:xlink=\"http://www.w3.org/1999/xlink\">\n",
       "<g id=\"graph0\" class=\"graph\" transform=\"scale(1.13297 1.13297) rotate(0) translate(4 396)\">\n",
       "<title>tree</title>\n",
       "<polygon fill=\"white\" stroke=\"none\" points=\"-4,4 -4,-396 631.5,-396 631.5,4 -4,4\"/>\n",
       "<!-- method&#45;wrapper &#39;__hash__&#39; of Node object at 0x000001AEEB561090 -->\n",
       "<g id=\"node1\" class=\"node\">\n",
       "<title>method&#45;wrapper &#39;__hash__&#39; of Node object at 0x000001AEEB561090</title>\n",
       "<polygon fill=\"none\" stroke=\"black\" points=\"322.12,-392 176.38,-392 176.38,-336.75 322.12,-336.75 322.12,-392\"/>\n",
       "<text text-anchor=\"middle\" x=\"249.25\" y=\"-374.7\" font-family=\"Times New Roman,serif\" font-size=\"14.00\">color_intensity&lt;=3.800</text>\n",
       "<text text-anchor=\"middle\" x=\"249.25\" y=\"-358.95\" font-family=\"Times New Roman,serif\" font-size=\"14.00\">Gini: 0.379</text>\n",
       "<text text-anchor=\"middle\" x=\"249.25\" y=\"-343.2\" font-family=\"Times New Roman,serif\" font-size=\"14.00\">N. Samples: 124</text>\n",
       "</g>\n",
       "<!-- method&#45;wrapper &#39;__hash__&#39; of Node object at 0x000001AEEB8E4090 -->\n",
       "<g id=\"node2\" class=\"node\">\n",
       "<title>method&#45;wrapper &#39;__hash__&#39; of Node object at 0x000001AEEB8E4090</title>\n",
       "<polygon fill=\"none\" stroke=\"black\" points=\"238.75,-300.75 123.75,-300.75 123.75,-245.5 238.75,-245.5 238.75,-300.75\"/>\n",
       "<text text-anchor=\"middle\" x=\"181.25\" y=\"-283.45\" font-family=\"Times New Roman,serif\" font-size=\"14.00\">proline&lt;=750.000</text>\n",
       "<text text-anchor=\"middle\" x=\"181.25\" y=\"-267.7\" font-family=\"Times New Roman,serif\" font-size=\"14.00\">Gini: 0.083</text>\n",
       "<text text-anchor=\"middle\" x=\"181.25\" y=\"-251.95\" font-family=\"Times New Roman,serif\" font-size=\"14.00\">N. Samples: 46</text>\n",
       "</g>\n",
       "<!-- method&#45;wrapper &#39;__hash__&#39; of Node object at 0x000001AEEB561090&#45;&gt;method&#45;wrapper &#39;__hash__&#39; of Node object at 0x000001AEEB8E4090 -->\n",
       "<g id=\"edge1\" class=\"edge\">\n",
       "<title>method&#45;wrapper &#39;__hash__&#39; of Node object at 0x000001AEEB561090&#45;&gt;method&#45;wrapper &#39;__hash__&#39; of Node object at 0x000001AEEB8E4090</title>\n",
       "<path fill=\"none\" stroke=\"black\" d=\"M228.85,-336.6C222.52,-328.29 215.44,-318.99 208.71,-310.16\"/>\n",
       "<polygon fill=\"black\" stroke=\"black\" points=\"211.63,-308.23 202.79,-302.4 206.07,-312.47 211.63,-308.23\"/>\n",
       "</g>\n",
       "<!-- method&#45;wrapper &#39;__hash__&#39; of Node object at 0x000001AEE8B37410 -->\n",
       "<g id=\"node3\" class=\"node\">\n",
       "<title>method&#45;wrapper &#39;__hash__&#39; of Node object at 0x000001AEE8B37410</title>\n",
       "<polygon fill=\"none\" stroke=\"black\" points=\"377.38,-300.75 257.12,-300.75 257.12,-245.5 377.38,-245.5 377.38,-300.75\"/>\n",
       "<text text-anchor=\"middle\" x=\"317.25\" y=\"-283.45\" font-family=\"Times New Roman,serif\" font-size=\"14.00\">flavanoids&lt;=1.785</text>\n",
       "<text text-anchor=\"middle\" x=\"317.25\" y=\"-267.7\" font-family=\"Times New Roman,serif\" font-size=\"14.00\">Gini: 0.554</text>\n",
       "<text text-anchor=\"middle\" x=\"317.25\" y=\"-251.95\" font-family=\"Times New Roman,serif\" font-size=\"14.00\">N. Samples: 78</text>\n",
       "</g>\n",
       "<!-- method&#45;wrapper &#39;__hash__&#39; of Node object at 0x000001AEEB561090&#45;&gt;method&#45;wrapper &#39;__hash__&#39; of Node object at 0x000001AEE8B37410 -->\n",
       "<g id=\"edge2\" class=\"edge\">\n",
       "<title>method&#45;wrapper &#39;__hash__&#39; of Node object at 0x000001AEEB561090&#45;&gt;method&#45;wrapper &#39;__hash__&#39; of Node object at 0x000001AEE8B37410</title>\n",
       "<path fill=\"none\" stroke=\"black\" d=\"M269.65,-336.6C275.98,-328.29 283.06,-318.99 289.79,-310.16\"/>\n",
       "<polygon fill=\"black\" stroke=\"black\" points=\"292.43,-312.47 295.71,-302.4 286.87,-308.23 292.43,-312.47\"/>\n",
       "</g>\n",
       "<!-- method&#45;wrapper &#39;__hash__&#39; of Node object at 0x000001AEEB933D50 -->\n",
       "<g id=\"node4\" class=\"node\">\n",
       "<title>method&#45;wrapper &#39;__hash__&#39; of Node object at 0x000001AEEB933D50</title>\n",
       "<polygon fill=\"none\" stroke=\"black\" points=\"110.5,-209.5 0,-209.5 0,-122.75 110.5,-122.75 110.5,-209.5\"/>\n",
       "<text text-anchor=\"middle\" x=\"55.25\" y=\"-192.2\" font-family=\"Times New Roman,serif\" font-size=\"14.00\">alcohol&lt;=11.430</text>\n",
       "<text text-anchor=\"middle\" x=\"55.25\" y=\"-176.45\" font-family=\"Times New Roman,serif\" font-size=\"14.00\">Gini: 0.000</text>\n",
       "<text text-anchor=\"middle\" x=\"55.25\" y=\"-160.7\" font-family=\"Times New Roman,serif\" font-size=\"14.00\">Leaf: True</text>\n",
       "<text text-anchor=\"middle\" x=\"55.25\" y=\"-144.95\" font-family=\"Times New Roman,serif\" font-size=\"14.00\">N. Samples: 43</text>\n",
       "<text text-anchor=\"middle\" x=\"55.25\" y=\"-129.2\" font-family=\"Times New Roman,serif\" font-size=\"14.00\">Output: 1.000</text>\n",
       "</g>\n",
       "<!-- method&#45;wrapper &#39;__hash__&#39; of Node object at 0x000001AEEB8E4090&#45;&gt;method&#45;wrapper &#39;__hash__&#39; of Node object at 0x000001AEEB933D50 -->\n",
       "<g id=\"edge3\" class=\"edge\">\n",
       "<title>method&#45;wrapper &#39;__hash__&#39; of Node object at 0x000001AEEB8E4090&#45;&gt;method&#45;wrapper &#39;__hash__&#39; of Node object at 0x000001AEEB933D50</title>\n",
       "<path fill=\"none\" stroke=\"black\" d=\"M148.8,-245.08C138.58,-236.56 126.93,-226.86 115.41,-217.26\"/>\n",
       "<polygon fill=\"black\" stroke=\"black\" points=\"117.74,-214.65 107.82,-210.93 113.26,-220.02 117.74,-214.65\"/>\n",
       "</g>\n",
       "<!-- method&#45;wrapper &#39;__hash__&#39; of Node object at 0x000001AEEBAD3B50 -->\n",
       "<g id=\"node5\" class=\"node\">\n",
       "<title>method&#45;wrapper &#39;__hash__&#39; of Node object at 0x000001AEEBAD3B50</title>\n",
       "<polygon fill=\"none\" stroke=\"black\" points=\"239.5,-209.5 129,-209.5 129,-122.75 239.5,-122.75 239.5,-209.5\"/>\n",
       "<text text-anchor=\"middle\" x=\"184.25\" y=\"-192.2\" font-family=\"Times New Roman,serif\" font-size=\"14.00\">alcohol&lt;=13.020</text>\n",
       "<text text-anchor=\"middle\" x=\"184.25\" y=\"-176.45\" font-family=\"Times New Roman,serif\" font-size=\"14.00\">Gini: 0.444</text>\n",
       "<text text-anchor=\"middle\" x=\"184.25\" y=\"-160.7\" font-family=\"Times New Roman,serif\" font-size=\"14.00\">Leaf: True</text>\n",
       "<text text-anchor=\"middle\" x=\"184.25\" y=\"-144.95\" font-family=\"Times New Roman,serif\" font-size=\"14.00\">N. Samples: 3</text>\n",
       "<text text-anchor=\"middle\" x=\"184.25\" y=\"-129.2\" font-family=\"Times New Roman,serif\" font-size=\"14.00\">Output: 0.000</text>\n",
       "</g>\n",
       "<!-- method&#45;wrapper &#39;__hash__&#39; of Node object at 0x000001AEEB8E4090&#45;&gt;method&#45;wrapper &#39;__hash__&#39; of Node object at 0x000001AEEBAD3B50 -->\n",
       "<g id=\"edge4\" class=\"edge\">\n",
       "<title>method&#45;wrapper &#39;__hash__&#39; of Node object at 0x000001AEEB8E4090&#45;&gt;method&#45;wrapper &#39;__hash__&#39; of Node object at 0x000001AEEBAD3B50</title>\n",
       "<path fill=\"none\" stroke=\"black\" d=\"M182.02,-245.08C182.23,-237.73 182.47,-229.5 182.7,-221.22\"/>\n",
       "<polygon fill=\"black\" stroke=\"black\" points=\"186.2,-221.57 182.98,-211.48 179.2,-221.37 186.2,-221.57\"/>\n",
       "</g>\n",
       "<!-- method&#45;wrapper &#39;__hash__&#39; of Node object at 0x000001AEEBAC3B10 -->\n",
       "<g id=\"node6\" class=\"node\">\n",
       "<title>method&#45;wrapper &#39;__hash__&#39; of Node object at 0x000001AEEBAC3B10</title>\n",
       "<polygon fill=\"none\" stroke=\"black\" points=\"364.62,-193.75 263.88,-193.75 263.88,-138.5 364.62,-138.5 364.62,-193.75\"/>\n",
       "<text text-anchor=\"middle\" x=\"314.25\" y=\"-176.45\" font-family=\"Times New Roman,serif\" font-size=\"14.00\">ash&lt;=2.085</text>\n",
       "<text text-anchor=\"middle\" x=\"314.25\" y=\"-160.7\" font-family=\"Times New Roman,serif\" font-size=\"14.00\">Gini: 0.057</text>\n",
       "<text text-anchor=\"middle\" x=\"314.25\" y=\"-144.95\" font-family=\"Times New Roman,serif\" font-size=\"14.00\">N. Samples: 34</text>\n",
       "</g>\n",
       "<!-- method&#45;wrapper &#39;__hash__&#39; of Node object at 0x000001AEE8B37410&#45;&gt;method&#45;wrapper &#39;__hash__&#39; of Node object at 0x000001AEEBAC3B10 -->\n",
       "<g id=\"edge5\" class=\"edge\">\n",
       "<title>method&#45;wrapper &#39;__hash__&#39; of Node object at 0x000001AEE8B37410&#45;&gt;method&#45;wrapper &#39;__hash__&#39; of Node object at 0x000001AEEBAC3B10</title>\n",
       "<path fill=\"none\" stroke=\"black\" d=\"M316.48,-245.08C316.13,-232.96 315.72,-218.44 315.34,-205.24\"/>\n",
       "<polygon fill=\"black\" stroke=\"black\" points=\"318.85,-205.48 315.06,-195.59 311.85,-205.68 318.85,-205.48\"/>\n",
       "</g>\n",
       "<!-- method&#45;wrapper &#39;__hash__&#39; of Node object at 0x000001AEEB823710 -->\n",
       "<g id=\"node7\" class=\"node\">\n",
       "<title>method&#45;wrapper &#39;__hash__&#39; of Node object at 0x000001AEEB823710</title>\n",
       "<polygon fill=\"none\" stroke=\"black\" points=\"505.88,-193.75 382.62,-193.75 382.62,-138.5 505.88,-138.5 505.88,-193.75\"/>\n",
       "<text text-anchor=\"middle\" x=\"444.25\" y=\"-176.45\" font-family=\"Times New Roman,serif\" font-size=\"14.00\">malic_acid&lt;=1.260</text>\n",
       "<text text-anchor=\"middle\" x=\"444.25\" y=\"-160.7\" font-family=\"Times New Roman,serif\" font-size=\"14.00\">Gini: 0.165</text>\n",
       "<text text-anchor=\"middle\" x=\"444.25\" y=\"-144.95\" font-family=\"Times New Roman,serif\" font-size=\"14.00\">N. Samples: 44</text>\n",
       "</g>\n",
       "<!-- method&#45;wrapper &#39;__hash__&#39; of Node object at 0x000001AEE8B37410&#45;&gt;method&#45;wrapper &#39;__hash__&#39; of Node object at 0x000001AEEB823710 -->\n",
       "<g id=\"edge6\" class=\"edge\">\n",
       "<title>method&#45;wrapper &#39;__hash__&#39; of Node object at 0x000001AEE8B37410&#45;&gt;method&#45;wrapper &#39;__hash__&#39; of Node object at 0x000001AEEB823710</title>\n",
       "<path fill=\"none\" stroke=\"black\" d=\"M349.96,-245.08C366.1,-231.74 385.75,-215.49 402.93,-201.29\"/>\n",
       "<polygon fill=\"black\" stroke=\"black\" points=\"405.01,-204.11 410.49,-195.04 400.55,-198.71 405.01,-204.11\"/>\n",
       "</g>\n",
       "<!-- method&#45;wrapper &#39;__hash__&#39; of Node object at 0x000001AEEB686690 -->\n",
       "<g id=\"node8\" class=\"node\">\n",
       "<title>method&#45;wrapper &#39;__hash__&#39; of Node object at 0x000001AEEB686690</title>\n",
       "<polygon fill=\"none\" stroke=\"black\" points=\"369.5,-86.75 259,-86.75 259,0 369.5,0 369.5,-86.75\"/>\n",
       "<text text-anchor=\"middle\" x=\"314.25\" y=\"-69.45\" font-family=\"Times New Roman,serif\" font-size=\"14.00\">alcohol&lt;=12.225</text>\n",
       "<text text-anchor=\"middle\" x=\"314.25\" y=\"-53.7\" font-family=\"Times New Roman,serif\" font-size=\"14.00\">Gini: 0.000</text>\n",
       "<text text-anchor=\"middle\" x=\"314.25\" y=\"-37.95\" font-family=\"Times New Roman,serif\" font-size=\"14.00\">Leaf: True</text>\n",
       "<text text-anchor=\"middle\" x=\"314.25\" y=\"-22.2\" font-family=\"Times New Roman,serif\" font-size=\"14.00\">N. Samples: 33</text>\n",
       "<text text-anchor=\"middle\" x=\"314.25\" y=\"-6.45\" font-family=\"Times New Roman,serif\" font-size=\"14.00\">Output: 2.000</text>\n",
       "</g>\n",
       "<!-- method&#45;wrapper &#39;__hash__&#39; of Node object at 0x000001AEEBAC3B10&#45;&gt;method&#45;wrapper &#39;__hash__&#39; of Node object at 0x000001AEEB686690 -->\n",
       "<g id=\"edge7\" class=\"edge\">\n",
       "<title>method&#45;wrapper &#39;__hash__&#39; of Node object at 0x000001AEEBAC3B10&#45;&gt;method&#45;wrapper &#39;__hash__&#39; of Node object at 0x000001AEEB686690</title>\n",
       "<path fill=\"none\" stroke=\"black\" d=\"M314.25,-138.03C314.25,-126.29 314.25,-112.12 314.25,-98.39\"/>\n",
       "<polygon fill=\"black\" stroke=\"black\" points=\"317.75,-98.54 314.25,-88.54 310.75,-98.54 317.75,-98.54\"/>\n",
       "</g>\n",
       "<!-- method&#45;wrapper &#39;__hash__&#39; of Node object at 0x000001AEEBAD5A10 -->\n",
       "<g id=\"node9\" class=\"node\">\n",
       "<title>method&#45;wrapper &#39;__hash__&#39; of Node object at 0x000001AEEBAD5A10</title>\n",
       "<polygon fill=\"none\" stroke=\"black\" points=\"498.5,-86.75 388,-86.75 388,0 498.5,0 498.5,-86.75\"/>\n",
       "<text text-anchor=\"middle\" x=\"443.25\" y=\"-69.45\" font-family=\"Times New Roman,serif\" font-size=\"14.00\">alcohol&lt;=12.370</text>\n",
       "<text text-anchor=\"middle\" x=\"443.25\" y=\"-53.7\" font-family=\"Times New Roman,serif\" font-size=\"14.00\">Gini: 0.000</text>\n",
       "<text text-anchor=\"middle\" x=\"443.25\" y=\"-37.95\" font-family=\"Times New Roman,serif\" font-size=\"14.00\">Leaf: True</text>\n",
       "<text text-anchor=\"middle\" x=\"443.25\" y=\"-22.2\" font-family=\"Times New Roman,serif\" font-size=\"14.00\">N. Samples: 4</text>\n",
       "<text text-anchor=\"middle\" x=\"443.25\" y=\"-6.45\" font-family=\"Times New Roman,serif\" font-size=\"14.00\">Output: 1.000</text>\n",
       "</g>\n",
       "<!-- method&#45;wrapper &#39;__hash__&#39; of Node object at 0x000001AEEB823710&#45;&gt;method&#45;wrapper &#39;__hash__&#39; of Node object at 0x000001AEEBAD5A10 -->\n",
       "<g id=\"edge8\" class=\"edge\">\n",
       "<title>method&#45;wrapper &#39;__hash__&#39; of Node object at 0x000001AEEB823710&#45;&gt;method&#45;wrapper &#39;__hash__&#39; of Node object at 0x000001AEEBAD5A10</title>\n",
       "<path fill=\"none\" stroke=\"black\" d=\"M444.03,-138.03C443.93,-126.29 443.81,-112.12 443.7,-98.39\"/>\n",
       "<polygon fill=\"black\" stroke=\"black\" points=\"447.2,-98.51 443.62,-88.54 440.2,-98.57 447.2,-98.51\"/>\n",
       "</g>\n",
       "<!-- method&#45;wrapper &#39;__hash__&#39; of Node object at 0x000001AEEB731190 -->\n",
       "<g id=\"node10\" class=\"node\">\n",
       "<title>method&#45;wrapper &#39;__hash__&#39; of Node object at 0x000001AEEB731190</title>\n",
       "<polygon fill=\"none\" stroke=\"black\" points=\"627.5,-86.75 517,-86.75 517,0 627.5,0 627.5,-86.75\"/>\n",
       "<text text-anchor=\"middle\" x=\"572.25\" y=\"-69.45\" font-family=\"Times New Roman,serif\" font-size=\"14.00\">alcohol&lt;=12.950</text>\n",
       "<text text-anchor=\"middle\" x=\"572.25\" y=\"-53.7\" font-family=\"Times New Roman,serif\" font-size=\"14.00\">Gini: 0.000</text>\n",
       "<text text-anchor=\"middle\" x=\"572.25\" y=\"-37.95\" font-family=\"Times New Roman,serif\" font-size=\"14.00\">Leaf: True</text>\n",
       "<text text-anchor=\"middle\" x=\"572.25\" y=\"-22.2\" font-family=\"Times New Roman,serif\" font-size=\"14.00\">N. Samples: 40</text>\n",
       "<text text-anchor=\"middle\" x=\"572.25\" y=\"-6.45\" font-family=\"Times New Roman,serif\" font-size=\"14.00\">Output: 0.000</text>\n",
       "</g>\n",
       "<!-- method&#45;wrapper &#39;__hash__&#39; of Node object at 0x000001AEEB823710&#45;&gt;method&#45;wrapper &#39;__hash__&#39; of Node object at 0x000001AEEB731190 -->\n",
       "<g id=\"edge9\" class=\"edge\">\n",
       "<title>method&#45;wrapper &#39;__hash__&#39; of Node object at 0x000001AEEB823710&#45;&gt;method&#45;wrapper &#39;__hash__&#39; of Node object at 0x000001AEEB731190</title>\n",
       "<path fill=\"none\" stroke=\"black\" d=\"M472.98,-138.03C486.53,-125.24 503.16,-109.55 518.91,-94.7\"/>\n",
       "<polygon fill=\"black\" stroke=\"black\" points=\"521.06,-97.47 525.94,-88.07 516.26,-92.38 521.06,-97.47\"/>\n",
       "</g>\n",
       "</g>\n",
       "</svg>\n"
      ],
      "text/plain": [
       "<graphviz.graphs.Digraph at 0x1aeea988f10>"
      ]
     },
     "execution_count": 9,
     "metadata": {},
     "output_type": "execute_result"
    }
   ],
   "source": [
    "plot_tree(dtc)"
   ]
  },
  {
   "cell_type": "markdown",
   "metadata": {},
   "source": [
    "#### Random Forest Classifier"
   ]
  },
  {
   "cell_type": "code",
   "execution_count": 10,
   "metadata": {},
   "outputs": [
    {
     "name": "stdout",
     "output_type": "stream",
     "text": [
      "Train Loss: 0.8790322580645161\tTest Loss: 0.8333333333333334\n",
      "Train Loss: 0.9919354838709677\tTest Loss: 0.9259259259259259\n",
      "Train Loss: 0.9838709677419355\tTest Loss: 0.9629629629629629\n",
      "Train Loss: 0.9838709677419355\tTest Loss: 0.9629629629629629\n",
      "Train Loss: 0.9838709677419355\tTest Loss: 0.9629629629629629\n",
      "Train Loss: 0.9838709677419355\tTest Loss: 0.9814814814814815\n",
      "              precision    recall  f1-score   support\n",
      "\n",
      "           0       1.00      1.00      1.00        17\n",
      "           1       1.00      0.95      0.98        22\n",
      "           2       0.94      1.00      0.97        15\n",
      "\n",
      "    accuracy                           0.98        54\n",
      "   macro avg       0.98      0.98      0.98        54\n",
      "weighted avg       0.98      0.98      0.98        54\n",
      "\n"
     ]
    }
   ],
   "source": [
    "from rlearn.tree import RandomForestClassifier\n",
    "\n",
    "forest = RandomForestClassifier(max_depth=5, n_estimators=200, bootstrap_size=int(np.sqrt(len(X_train))))\n",
    "forest.fit(X_train, y_train, X_test, y_test, verbose=40)\n",
    "\n",
    "print(classification_report(y_test, forest.predict(X_test)))"
   ]
  },
  {
   "cell_type": "markdown",
   "metadata": {},
   "source": [
    "<sub>[Back to top.](#table-of-contents)</sub>"
   ]
  }
 ],
 "metadata": {
  "kernelspec": {
   "display_name": "Python 3",
   "language": "python",
   "name": "python3"
  },
  "language_info": {
   "codemirror_mode": {
    "name": "ipython",
    "version": 3
   },
   "file_extension": ".py",
   "mimetype": "text/x-python",
   "name": "python",
   "nbconvert_exporter": "python",
   "pygments_lexer": "ipython3",
   "version": "3.11.8"
  }
 },
 "nbformat": 4,
 "nbformat_minor": 2
}
